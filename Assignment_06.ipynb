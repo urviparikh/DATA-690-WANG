{
  "nbformat": 4,
  "nbformat_minor": 0,
  "metadata": {
    "colab": {
      "name": "Assignment-06.ipynb",
      "provenance": [],
      "authorship_tag": "ABX9TyN+TZhXWOHSxhakMm7ZhNLv",
      "include_colab_link": true
    },
    "kernelspec": {
      "name": "python3",
      "display_name": "Python 3"
    }
  },
  "cells": [
    {
      "cell_type": "markdown",
      "metadata": {
        "id": "view-in-github",
        "colab_type": "text"
      },
      "source": [
        "<a href=\"https://colab.research.google.com/github/urviparikh/DATA-690-WANG/blob/main/Assignment_06.ipynb\" target=\"_parent\"><img src=\"https://colab.research.google.com/assets/colab-badge.svg\" alt=\"Open In Colab\"/></a>"
      ]
    },
    {
      "cell_type": "markdown",
      "metadata": {
        "id": "-kEfmBIMtupl"
      },
      "source": [
        "# Assignment-06\n",
        "\n",
        "**Author - Urvi Parikh**"
      ]
    },
    {
      "cell_type": "markdown",
      "metadata": {
        "id": "SSQS3YiELZu7"
      },
      "source": [
        "### 1. Use Pandas read_html() function to retrive the HTML tables as dataframes from the web page:"
      ]
    },
    {
      "cell_type": "code",
      "metadata": {
        "id": "gu7AW4HkJOv0"
      },
      "source": [
        "import pandas as pd\n"
      ],
      "execution_count": null,
      "outputs": []
    },
    {
      "cell_type": "code",
      "metadata": {
        "id": "nq_P0C9ys9jY"
      },
      "source": [
        "import warnings \n",
        "warnings.filterwarnings('ignore') # to avoid listing warnings and recommendations within code"
      ],
      "execution_count": null,
      "outputs": []
    },
    {
      "cell_type": "markdown",
      "metadata": {
        "id": "xNU1xpVfLflg"
      },
      "source": [
        "### 2. Find out how many HTML tables Pandas retrieves from the web page."
      ]
    },
    {
      "cell_type": "code",
      "metadata": {
        "colab": {
          "base_uri": "https://localhost:8080/"
        },
        "id": "7DltmYCLKNLM",
        "outputId": "a1603190-c8e3-463c-83e8-adee6ad98c34"
      },
      "source": [
        "df = pd.read_html(\"https://www.genealogybranches.com/censuscosts.html\") # read_html directly reads a webpage\n",
        "len(df)"
      ],
      "execution_count": null,
      "outputs": [
        {
          "output_type": "execute_result",
          "data": {
            "text/plain": [
              "2"
            ]
          },
          "metadata": {
            "tags": []
          },
          "execution_count": 80
        }
      ]
    },
    {
      "cell_type": "markdown",
      "metadata": {
        "id": "1Wb0DC-7LFyj"
      },
      "source": [
        "**This means that Pandas read there are 2 HTML tables on the webpage.**"
      ]
    },
    {
      "cell_type": "markdown",
      "metadata": {
        "id": "HJ2QHQhJL20x"
      },
      "source": [
        "### Find out which dataframe contain the data and use it for further processing."
      ]
    },
    {
      "cell_type": "code",
      "metadata": {
        "id": "CCtMNrseLUB2"
      },
      "source": [
        "df1 = df[0] # the first dataframe containing the first table\n",
        "df2 = df[1] # the second dataframe containing the second table"
      ],
      "execution_count": null,
      "outputs": []
    },
    {
      "cell_type": "code",
      "metadata": {
        "colab": {
          "base_uri": "https://localhost:8080/",
          "height": 793
        },
        "id": "R579GgnHMrdm",
        "outputId": "7129a73f-d030-40ff-ed7a-970f75bfd6d2"
      },
      "source": [
        "df1"
      ],
      "execution_count": null,
      "outputs": [
        {
          "output_type": "execute_result",
          "data": {
            "text/html": [
              "<div>\n",
              "<style scoped>\n",
              "    .dataframe tbody tr th:only-of-type {\n",
              "        vertical-align: middle;\n",
              "    }\n",
              "\n",
              "    .dataframe tbody tr th {\n",
              "        vertical-align: top;\n",
              "    }\n",
              "\n",
              "    .dataframe thead th {\n",
              "        text-align: right;\n",
              "    }\n",
              "</style>\n",
              "<table border=\"1\" class=\"dataframe\">\n",
              "  <thead>\n",
              "    <tr style=\"text-align: right;\">\n",
              "      <th></th>\n",
              "      <th>0</th>\n",
              "      <th>1</th>\n",
              "      <th>2</th>\n",
              "      <th>3</th>\n",
              "    </tr>\n",
              "  </thead>\n",
              "  <tbody>\n",
              "    <tr>\n",
              "      <th>0</th>\n",
              "      <td>Census Year</td>\n",
              "      <td>Total Population</td>\n",
              "      <td>Census Cost</td>\n",
              "      <td>Average Cost Per Person</td>\n",
              "    </tr>\n",
              "    <tr>\n",
              "      <th>1</th>\n",
              "      <td>1790</td>\n",
              "      <td>3929214</td>\n",
              "      <td>$44,377</td>\n",
              "      <td>1.13 cents</td>\n",
              "    </tr>\n",
              "    <tr>\n",
              "      <th>2</th>\n",
              "      <td>1800</td>\n",
              "      <td>5308483</td>\n",
              "      <td>$66,109</td>\n",
              "      <td>1.24 cents</td>\n",
              "    </tr>\n",
              "    <tr>\n",
              "      <th>3</th>\n",
              "      <td>1810</td>\n",
              "      <td>7239881</td>\n",
              "      <td>$178,445</td>\n",
              "      <td>2.46 cents</td>\n",
              "    </tr>\n",
              "    <tr>\n",
              "      <th>4</th>\n",
              "      <td>1820</td>\n",
              "      <td>9633822</td>\n",
              "      <td>$208,526</td>\n",
              "      <td>2.16 cents</td>\n",
              "    </tr>\n",
              "    <tr>\n",
              "      <th>5</th>\n",
              "      <td>1830</td>\n",
              "      <td>12866020</td>\n",
              "      <td>$378,545</td>\n",
              "      <td>2.94 cents</td>\n",
              "    </tr>\n",
              "    <tr>\n",
              "      <th>6</th>\n",
              "      <td>1840</td>\n",
              "      <td>17069458</td>\n",
              "      <td>$833,371</td>\n",
              "      <td>4.88 cents</td>\n",
              "    </tr>\n",
              "    <tr>\n",
              "      <th>7</th>\n",
              "      <td>1850</td>\n",
              "      <td>23191876</td>\n",
              "      <td>$1,423,351</td>\n",
              "      <td>6.14 cents</td>\n",
              "    </tr>\n",
              "    <tr>\n",
              "      <th>8</th>\n",
              "      <td>1860</td>\n",
              "      <td>31443321</td>\n",
              "      <td>$1,969,377</td>\n",
              "      <td>6.26 cents</td>\n",
              "    </tr>\n",
              "    <tr>\n",
              "      <th>9</th>\n",
              "      <td>1870</td>\n",
              "      <td>38558371</td>\n",
              "      <td>$3,421,198</td>\n",
              "      <td>8.87 cents</td>\n",
              "    </tr>\n",
              "    <tr>\n",
              "      <th>10</th>\n",
              "      <td>1880</td>\n",
              "      <td>50155783</td>\n",
              "      <td>$5,790,678</td>\n",
              "      <td>11.54 cents</td>\n",
              "    </tr>\n",
              "    <tr>\n",
              "      <th>11</th>\n",
              "      <td>1890</td>\n",
              "      <td>62979766</td>\n",
              "      <td>$11,547,127</td>\n",
              "      <td>18.33 cents</td>\n",
              "    </tr>\n",
              "    <tr>\n",
              "      <th>12</th>\n",
              "      <td>1900</td>\n",
              "      <td>76303387</td>\n",
              "      <td>$11,854,000</td>\n",
              "      <td>15.54 cents</td>\n",
              "    </tr>\n",
              "    <tr>\n",
              "      <th>13</th>\n",
              "      <td>1910</td>\n",
              "      <td>91972266</td>\n",
              "      <td>$15,968,000</td>\n",
              "      <td>17.07 cents</td>\n",
              "    </tr>\n",
              "    <tr>\n",
              "      <th>14</th>\n",
              "      <td>1920</td>\n",
              "      <td>105710620</td>\n",
              "      <td>$25,117,000</td>\n",
              "      <td>23.76 cents</td>\n",
              "    </tr>\n",
              "    <tr>\n",
              "      <th>15</th>\n",
              "      <td>1930</td>\n",
              "      <td>122775046</td>\n",
              "      <td>$40,156,000</td>\n",
              "      <td>32.71 cents</td>\n",
              "    </tr>\n",
              "    <tr>\n",
              "      <th>16</th>\n",
              "      <td>1940</td>\n",
              "      <td>131669275</td>\n",
              "      <td>$67,527,000</td>\n",
              "      <td>51.29 cents</td>\n",
              "    </tr>\n",
              "    <tr>\n",
              "      <th>17</th>\n",
              "      <td>1950</td>\n",
              "      <td>151325798</td>\n",
              "      <td>$91,462,000</td>\n",
              "      <td>60.44 cents</td>\n",
              "    </tr>\n",
              "    <tr>\n",
              "      <th>18</th>\n",
              "      <td>1960</td>\n",
              "      <td>179323175</td>\n",
              "      <td>$127,934,000</td>\n",
              "      <td>71.34 cents</td>\n",
              "    </tr>\n",
              "    <tr>\n",
              "      <th>19</th>\n",
              "      <td>1970</td>\n",
              "      <td>203302031</td>\n",
              "      <td>$247,653,000</td>\n",
              "      <td>$1.22</td>\n",
              "    </tr>\n",
              "    <tr>\n",
              "      <th>20</th>\n",
              "      <td>1980</td>\n",
              "      <td>226542199</td>\n",
              "      <td>$1,078,488,000</td>\n",
              "      <td>$4.76</td>\n",
              "    </tr>\n",
              "    <tr>\n",
              "      <th>21</th>\n",
              "      <td>1990</td>\n",
              "      <td>248718301</td>\n",
              "      <td>$2,492,830,000</td>\n",
              "      <td>$10.02</td>\n",
              "    </tr>\n",
              "    <tr>\n",
              "      <th>22</th>\n",
              "      <td>2000</td>\n",
              "      <td>281421906</td>\n",
              "      <td>$4.5 Billion</td>\n",
              "      <td>$15.99</td>\n",
              "    </tr>\n",
              "    <tr>\n",
              "      <th>23</th>\n",
              "      <td>2010*</td>\n",
              "      <td>308745538</td>\n",
              "      <td>$13 Billion</td>\n",
              "      <td>$42.11</td>\n",
              "    </tr>\n",
              "  </tbody>\n",
              "</table>\n",
              "</div>"
            ],
            "text/plain": [
              "              0                 1               2                        3\n",
              "0   Census Year  Total Population     Census Cost  Average Cost Per Person\n",
              "1          1790           3929214         $44,377               1.13 cents\n",
              "2          1800           5308483         $66,109               1.24 cents\n",
              "3          1810           7239881        $178,445               2.46 cents\n",
              "4          1820           9633822        $208,526               2.16 cents\n",
              "5          1830          12866020        $378,545               2.94 cents\n",
              "6          1840          17069458        $833,371               4.88 cents\n",
              "7          1850          23191876      $1,423,351               6.14 cents\n",
              "8          1860          31443321      $1,969,377               6.26 cents\n",
              "9          1870          38558371      $3,421,198               8.87 cents\n",
              "10         1880          50155783      $5,790,678              11.54 cents\n",
              "11         1890          62979766     $11,547,127              18.33 cents\n",
              "12         1900          76303387     $11,854,000              15.54 cents\n",
              "13         1910          91972266     $15,968,000              17.07 cents\n",
              "14         1920         105710620     $25,117,000              23.76 cents\n",
              "15         1930         122775046     $40,156,000              32.71 cents\n",
              "16         1940         131669275     $67,527,000              51.29 cents\n",
              "17         1950         151325798     $91,462,000              60.44 cents\n",
              "18         1960         179323175    $127,934,000              71.34 cents\n",
              "19         1970         203302031    $247,653,000                    $1.22\n",
              "20         1980         226542199  $1,078,488,000                    $4.76\n",
              "21         1990         248718301  $2,492,830,000                   $10.02\n",
              "22         2000         281421906    $4.5 Billion                   $15.99\n",
              "23        2010*         308745538     $13 Billion                   $42.11"
            ]
          },
          "metadata": {
            "tags": []
          },
          "execution_count": 82
        }
      ]
    },
    {
      "cell_type": "code",
      "metadata": {
        "colab": {
          "base_uri": "https://localhost:8080/",
          "height": 80
        },
        "id": "2hgdPYdAMtGN",
        "outputId": "b7a8bcbb-57b4-44b0-870c-afe59b0f9cec"
      },
      "source": [
        "df2"
      ],
      "execution_count": null,
      "outputs": [
        {
          "output_type": "execute_result",
          "data": {
            "text/html": [
              "<div>\n",
              "<style scoped>\n",
              "    .dataframe tbody tr th:only-of-type {\n",
              "        vertical-align: middle;\n",
              "    }\n",
              "\n",
              "    .dataframe tbody tr th {\n",
              "        vertical-align: top;\n",
              "    }\n",
              "\n",
              "    .dataframe thead th {\n",
              "        text-align: right;\n",
              "    }\n",
              "</style>\n",
              "<table border=\"1\" class=\"dataframe\">\n",
              "  <thead>\n",
              "    <tr style=\"text-align: right;\">\n",
              "      <th></th>\n",
              "      <th>0</th>\n",
              "    </tr>\n",
              "  </thead>\n",
              "  <tbody>\n",
              "    <tr>\n",
              "      <th>0</th>\n",
              "      <td>The U.S. population reached 300,000,000 on 17 ...</td>\n",
              "    </tr>\n",
              "  </tbody>\n",
              "</table>\n",
              "</div>"
            ],
            "text/plain": [
              "                                                   0\n",
              "0  The U.S. population reached 300,000,000 on 17 ..."
            ]
          },
          "metadata": {
            "tags": []
          },
          "execution_count": 83
        }
      ]
    },
    {
      "cell_type": "markdown",
      "metadata": {
        "id": "jLTAqLl0MTiN"
      },
      "source": [
        "**Dataframe df1 is the one we will use as it contains the data we need**"
      ]
    },
    {
      "cell_type": "markdown",
      "metadata": {
        "id": "8_k21jh1MKfN"
      },
      "source": [
        "### 3. Display and explore the data (rows, columns, etc.) and determine the data quality (bad rows, bad columns, bad elements, null values, etc.)\n"
      ]
    },
    {
      "cell_type": "code",
      "metadata": {
        "colab": {
          "base_uri": "https://localhost:8080/",
          "height": 204
        },
        "id": "nZ9qGulsMN_Z",
        "outputId": "b25397eb-a30e-4358-bb2a-b583fbceeaff"
      },
      "source": [
        "first_row = df1.iloc[0] # to ensure the headers are in the first row\n",
        "df1 = df1[1:]\n",
        "df1.columns = first_row\n",
        "\n",
        "df1.head()"
      ],
      "execution_count": null,
      "outputs": [
        {
          "output_type": "execute_result",
          "data": {
            "text/html": [
              "<div>\n",
              "<style scoped>\n",
              "    .dataframe tbody tr th:only-of-type {\n",
              "        vertical-align: middle;\n",
              "    }\n",
              "\n",
              "    .dataframe tbody tr th {\n",
              "        vertical-align: top;\n",
              "    }\n",
              "\n",
              "    .dataframe thead th {\n",
              "        text-align: right;\n",
              "    }\n",
              "</style>\n",
              "<table border=\"1\" class=\"dataframe\">\n",
              "  <thead>\n",
              "    <tr style=\"text-align: right;\">\n",
              "      <th></th>\n",
              "      <th>Census Year</th>\n",
              "      <th>Total Population</th>\n",
              "      <th>Census Cost</th>\n",
              "      <th>Average Cost Per Person</th>\n",
              "    </tr>\n",
              "  </thead>\n",
              "  <tbody>\n",
              "    <tr>\n",
              "      <th>1</th>\n",
              "      <td>1790</td>\n",
              "      <td>3929214</td>\n",
              "      <td>$44,377</td>\n",
              "      <td>1.13 cents</td>\n",
              "    </tr>\n",
              "    <tr>\n",
              "      <th>2</th>\n",
              "      <td>1800</td>\n",
              "      <td>5308483</td>\n",
              "      <td>$66,109</td>\n",
              "      <td>1.24 cents</td>\n",
              "    </tr>\n",
              "    <tr>\n",
              "      <th>3</th>\n",
              "      <td>1810</td>\n",
              "      <td>7239881</td>\n",
              "      <td>$178,445</td>\n",
              "      <td>2.46 cents</td>\n",
              "    </tr>\n",
              "    <tr>\n",
              "      <th>4</th>\n",
              "      <td>1820</td>\n",
              "      <td>9633822</td>\n",
              "      <td>$208,526</td>\n",
              "      <td>2.16 cents</td>\n",
              "    </tr>\n",
              "    <tr>\n",
              "      <th>5</th>\n",
              "      <td>1830</td>\n",
              "      <td>12866020</td>\n",
              "      <td>$378,545</td>\n",
              "      <td>2.94 cents</td>\n",
              "    </tr>\n",
              "  </tbody>\n",
              "</table>\n",
              "</div>"
            ],
            "text/plain": [
              "0 Census Year Total Population Census Cost Average Cost Per Person\n",
              "1        1790          3929214     $44,377              1.13 cents\n",
              "2        1800          5308483     $66,109              1.24 cents\n",
              "3        1810          7239881    $178,445              2.46 cents\n",
              "4        1820          9633822    $208,526              2.16 cents\n",
              "5        1830         12866020    $378,545              2.94 cents"
            ]
          },
          "metadata": {
            "tags": []
          },
          "execution_count": 84
        }
      ]
    },
    {
      "cell_type": "code",
      "metadata": {
        "colab": {
          "base_uri": "https://localhost:8080/",
          "height": 173
        },
        "id": "1plKTbDTN0QN",
        "outputId": "f5f7ff33-60a6-4cfe-ee98-6f11ec51f3e1"
      },
      "source": [
        "df1.describe() # to obtain the data type, frequency, row numbers"
      ],
      "execution_count": null,
      "outputs": [
        {
          "output_type": "execute_result",
          "data": {
            "text/html": [
              "<div>\n",
              "<style scoped>\n",
              "    .dataframe tbody tr th:only-of-type {\n",
              "        vertical-align: middle;\n",
              "    }\n",
              "\n",
              "    .dataframe tbody tr th {\n",
              "        vertical-align: top;\n",
              "    }\n",
              "\n",
              "    .dataframe thead th {\n",
              "        text-align: right;\n",
              "    }\n",
              "</style>\n",
              "<table border=\"1\" class=\"dataframe\">\n",
              "  <thead>\n",
              "    <tr style=\"text-align: right;\">\n",
              "      <th></th>\n",
              "      <th>Census Year</th>\n",
              "      <th>Total Population</th>\n",
              "      <th>Census Cost</th>\n",
              "      <th>Average Cost Per Person</th>\n",
              "    </tr>\n",
              "  </thead>\n",
              "  <tbody>\n",
              "    <tr>\n",
              "      <th>count</th>\n",
              "      <td>23</td>\n",
              "      <td>23</td>\n",
              "      <td>23</td>\n",
              "      <td>23</td>\n",
              "    </tr>\n",
              "    <tr>\n",
              "      <th>unique</th>\n",
              "      <td>23</td>\n",
              "      <td>23</td>\n",
              "      <td>23</td>\n",
              "      <td>23</td>\n",
              "    </tr>\n",
              "    <tr>\n",
              "      <th>top</th>\n",
              "      <td>1990</td>\n",
              "      <td>226542199</td>\n",
              "      <td>$2,492,830,000</td>\n",
              "      <td>51.29 cents</td>\n",
              "    </tr>\n",
              "    <tr>\n",
              "      <th>freq</th>\n",
              "      <td>1</td>\n",
              "      <td>1</td>\n",
              "      <td>1</td>\n",
              "      <td>1</td>\n",
              "    </tr>\n",
              "  </tbody>\n",
              "</table>\n",
              "</div>"
            ],
            "text/plain": [
              "0      Census Year Total Population     Census Cost Average Cost Per Person\n",
              "count           23               23              23                      23\n",
              "unique          23               23              23                      23\n",
              "top           1990        226542199  $2,492,830,000             51.29 cents\n",
              "freq             1                1               1                       1"
            ]
          },
          "metadata": {
            "tags": []
          },
          "execution_count": 85
        }
      ]
    },
    {
      "cell_type": "code",
      "metadata": {
        "colab": {
          "base_uri": "https://localhost:8080/"
        },
        "id": "p5DTPESAOnrp",
        "outputId": "6a0de23a-e574-4524-8a7d-2a915d4250bd"
      },
      "source": [
        "df1.info() # to identify number of columns, null values, data quality\n"
      ],
      "execution_count": null,
      "outputs": [
        {
          "output_type": "stream",
          "text": [
            "<class 'pandas.core.frame.DataFrame'>\n",
            "RangeIndex: 23 entries, 1 to 23\n",
            "Data columns (total 4 columns):\n",
            " #   Column                   Non-Null Count  Dtype \n",
            "---  ------                   --------------  ----- \n",
            " 0   Census Year              23 non-null     object\n",
            " 1   Total Population         23 non-null     object\n",
            " 2   Census Cost              23 non-null     object\n",
            " 3   Average Cost Per Person  23 non-null     object\n",
            "dtypes: object(4)\n",
            "memory usage: 868.0+ bytes\n"
          ],
          "name": "stdout"
        }
      ]
    },
    {
      "cell_type": "markdown",
      "metadata": {
        "id": "jLJAxZytO0D1"
      },
      "source": [
        "**There are 4 columns and 23 rows for each column. No null values are present. Each column type is an object, which means none of them can be integer values only.**\n",
        "\n",
        "**Data issues**\n",
        "1. Census year column has value \"2010*\" and the asterick should be removed.\n",
        "\n",
        "2. There are two types of values, both in dollars and cents, on the average cost per person column. $ should be removed and values should be consistent with only numbers.\n",
        "\n",
        "3. Census cost column has dollar signs and billions written out for some of the values and should be removed. "
      ]
    },
    {
      "cell_type": "markdown",
      "metadata": {
        "id": "pwjK3ZtHPuvF"
      },
      "source": [
        "### 5. Write a function named cleanse_year() that takes a string as input and removes any asterisks in the string and return the cleansed string. Test the function by using test strings (for example, \"1989*\", \"20*10\")"
      ]
    },
    {
      "cell_type": "code",
      "metadata": {
        "id": "hCRbN-NIPxNq"
      },
      "source": [
        "def cleanse_year(raw_year):\n",
        "    year = raw_year.replace(\"*\",\"\")\n",
        "    return year"
      ],
      "execution_count": null,
      "outputs": []
    },
    {
      "cell_type": "code",
      "metadata": {
        "colab": {
          "base_uri": "https://localhost:8080/",
          "height": 35
        },
        "id": "MwTy215zQwRD",
        "outputId": "19e2d2d3-174d-48f0-d5f4-e36563624dfd"
      },
      "source": [
        "cleanse_year(\"198*2\") # testing cleanse_year"
      ],
      "execution_count": null,
      "outputs": [
        {
          "output_type": "execute_result",
          "data": {
            "application/vnd.google.colaboratory.intrinsic+json": {
              "type": "string"
            },
            "text/plain": [
              "'1982'"
            ]
          },
          "metadata": {
            "tags": []
          },
          "execution_count": 88
        }
      ]
    },
    {
      "cell_type": "code",
      "metadata": {
        "colab": {
          "base_uri": "https://localhost:8080/",
          "height": 35
        },
        "id": "FxfoFaSvQ6Ne",
        "outputId": "a421cc1c-868b-4f46-b710-50d0a5c24642"
      },
      "source": [
        "cleanse_year(\"2000*\") # testing cleanse_year"
      ],
      "execution_count": null,
      "outputs": [
        {
          "output_type": "execute_result",
          "data": {
            "application/vnd.google.colaboratory.intrinsic+json": {
              "type": "string"
            },
            "text/plain": [
              "'2000'"
            ]
          },
          "metadata": {
            "tags": []
          },
          "execution_count": 89
        }
      ]
    },
    {
      "cell_type": "markdown",
      "metadata": {
        "id": "d8BLXF19RGkW"
      },
      "source": [
        "### 6. Cleanse the column \"Census Year\" using the function cleanse_year() and Pandas's apply() function."
      ]
    },
    {
      "cell_type": "code",
      "metadata": {
        "colab": {
          "base_uri": "https://localhost:8080/",
          "height": 762
        },
        "id": "ojOEMRf7m4m2",
        "outputId": "b72d0cfc-d446-44c2-c7e6-8d1b6a8d497f"
      },
      "source": [
        "df1[\"Census Year\"] = df1[\"Census Year\"].apply(cleanse_year)\n",
        "df1"
      ],
      "execution_count": null,
      "outputs": [
        {
          "output_type": "execute_result",
          "data": {
            "text/html": [
              "<div>\n",
              "<style scoped>\n",
              "    .dataframe tbody tr th:only-of-type {\n",
              "        vertical-align: middle;\n",
              "    }\n",
              "\n",
              "    .dataframe tbody tr th {\n",
              "        vertical-align: top;\n",
              "    }\n",
              "\n",
              "    .dataframe thead th {\n",
              "        text-align: right;\n",
              "    }\n",
              "</style>\n",
              "<table border=\"1\" class=\"dataframe\">\n",
              "  <thead>\n",
              "    <tr style=\"text-align: right;\">\n",
              "      <th></th>\n",
              "      <th>Census Year</th>\n",
              "      <th>Total Population</th>\n",
              "      <th>Census Cost</th>\n",
              "      <th>Average Cost Per Person</th>\n",
              "    </tr>\n",
              "  </thead>\n",
              "  <tbody>\n",
              "    <tr>\n",
              "      <th>1</th>\n",
              "      <td>1790</td>\n",
              "      <td>3929214</td>\n",
              "      <td>$44,377</td>\n",
              "      <td>1.13 cents</td>\n",
              "    </tr>\n",
              "    <tr>\n",
              "      <th>2</th>\n",
              "      <td>1800</td>\n",
              "      <td>5308483</td>\n",
              "      <td>$66,109</td>\n",
              "      <td>1.24 cents</td>\n",
              "    </tr>\n",
              "    <tr>\n",
              "      <th>3</th>\n",
              "      <td>1810</td>\n",
              "      <td>7239881</td>\n",
              "      <td>$178,445</td>\n",
              "      <td>2.46 cents</td>\n",
              "    </tr>\n",
              "    <tr>\n",
              "      <th>4</th>\n",
              "      <td>1820</td>\n",
              "      <td>9633822</td>\n",
              "      <td>$208,526</td>\n",
              "      <td>2.16 cents</td>\n",
              "    </tr>\n",
              "    <tr>\n",
              "      <th>5</th>\n",
              "      <td>1830</td>\n",
              "      <td>12866020</td>\n",
              "      <td>$378,545</td>\n",
              "      <td>2.94 cents</td>\n",
              "    </tr>\n",
              "    <tr>\n",
              "      <th>6</th>\n",
              "      <td>1840</td>\n",
              "      <td>17069458</td>\n",
              "      <td>$833,371</td>\n",
              "      <td>4.88 cents</td>\n",
              "    </tr>\n",
              "    <tr>\n",
              "      <th>7</th>\n",
              "      <td>1850</td>\n",
              "      <td>23191876</td>\n",
              "      <td>$1,423,351</td>\n",
              "      <td>6.14 cents</td>\n",
              "    </tr>\n",
              "    <tr>\n",
              "      <th>8</th>\n",
              "      <td>1860</td>\n",
              "      <td>31443321</td>\n",
              "      <td>$1,969,377</td>\n",
              "      <td>6.26 cents</td>\n",
              "    </tr>\n",
              "    <tr>\n",
              "      <th>9</th>\n",
              "      <td>1870</td>\n",
              "      <td>38558371</td>\n",
              "      <td>$3,421,198</td>\n",
              "      <td>8.87 cents</td>\n",
              "    </tr>\n",
              "    <tr>\n",
              "      <th>10</th>\n",
              "      <td>1880</td>\n",
              "      <td>50155783</td>\n",
              "      <td>$5,790,678</td>\n",
              "      <td>11.54 cents</td>\n",
              "    </tr>\n",
              "    <tr>\n",
              "      <th>11</th>\n",
              "      <td>1890</td>\n",
              "      <td>62979766</td>\n",
              "      <td>$11,547,127</td>\n",
              "      <td>18.33 cents</td>\n",
              "    </tr>\n",
              "    <tr>\n",
              "      <th>12</th>\n",
              "      <td>1900</td>\n",
              "      <td>76303387</td>\n",
              "      <td>$11,854,000</td>\n",
              "      <td>15.54 cents</td>\n",
              "    </tr>\n",
              "    <tr>\n",
              "      <th>13</th>\n",
              "      <td>1910</td>\n",
              "      <td>91972266</td>\n",
              "      <td>$15,968,000</td>\n",
              "      <td>17.07 cents</td>\n",
              "    </tr>\n",
              "    <tr>\n",
              "      <th>14</th>\n",
              "      <td>1920</td>\n",
              "      <td>105710620</td>\n",
              "      <td>$25,117,000</td>\n",
              "      <td>23.76 cents</td>\n",
              "    </tr>\n",
              "    <tr>\n",
              "      <th>15</th>\n",
              "      <td>1930</td>\n",
              "      <td>122775046</td>\n",
              "      <td>$40,156,000</td>\n",
              "      <td>32.71 cents</td>\n",
              "    </tr>\n",
              "    <tr>\n",
              "      <th>16</th>\n",
              "      <td>1940</td>\n",
              "      <td>131669275</td>\n",
              "      <td>$67,527,000</td>\n",
              "      <td>51.29 cents</td>\n",
              "    </tr>\n",
              "    <tr>\n",
              "      <th>17</th>\n",
              "      <td>1950</td>\n",
              "      <td>151325798</td>\n",
              "      <td>$91,462,000</td>\n",
              "      <td>60.44 cents</td>\n",
              "    </tr>\n",
              "    <tr>\n",
              "      <th>18</th>\n",
              "      <td>1960</td>\n",
              "      <td>179323175</td>\n",
              "      <td>$127,934,000</td>\n",
              "      <td>71.34 cents</td>\n",
              "    </tr>\n",
              "    <tr>\n",
              "      <th>19</th>\n",
              "      <td>1970</td>\n",
              "      <td>203302031</td>\n",
              "      <td>$247,653,000</td>\n",
              "      <td>$1.22</td>\n",
              "    </tr>\n",
              "    <tr>\n",
              "      <th>20</th>\n",
              "      <td>1980</td>\n",
              "      <td>226542199</td>\n",
              "      <td>$1,078,488,000</td>\n",
              "      <td>$4.76</td>\n",
              "    </tr>\n",
              "    <tr>\n",
              "      <th>21</th>\n",
              "      <td>1990</td>\n",
              "      <td>248718301</td>\n",
              "      <td>$2,492,830,000</td>\n",
              "      <td>$10.02</td>\n",
              "    </tr>\n",
              "    <tr>\n",
              "      <th>22</th>\n",
              "      <td>2000</td>\n",
              "      <td>281421906</td>\n",
              "      <td>$4.5 Billion</td>\n",
              "      <td>$15.99</td>\n",
              "    </tr>\n",
              "    <tr>\n",
              "      <th>23</th>\n",
              "      <td>2010</td>\n",
              "      <td>308745538</td>\n",
              "      <td>$13 Billion</td>\n",
              "      <td>$42.11</td>\n",
              "    </tr>\n",
              "  </tbody>\n",
              "</table>\n",
              "</div>"
            ],
            "text/plain": [
              "0  Census Year Total Population     Census Cost Average Cost Per Person\n",
              "1         1790          3929214         $44,377              1.13 cents\n",
              "2         1800          5308483         $66,109              1.24 cents\n",
              "3         1810          7239881        $178,445              2.46 cents\n",
              "4         1820          9633822        $208,526              2.16 cents\n",
              "5         1830         12866020        $378,545              2.94 cents\n",
              "6         1840         17069458        $833,371              4.88 cents\n",
              "7         1850         23191876      $1,423,351              6.14 cents\n",
              "8         1860         31443321      $1,969,377              6.26 cents\n",
              "9         1870         38558371      $3,421,198              8.87 cents\n",
              "10        1880         50155783      $5,790,678             11.54 cents\n",
              "11        1890         62979766     $11,547,127             18.33 cents\n",
              "12        1900         76303387     $11,854,000             15.54 cents\n",
              "13        1910         91972266     $15,968,000             17.07 cents\n",
              "14        1920        105710620     $25,117,000             23.76 cents\n",
              "15        1930        122775046     $40,156,000             32.71 cents\n",
              "16        1940        131669275     $67,527,000             51.29 cents\n",
              "17        1950        151325798     $91,462,000             60.44 cents\n",
              "18        1960        179323175    $127,934,000             71.34 cents\n",
              "19        1970        203302031    $247,653,000                   $1.22\n",
              "20        1980        226542199  $1,078,488,000                   $4.76\n",
              "21        1990        248718301  $2,492,830,000                  $10.02\n",
              "22        2000        281421906    $4.5 Billion                  $15.99\n",
              "23        2010        308745538     $13 Billion                  $42.11"
            ]
          },
          "metadata": {
            "tags": []
          },
          "execution_count": 90
        }
      ]
    },
    {
      "cell_type": "markdown",
      "metadata": {
        "id": "udI6ohwVSGfO"
      },
      "source": [
        "### 7. Repeat this process for column \"Total Population\", \"Census Cost\", \"Average Cost Per Person\". (define, test, and apply the function)"
      ]
    },
    {
      "cell_type": "code",
      "metadata": {
        "id": "idMfKUE3jm6V"
      },
      "source": [
        "# Defining and testing functions\n",
        "# Cleanse_pop for total population\n",
        "def cleanse_pop(raw_pop):\n",
        "  return int(raw_pop)"
      ],
      "execution_count": null,
      "outputs": []
    },
    {
      "cell_type": "code",
      "metadata": {
        "colab": {
          "base_uri": "https://localhost:8080/"
        },
        "id": "QgvHA0XZkgaw",
        "outputId": "12a56204-1343-48c2-bfd5-c9caefc66371"
      },
      "source": [
        "cleanse_pop(\"151325798\")\n"
      ],
      "execution_count": null,
      "outputs": [
        {
          "output_type": "execute_result",
          "data": {
            "text/plain": [
              "151325798"
            ]
          },
          "metadata": {
            "tags": []
          },
          "execution_count": 92
        }
      ]
    },
    {
      "cell_type": "code",
      "metadata": {
        "id": "UkqVlGxzSIms"
      },
      "source": [
        "# Defining and testing Cleanse_cost\n",
        "def cleanse_cost(raw_cost):\n",
        "    if \"Billion\" in raw_cost:\n",
        "      raw_cost= (raw_cost.strip(\" Billion\")) + \"0\" * 9\n",
        "    cost = raw_cost.lstrip(\"$\").replace(\".\",\"\").replace(\",\",\"\")\n",
        "    return cost\n",
        "    "
      ],
      "execution_count": null,
      "outputs": []
    },
    {
      "cell_type": "code",
      "metadata": {
        "colab": {
          "base_uri": "https://localhost:8080/",
          "height": 35
        },
        "id": "BddIBT0NTG9W",
        "outputId": "a676d52c-75a9-4426-c9d9-f3abcbe20ff0"
      },
      "source": [
        "cleanse_cost(\"$4.5 Billion\")"
      ],
      "execution_count": null,
      "outputs": [
        {
          "output_type": "execute_result",
          "data": {
            "application/vnd.google.colaboratory.intrinsic+json": {
              "type": "string"
            },
            "text/plain": [
              "'45000000000'"
            ]
          },
          "metadata": {
            "tags": []
          },
          "execution_count": 94
        }
      ]
    },
    {
      "cell_type": "code",
      "metadata": {
        "colab": {
          "base_uri": "https://localhost:8080/",
          "height": 35
        },
        "id": "F7eI8BKSUYhK",
        "outputId": "82936b95-40c1-46d1-92ff-7b8486873658"
      },
      "source": [
        "cleanse_cost(\"$25,117,000\")"
      ],
      "execution_count": null,
      "outputs": [
        {
          "output_type": "execute_result",
          "data": {
            "application/vnd.google.colaboratory.intrinsic+json": {
              "type": "string"
            },
            "text/plain": [
              "'25117000'"
            ]
          },
          "metadata": {
            "tags": []
          },
          "execution_count": 95
        }
      ]
    },
    {
      "cell_type": "code",
      "metadata": {
        "colab": {
          "base_uri": "https://localhost:8080/",
          "height": 35
        },
        "id": "uWUMqX9RUnAX",
        "outputId": "c98d7b2e-fdce-48a1-b538-394d6ced3e5d"
      },
      "source": [
        "cleanse_cost(\"$833,371\")"
      ],
      "execution_count": null,
      "outputs": [
        {
          "output_type": "execute_result",
          "data": {
            "application/vnd.google.colaboratory.intrinsic+json": {
              "type": "string"
            },
            "text/plain": [
              "'833371'"
            ]
          },
          "metadata": {
            "tags": []
          },
          "execution_count": 96
        }
      ]
    },
    {
      "cell_type": "code",
      "metadata": {
        "id": "MK_hFG0EXjvY"
      },
      "source": [
        "\n",
        "# Testing column \"Average Cost Per Person\"\n",
        "\n",
        "def cleanse_average_cost(raw_avg_cost):\n",
        "    if \"cents\" in raw_avg_cost:\n",
        "        raw_avg_cost = (raw_avg_cost.replace(\" cents\", \"\"))\n",
        "        avg_cost = float(raw_avg_cost)/100\n",
        "    else:\n",
        "        avg_cost = raw_avg_cost.strip(\"$\")\n",
        "    return avg_cost"
      ],
      "execution_count": null,
      "outputs": []
    },
    {
      "cell_type": "code",
      "metadata": {
        "colab": {
          "base_uri": "https://localhost:8080/"
        },
        "id": "ASfQ9Ya4ZFDn",
        "outputId": "06962ffa-f3a9-4266-f1bf-03279fa9b78a"
      },
      "source": [
        "cleanse_average_cost(\"1.24 cents\") # testing"
      ],
      "execution_count": null,
      "outputs": [
        {
          "output_type": "execute_result",
          "data": {
            "text/plain": [
              "0.0124"
            ]
          },
          "metadata": {
            "tags": []
          },
          "execution_count": 98
        }
      ]
    },
    {
      "cell_type": "code",
      "metadata": {
        "colab": {
          "base_uri": "https://localhost:8080/",
          "height": 35
        },
        "id": "mOpDRpMleY7e",
        "outputId": "b63032cc-46e7-4b59-c82e-f54f878d23b4"
      },
      "source": [
        "cleanse_average_cost(\"$10.02\")"
      ],
      "execution_count": null,
      "outputs": [
        {
          "output_type": "execute_result",
          "data": {
            "application/vnd.google.colaboratory.intrinsic+json": {
              "type": "string"
            },
            "text/plain": [
              "'10.02'"
            ]
          },
          "metadata": {
            "tags": []
          },
          "execution_count": 99
        }
      ]
    },
    {
      "cell_type": "code",
      "metadata": {
        "colab": {
          "base_uri": "https://localhost:8080/",
          "height": 762
        },
        "id": "DQ5nukw6esrH",
        "outputId": "f0569d06-9f31-4fd8-c30b-4e31218ddc2d"
      },
      "source": [
        "# Applying the cleansed functions\n",
        "\n",
        "\n",
        "df1[\"Total Population\"] = df1[\"Total Population\"].apply(cleanse_pop)\n",
        "\n",
        "df1[\"Census Cost\"] = df1[\"Census Cost\"].apply(cleanse_cost)\n",
        "\n",
        "df1[\"Average Cost Per Person\"] = df1[\"Average Cost Per Person\"].apply(cleanse_average_cost)\n",
        "\n",
        "\n",
        "df1"
      ],
      "execution_count": null,
      "outputs": [
        {
          "output_type": "execute_result",
          "data": {
            "text/html": [
              "<div>\n",
              "<style scoped>\n",
              "    .dataframe tbody tr th:only-of-type {\n",
              "        vertical-align: middle;\n",
              "    }\n",
              "\n",
              "    .dataframe tbody tr th {\n",
              "        vertical-align: top;\n",
              "    }\n",
              "\n",
              "    .dataframe thead th {\n",
              "        text-align: right;\n",
              "    }\n",
              "</style>\n",
              "<table border=\"1\" class=\"dataframe\">\n",
              "  <thead>\n",
              "    <tr style=\"text-align: right;\">\n",
              "      <th></th>\n",
              "      <th>Census Year</th>\n",
              "      <th>Total Population</th>\n",
              "      <th>Census Cost</th>\n",
              "      <th>Average Cost Per Person</th>\n",
              "    </tr>\n",
              "  </thead>\n",
              "  <tbody>\n",
              "    <tr>\n",
              "      <th>1</th>\n",
              "      <td>1790</td>\n",
              "      <td>3929214</td>\n",
              "      <td>44377</td>\n",
              "      <td>0.0113</td>\n",
              "    </tr>\n",
              "    <tr>\n",
              "      <th>2</th>\n",
              "      <td>1800</td>\n",
              "      <td>5308483</td>\n",
              "      <td>66109</td>\n",
              "      <td>0.0124</td>\n",
              "    </tr>\n",
              "    <tr>\n",
              "      <th>3</th>\n",
              "      <td>1810</td>\n",
              "      <td>7239881</td>\n",
              "      <td>178445</td>\n",
              "      <td>0.0246</td>\n",
              "    </tr>\n",
              "    <tr>\n",
              "      <th>4</th>\n",
              "      <td>1820</td>\n",
              "      <td>9633822</td>\n",
              "      <td>208526</td>\n",
              "      <td>0.0216</td>\n",
              "    </tr>\n",
              "    <tr>\n",
              "      <th>5</th>\n",
              "      <td>1830</td>\n",
              "      <td>12866020</td>\n",
              "      <td>378545</td>\n",
              "      <td>0.0294</td>\n",
              "    </tr>\n",
              "    <tr>\n",
              "      <th>6</th>\n",
              "      <td>1840</td>\n",
              "      <td>17069458</td>\n",
              "      <td>833371</td>\n",
              "      <td>0.0488</td>\n",
              "    </tr>\n",
              "    <tr>\n",
              "      <th>7</th>\n",
              "      <td>1850</td>\n",
              "      <td>23191876</td>\n",
              "      <td>1423351</td>\n",
              "      <td>0.0614</td>\n",
              "    </tr>\n",
              "    <tr>\n",
              "      <th>8</th>\n",
              "      <td>1860</td>\n",
              "      <td>31443321</td>\n",
              "      <td>1969377</td>\n",
              "      <td>0.0626</td>\n",
              "    </tr>\n",
              "    <tr>\n",
              "      <th>9</th>\n",
              "      <td>1870</td>\n",
              "      <td>38558371</td>\n",
              "      <td>3421198</td>\n",
              "      <td>0.0887</td>\n",
              "    </tr>\n",
              "    <tr>\n",
              "      <th>10</th>\n",
              "      <td>1880</td>\n",
              "      <td>50155783</td>\n",
              "      <td>5790678</td>\n",
              "      <td>0.1154</td>\n",
              "    </tr>\n",
              "    <tr>\n",
              "      <th>11</th>\n",
              "      <td>1890</td>\n",
              "      <td>62979766</td>\n",
              "      <td>11547127</td>\n",
              "      <td>0.1833</td>\n",
              "    </tr>\n",
              "    <tr>\n",
              "      <th>12</th>\n",
              "      <td>1900</td>\n",
              "      <td>76303387</td>\n",
              "      <td>11854000</td>\n",
              "      <td>0.1554</td>\n",
              "    </tr>\n",
              "    <tr>\n",
              "      <th>13</th>\n",
              "      <td>1910</td>\n",
              "      <td>91972266</td>\n",
              "      <td>15968000</td>\n",
              "      <td>0.1707</td>\n",
              "    </tr>\n",
              "    <tr>\n",
              "      <th>14</th>\n",
              "      <td>1920</td>\n",
              "      <td>105710620</td>\n",
              "      <td>25117000</td>\n",
              "      <td>0.2376</td>\n",
              "    </tr>\n",
              "    <tr>\n",
              "      <th>15</th>\n",
              "      <td>1930</td>\n",
              "      <td>122775046</td>\n",
              "      <td>40156000</td>\n",
              "      <td>0.3271</td>\n",
              "    </tr>\n",
              "    <tr>\n",
              "      <th>16</th>\n",
              "      <td>1940</td>\n",
              "      <td>131669275</td>\n",
              "      <td>67527000</td>\n",
              "      <td>0.5129</td>\n",
              "    </tr>\n",
              "    <tr>\n",
              "      <th>17</th>\n",
              "      <td>1950</td>\n",
              "      <td>151325798</td>\n",
              "      <td>91462000</td>\n",
              "      <td>0.6044</td>\n",
              "    </tr>\n",
              "    <tr>\n",
              "      <th>18</th>\n",
              "      <td>1960</td>\n",
              "      <td>179323175</td>\n",
              "      <td>127934000</td>\n",
              "      <td>0.7134</td>\n",
              "    </tr>\n",
              "    <tr>\n",
              "      <th>19</th>\n",
              "      <td>1970</td>\n",
              "      <td>203302031</td>\n",
              "      <td>247653000</td>\n",
              "      <td>1.22</td>\n",
              "    </tr>\n",
              "    <tr>\n",
              "      <th>20</th>\n",
              "      <td>1980</td>\n",
              "      <td>226542199</td>\n",
              "      <td>1078488000</td>\n",
              "      <td>4.76</td>\n",
              "    </tr>\n",
              "    <tr>\n",
              "      <th>21</th>\n",
              "      <td>1990</td>\n",
              "      <td>248718301</td>\n",
              "      <td>2492830000</td>\n",
              "      <td>10.02</td>\n",
              "    </tr>\n",
              "    <tr>\n",
              "      <th>22</th>\n",
              "      <td>2000</td>\n",
              "      <td>281421906</td>\n",
              "      <td>45000000000</td>\n",
              "      <td>15.99</td>\n",
              "    </tr>\n",
              "    <tr>\n",
              "      <th>23</th>\n",
              "      <td>2010</td>\n",
              "      <td>308745538</td>\n",
              "      <td>13000000000</td>\n",
              "      <td>42.11</td>\n",
              "    </tr>\n",
              "  </tbody>\n",
              "</table>\n",
              "</div>"
            ],
            "text/plain": [
              "0  Census Year  Total Population  Census Cost Average Cost Per Person\n",
              "1         1790           3929214        44377                  0.0113\n",
              "2         1800           5308483        66109                  0.0124\n",
              "3         1810           7239881       178445                  0.0246\n",
              "4         1820           9633822       208526                  0.0216\n",
              "5         1830          12866020       378545                  0.0294\n",
              "6         1840          17069458       833371                  0.0488\n",
              "7         1850          23191876      1423351                  0.0614\n",
              "8         1860          31443321      1969377                  0.0626\n",
              "9         1870          38558371      3421198                  0.0887\n",
              "10        1880          50155783      5790678                  0.1154\n",
              "11        1890          62979766     11547127                  0.1833\n",
              "12        1900          76303387     11854000                  0.1554\n",
              "13        1910          91972266     15968000                  0.1707\n",
              "14        1920         105710620     25117000                  0.2376\n",
              "15        1930         122775046     40156000                  0.3271\n",
              "16        1940         131669275     67527000                  0.5129\n",
              "17        1950         151325798     91462000                  0.6044\n",
              "18        1960         179323175    127934000                  0.7134\n",
              "19        1970         203302031    247653000                    1.22\n",
              "20        1980         226542199   1078488000                    4.76\n",
              "21        1990         248718301   2492830000                   10.02\n",
              "22        2000         281421906  45000000000                   15.99\n",
              "23        2010         308745538  13000000000                   42.11"
            ]
          },
          "metadata": {
            "tags": []
          },
          "execution_count": 100
        }
      ]
    },
    {
      "cell_type": "markdown",
      "metadata": {
        "id": "oU51Lyp3q4Pk"
      },
      "source": [
        "### 8. After all columns are cleansed, save the clenased dataframe to a file named \"census_cost_cleansed.csv\" using CSV format."
      ]
    },
    {
      "cell_type": "code",
      "metadata": {
        "colab": {
          "base_uri": "https://localhost:8080/",
          "height": 762
        },
        "id": "QWttQkPyoIDx",
        "outputId": "885f422d-8499-4250-a265-36340d24b998"
      },
      "source": [
        "df1.to_csv('census_cost_cleansed.csv', index=False)\n",
        "\n",
        "new_file = pd.read_csv('census_cost_cleansed.csv')\n",
        "\n",
        "new_file"
      ],
      "execution_count": null,
      "outputs": [
        {
          "output_type": "execute_result",
          "data": {
            "text/html": [
              "<div>\n",
              "<style scoped>\n",
              "    .dataframe tbody tr th:only-of-type {\n",
              "        vertical-align: middle;\n",
              "    }\n",
              "\n",
              "    .dataframe tbody tr th {\n",
              "        vertical-align: top;\n",
              "    }\n",
              "\n",
              "    .dataframe thead th {\n",
              "        text-align: right;\n",
              "    }\n",
              "</style>\n",
              "<table border=\"1\" class=\"dataframe\">\n",
              "  <thead>\n",
              "    <tr style=\"text-align: right;\">\n",
              "      <th></th>\n",
              "      <th>Census Year</th>\n",
              "      <th>Total Population</th>\n",
              "      <th>Census Cost</th>\n",
              "      <th>Average Cost Per Person</th>\n",
              "    </tr>\n",
              "  </thead>\n",
              "  <tbody>\n",
              "    <tr>\n",
              "      <th>0</th>\n",
              "      <td>1790</td>\n",
              "      <td>3929214</td>\n",
              "      <td>44377</td>\n",
              "      <td>0.0113</td>\n",
              "    </tr>\n",
              "    <tr>\n",
              "      <th>1</th>\n",
              "      <td>1800</td>\n",
              "      <td>5308483</td>\n",
              "      <td>66109</td>\n",
              "      <td>0.0124</td>\n",
              "    </tr>\n",
              "    <tr>\n",
              "      <th>2</th>\n",
              "      <td>1810</td>\n",
              "      <td>7239881</td>\n",
              "      <td>178445</td>\n",
              "      <td>0.0246</td>\n",
              "    </tr>\n",
              "    <tr>\n",
              "      <th>3</th>\n",
              "      <td>1820</td>\n",
              "      <td>9633822</td>\n",
              "      <td>208526</td>\n",
              "      <td>0.0216</td>\n",
              "    </tr>\n",
              "    <tr>\n",
              "      <th>4</th>\n",
              "      <td>1830</td>\n",
              "      <td>12866020</td>\n",
              "      <td>378545</td>\n",
              "      <td>0.0294</td>\n",
              "    </tr>\n",
              "    <tr>\n",
              "      <th>5</th>\n",
              "      <td>1840</td>\n",
              "      <td>17069458</td>\n",
              "      <td>833371</td>\n",
              "      <td>0.0488</td>\n",
              "    </tr>\n",
              "    <tr>\n",
              "      <th>6</th>\n",
              "      <td>1850</td>\n",
              "      <td>23191876</td>\n",
              "      <td>1423351</td>\n",
              "      <td>0.0614</td>\n",
              "    </tr>\n",
              "    <tr>\n",
              "      <th>7</th>\n",
              "      <td>1860</td>\n",
              "      <td>31443321</td>\n",
              "      <td>1969377</td>\n",
              "      <td>0.0626</td>\n",
              "    </tr>\n",
              "    <tr>\n",
              "      <th>8</th>\n",
              "      <td>1870</td>\n",
              "      <td>38558371</td>\n",
              "      <td>3421198</td>\n",
              "      <td>0.0887</td>\n",
              "    </tr>\n",
              "    <tr>\n",
              "      <th>9</th>\n",
              "      <td>1880</td>\n",
              "      <td>50155783</td>\n",
              "      <td>5790678</td>\n",
              "      <td>0.1154</td>\n",
              "    </tr>\n",
              "    <tr>\n",
              "      <th>10</th>\n",
              "      <td>1890</td>\n",
              "      <td>62979766</td>\n",
              "      <td>11547127</td>\n",
              "      <td>0.1833</td>\n",
              "    </tr>\n",
              "    <tr>\n",
              "      <th>11</th>\n",
              "      <td>1900</td>\n",
              "      <td>76303387</td>\n",
              "      <td>11854000</td>\n",
              "      <td>0.1554</td>\n",
              "    </tr>\n",
              "    <tr>\n",
              "      <th>12</th>\n",
              "      <td>1910</td>\n",
              "      <td>91972266</td>\n",
              "      <td>15968000</td>\n",
              "      <td>0.1707</td>\n",
              "    </tr>\n",
              "    <tr>\n",
              "      <th>13</th>\n",
              "      <td>1920</td>\n",
              "      <td>105710620</td>\n",
              "      <td>25117000</td>\n",
              "      <td>0.2376</td>\n",
              "    </tr>\n",
              "    <tr>\n",
              "      <th>14</th>\n",
              "      <td>1930</td>\n",
              "      <td>122775046</td>\n",
              "      <td>40156000</td>\n",
              "      <td>0.3271</td>\n",
              "    </tr>\n",
              "    <tr>\n",
              "      <th>15</th>\n",
              "      <td>1940</td>\n",
              "      <td>131669275</td>\n",
              "      <td>67527000</td>\n",
              "      <td>0.5129</td>\n",
              "    </tr>\n",
              "    <tr>\n",
              "      <th>16</th>\n",
              "      <td>1950</td>\n",
              "      <td>151325798</td>\n",
              "      <td>91462000</td>\n",
              "      <td>0.6044</td>\n",
              "    </tr>\n",
              "    <tr>\n",
              "      <th>17</th>\n",
              "      <td>1960</td>\n",
              "      <td>179323175</td>\n",
              "      <td>127934000</td>\n",
              "      <td>0.7134</td>\n",
              "    </tr>\n",
              "    <tr>\n",
              "      <th>18</th>\n",
              "      <td>1970</td>\n",
              "      <td>203302031</td>\n",
              "      <td>247653000</td>\n",
              "      <td>1.2200</td>\n",
              "    </tr>\n",
              "    <tr>\n",
              "      <th>19</th>\n",
              "      <td>1980</td>\n",
              "      <td>226542199</td>\n",
              "      <td>1078488000</td>\n",
              "      <td>4.7600</td>\n",
              "    </tr>\n",
              "    <tr>\n",
              "      <th>20</th>\n",
              "      <td>1990</td>\n",
              "      <td>248718301</td>\n",
              "      <td>2492830000</td>\n",
              "      <td>10.0200</td>\n",
              "    </tr>\n",
              "    <tr>\n",
              "      <th>21</th>\n",
              "      <td>2000</td>\n",
              "      <td>281421906</td>\n",
              "      <td>45000000000</td>\n",
              "      <td>15.9900</td>\n",
              "    </tr>\n",
              "    <tr>\n",
              "      <th>22</th>\n",
              "      <td>2010</td>\n",
              "      <td>308745538</td>\n",
              "      <td>13000000000</td>\n",
              "      <td>42.1100</td>\n",
              "    </tr>\n",
              "  </tbody>\n",
              "</table>\n",
              "</div>"
            ],
            "text/plain": [
              "    Census Year  Total Population  Census Cost  Average Cost Per Person\n",
              "0          1790           3929214        44377                   0.0113\n",
              "1          1800           5308483        66109                   0.0124\n",
              "2          1810           7239881       178445                   0.0246\n",
              "3          1820           9633822       208526                   0.0216\n",
              "4          1830          12866020       378545                   0.0294\n",
              "5          1840          17069458       833371                   0.0488\n",
              "6          1850          23191876      1423351                   0.0614\n",
              "7          1860          31443321      1969377                   0.0626\n",
              "8          1870          38558371      3421198                   0.0887\n",
              "9          1880          50155783      5790678                   0.1154\n",
              "10         1890          62979766     11547127                   0.1833\n",
              "11         1900          76303387     11854000                   0.1554\n",
              "12         1910          91972266     15968000                   0.1707\n",
              "13         1920         105710620     25117000                   0.2376\n",
              "14         1930         122775046     40156000                   0.3271\n",
              "15         1940         131669275     67527000                   0.5129\n",
              "16         1950         151325798     91462000                   0.6044\n",
              "17         1960         179323175    127934000                   0.7134\n",
              "18         1970         203302031    247653000                   1.2200\n",
              "19         1980         226542199   1078488000                   4.7600\n",
              "20         1990         248718301   2492830000                  10.0200\n",
              "21         2000         281421906  45000000000                  15.9900\n",
              "22         2010         308745538  13000000000                  42.1100"
            ]
          },
          "metadata": {
            "tags": []
          },
          "execution_count": 101
        }
      ]
    },
    {
      "cell_type": "markdown",
      "metadata": {
        "id": "Ux2HbQ6zrFqS"
      },
      "source": [
        "### 9. Use Pandas to read the saved cleansed file and explore to make sure it is clean."
      ]
    },
    {
      "cell_type": "code",
      "metadata": {
        "colab": {
          "base_uri": "https://localhost:8080/"
        },
        "id": "2xjGDtMFrKLy",
        "outputId": "7c764f28-453b-4a5b-8978-4220a05e5344"
      },
      "source": [
        "new_file.shape"
      ],
      "execution_count": null,
      "outputs": [
        {
          "output_type": "execute_result",
          "data": {
            "text/plain": [
              "(23, 4)"
            ]
          },
          "metadata": {
            "tags": []
          },
          "execution_count": 102
        }
      ]
    },
    {
      "cell_type": "markdown",
      "metadata": {
        "id": "XSAXHVy0sXwu"
      },
      "source": [
        "**The rows and columns are in tact and consistent.**"
      ]
    },
    {
      "cell_type": "code",
      "metadata": {
        "colab": {
          "base_uri": "https://localhost:8080/"
        },
        "id": "faNBi9GarPmA",
        "outputId": "9fee95d6-c9e4-454c-bb6f-70b537ecf957"
      },
      "source": [
        "new_file.isnull().any()"
      ],
      "execution_count": null,
      "outputs": [
        {
          "output_type": "execute_result",
          "data": {
            "text/plain": [
              "Census Year                False\n",
              "Total Population           False\n",
              "Census Cost                False\n",
              "Average Cost Per Person    False\n",
              "dtype: bool"
            ]
          },
          "metadata": {
            "tags": []
          },
          "execution_count": 103
        }
      ]
    },
    {
      "cell_type": "markdown",
      "metadata": {
        "id": "SEnizAJ3sgW2"
      },
      "source": [
        "**There are no null values and the functions were applied correctly to each row of each column. The data looks clean now.**"
      ]
    }
  ]
}