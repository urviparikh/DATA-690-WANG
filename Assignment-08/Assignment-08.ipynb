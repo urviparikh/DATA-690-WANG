{
  "cells": [
    {
      "cell_type": "code",
      "metadata": {
        "tags": [],
        "cell_id": "00000-c9382512-e8a8-48f1-b382-335139cfdb5c",
        "deepnote_to_be_reexecuted": false,
        "source_hash": "10420710",
        "execution_millis": 0,
        "execution_start": 1618773654563,
        "deepnote_cell_type": "code"
      },
      "source": "import os\nimport random\nimport pandas as pd\nimport numpy as np\nimport matplotlib.pyplot as plt",
      "execution_count": 28,
      "outputs": []
    },
    {
      "cell_type": "code",
      "source": "# Retrieve the names of the 22 files and assign them to a List variable\n# You would need to filter out other files\n# Display the names of these 22 files\nfile_list = os.listdir(\"/work/data/Raw Data Files\")\nfile_list",
      "metadata": {
        "tags": [],
        "cell_id": "00001-85ab4d6e-b5e7-4876-8ac0-edfab02767b8",
        "deepnote_to_be_reexecuted": false,
        "source_hash": "b131904e",
        "execution_millis": 20,
        "execution_start": 1618773656788,
        "deepnote_cell_type": "code"
      },
      "outputs": [
        {
          "output_type": "execute_result",
          "execution_count": 29,
          "data": {
            "text/plain": "['data.yaml',\n 'MERGED2008_09_PP.csv',\n 'MERGED2016_17_PP.csv',\n 'MERGED2014_15_PP.csv',\n 'MERGED2009_10_PP.csv',\n 'Most-Recent-Cohorts-Field-of-Study.csv',\n 'MERGED2017_18_PP.csv',\n 'MERGED2001_02_PP.csv',\n 'MERGED1998_99_PP.csv',\n 'MERGED2010_11_PP.csv',\n 'MERGED2003_04_PP.csv',\n 'MERGED2005_06_PP.csv',\n 'MERGED1999_00_PP.csv',\n 'MERGED2012_13_PP.csv',\n 'MERGED2018_19_PP.csv',\n 'FieldOfStudyData1516_1617_PP.csv',\n 'MERGED2006_07_PP.csv',\n 'MERGED2004_05_PP.csv',\n 'MERGED2007_08_PP.csv',\n 'FieldOfStudyData1617_1718_PP.csv',\n 'MERGED2011_12_PP.csv',\n 'FieldOfStudyData1415_1516_PP.csv',\n 'MERGED2000_01_PP.csv',\n 'MERGED1996_97_PP.csv',\n 'MERGED2013_14_PP.csv',\n 'Most-Recent-Cohorts-All-Data-Elements.csv',\n 'Crosswalks.zip',\n 'MERGED2015_16_PP.csv',\n 'MERGED1997_98_PP.csv',\n 'MERGED2002_03_PP.csv']"
          },
          "metadata": {}
        }
      ],
      "execution_count": 29
    },
    {
      "cell_type": "code",
      "source": "dir = os.listdir('/work/data/Raw Data Files')\n\ncsv_files =[]\n\nfor file in dir:\n    if \".csv\" and \"MERGED\" in file:\n        csv_files.append(file)\n\n    else:\n        csv_files\n\ncsv_files",
      "metadata": {
        "tags": [],
        "cell_id": "00002-0e2b2ac0-5173-4fa7-a2e2-ea5fdf287f1d",
        "deepnote_to_be_reexecuted": false,
        "source_hash": "4af042a6",
        "execution_millis": 33,
        "execution_start": 1618773659638,
        "deepnote_cell_type": "code"
      },
      "outputs": [
        {
          "output_type": "execute_result",
          "execution_count": 30,
          "data": {
            "text/plain": "['MERGED2008_09_PP.csv',\n 'MERGED2016_17_PP.csv',\n 'MERGED2014_15_PP.csv',\n 'MERGED2009_10_PP.csv',\n 'MERGED2017_18_PP.csv',\n 'MERGED2001_02_PP.csv',\n 'MERGED1998_99_PP.csv',\n 'MERGED2010_11_PP.csv',\n 'MERGED2003_04_PP.csv',\n 'MERGED2005_06_PP.csv',\n 'MERGED1999_00_PP.csv',\n 'MERGED2012_13_PP.csv',\n 'MERGED2018_19_PP.csv',\n 'MERGED2006_07_PP.csv',\n 'MERGED2004_05_PP.csv',\n 'MERGED2007_08_PP.csv',\n 'MERGED2011_12_PP.csv',\n 'MERGED2000_01_PP.csv',\n 'MERGED1996_97_PP.csv',\n 'MERGED2013_14_PP.csv',\n 'MERGED2015_16_PP.csv',\n 'MERGED1997_98_PP.csv',\n 'MERGED2002_03_PP.csv']"
          },
          "metadata": {}
        }
      ],
      "execution_count": 30
    },
    {
      "cell_type": "code",
      "source": "# randomly selecting one file\nrandom_file = random.choice(csv_files)\nprint (\"Selected file:\" , random_file)",
      "metadata": {
        "tags": [],
        "cell_id": "00003-46aa81d9-0792-4b7a-8c82-0cb5f8edac83",
        "deepnote_to_be_reexecuted": false,
        "source_hash": "fe325286",
        "execution_millis": 1,
        "execution_start": 1618773760287,
        "deepnote_cell_type": "code"
      },
      "outputs": [
        {
          "name": "stdout",
          "text": "Selected file: MERGED2007_08_PP.csv\n",
          "output_type": "stream"
        }
      ],
      "execution_count": 37
    },
    {
      "cell_type": "code",
      "source": "my_df = pd.read_csv(\"/work/data/Raw Data Files/MERGED2007_08_PP.csv\", usecols= ['INSTNM','TUITIONFEE_IN'])\nmy_df.info()",
      "metadata": {
        "tags": [],
        "cell_id": "00004-7c275f92-4178-46fb-9f8c-d58890690706",
        "deepnote_to_be_reexecuted": false,
        "source_hash": "c2f364a5",
        "execution_millis": 2044,
        "execution_start": 1618773773596,
        "deepnote_cell_type": "code"
      },
      "outputs": [
        {
          "name": "stdout",
          "text": "<class 'pandas.core.frame.DataFrame'>\nRangeIndex: 6971 entries, 0 to 6970\nData columns (total 2 columns):\n #   Column         Non-Null Count  Dtype  \n---  ------         --------------  -----  \n 0   INSTNM         6971 non-null   object \n 1   TUITIONFEE_IN  4183 non-null   float64\ndtypes: float64(1), object(1)\nmemory usage: 109.0+ KB\n",
          "output_type": "stream"
        }
      ],
      "execution_count": 38
    },
    {
      "cell_type": "code",
      "source": "# Find out how many observations have missing value.\n\nprint(\" \\nCount total NaN at each column in a DataFrame : \\n\\n\" , my_df.isnull().sum())\n",
      "metadata": {
        "tags": [],
        "cell_id": "00007-81ebc1db-3531-4b5e-85e8-535bd2e260a9",
        "deepnote_to_be_reexecuted": false,
        "source_hash": "5b202e41",
        "execution_millis": 59,
        "execution_start": 1618773780750,
        "deepnote_cell_type": "code"
      },
      "outputs": [
        {
          "name": "stdout",
          "text": " \nCount total NaN at each column in a DataFrame : \n\n INSTNM              0\nTUITIONFEE_IN    2788\ndtype: int64\n",
          "output_type": "stream"
        }
      ],
      "execution_count": 39
    },
    {
      "cell_type": "code",
      "source": "# Drop those observations with missing value\n# Disaply the number of observations afterward\n\nNaN_file = my_df.dropna().reset_index(drop = True)\nNaN_file.info()",
      "metadata": {
        "tags": [],
        "cell_id": "00009-abc8aec3-a3c4-4e3a-9dd2-bcb32217ec44",
        "deepnote_to_be_reexecuted": false,
        "source_hash": "44a5c3e7",
        "execution_millis": 34,
        "execution_start": 1618773783811,
        "deepnote_cell_type": "code"
      },
      "outputs": [
        {
          "name": "stdout",
          "text": "<class 'pandas.core.frame.DataFrame'>\nRangeIndex: 4183 entries, 0 to 4182\nData columns (total 2 columns):\n #   Column         Non-Null Count  Dtype  \n---  ------         --------------  -----  \n 0   INSTNM         4183 non-null   object \n 1   TUITIONFEE_IN  4183 non-null   float64\ndtypes: float64(1), object(1)\nmemory usage: 65.5+ KB\n",
          "output_type": "stream"
        }
      ],
      "execution_count": 40
    },
    {
      "cell_type": "code",
      "source": "NaN_file.shape",
      "metadata": {
        "tags": [],
        "cell_id": "00010-cdbb4089-5409-4c2e-9925-0b8a8c61722e",
        "deepnote_to_be_reexecuted": false,
        "source_hash": "b55b3e3c",
        "execution_millis": 1,
        "execution_start": 1618773798826,
        "deepnote_cell_type": "code"
      },
      "outputs": [
        {
          "output_type": "execute_result",
          "execution_count": 41,
          "data": {
            "text/plain": "(4183, 2)"
          },
          "metadata": {}
        }
      ],
      "execution_count": 41
    },
    {
      "cell_type": "code",
      "source": "# Find out how many observations have 0 tution.\n\nNaN_file[NaN_file[\"TUITIONFEE_IN\"] == 0]\n",
      "metadata": {
        "tags": [],
        "cell_id": "00011-df9e6cfd-a44b-4722-841f-68706c4bf99a",
        "deepnote_to_be_reexecuted": false,
        "source_hash": "579295f",
        "execution_millis": 23,
        "execution_start": 1618773802353,
        "deepnote_cell_type": "code"
      },
      "outputs": [
        {
          "output_type": "execute_result",
          "execution_count": 42,
          "data": {
            "application/vnd.deepnote.dataframe.v2+json": {
              "row_count": 5,
              "column_count": 2,
              "columns": [
                {
                  "name": "INSTNM",
                  "dtype": "object",
                  "stats": {
                    "unique_count": 5,
                    "nan_count": 0,
                    "categories": [
                      {
                        "name": "United States Air Force Academy",
                        "count": 1
                      },
                      {
                        "name": "United States Naval Academy",
                        "count": 1
                      },
                      {
                        "name": "3 others",
                        "count": 3
                      }
                    ]
                  }
                },
                {
                  "name": "TUITIONFEE_IN",
                  "dtype": "float64",
                  "stats": {
                    "unique_count": 1,
                    "nan_count": 0,
                    "min": "0.0",
                    "max": "0.0",
                    "histogram": [
                      {
                        "bin_start": -0.5,
                        "bin_end": -0.4,
                        "count": 0
                      },
                      {
                        "bin_start": -0.4,
                        "bin_end": -0.3,
                        "count": 0
                      },
                      {
                        "bin_start": -0.3,
                        "bin_end": -0.19999999999999996,
                        "count": 0
                      },
                      {
                        "bin_start": -0.19999999999999996,
                        "bin_end": -0.09999999999999998,
                        "count": 0
                      },
                      {
                        "bin_start": -0.09999999999999998,
                        "bin_end": 0,
                        "count": 0
                      },
                      {
                        "bin_start": 0,
                        "bin_end": 0.10000000000000009,
                        "count": 5
                      },
                      {
                        "bin_start": 0.10000000000000009,
                        "bin_end": 0.20000000000000007,
                        "count": 0
                      },
                      {
                        "bin_start": 0.20000000000000007,
                        "bin_end": 0.30000000000000004,
                        "count": 0
                      },
                      {
                        "bin_start": 0.30000000000000004,
                        "bin_end": 0.4,
                        "count": 0
                      },
                      {
                        "bin_start": 0.4,
                        "bin_end": 0.5,
                        "count": 0
                      }
                    ]
                  }
                },
                {
                  "name": "_deepnote_index_column",
                  "dtype": "int64"
                }
              ],
              "rows_top": [
                {
                  "INSTNM": "United States Air Force Academy",
                  "TUITIONFEE_IN": 0,
                  "_deepnote_index_column": 424
                },
                {
                  "INSTNM": "United States Naval Academy",
                  "TUITIONFEE_IN": 0,
                  "_deepnote_index_column": 1231
                },
                {
                  "INSTNM": "United States Merchant Marine Academy",
                  "TUITIONFEE_IN": 0,
                  "_deepnote_index_column": 2046
                },
                {
                  "INSTNM": "United States Military Academy",
                  "TUITIONFEE_IN": 0,
                  "_deepnote_index_column": 2047
                },
                {
                  "INSTNM": "Webb Institute",
                  "TUITIONFEE_IN": 0,
                  "_deepnote_index_column": 2054
                }
              ],
              "rows_bottom": null
            },
            "text/plain": "                                     INSTNM  TUITIONFEE_IN\n424         United States Air Force Academy            0.0\n1231            United States Naval Academy            0.0\n2046  United States Merchant Marine Academy            0.0\n2047         United States Military Academy            0.0\n2054                         Webb Institute            0.0",
            "text/html": "<div>\n<style scoped>\n    .dataframe tbody tr th:only-of-type {\n        vertical-align: middle;\n    }\n\n    .dataframe tbody tr th {\n        vertical-align: top;\n    }\n\n    .dataframe thead th {\n        text-align: right;\n    }\n</style>\n<table border=\"1\" class=\"dataframe\">\n  <thead>\n    <tr style=\"text-align: right;\">\n      <th></th>\n      <th>INSTNM</th>\n      <th>TUITIONFEE_IN</th>\n    </tr>\n  </thead>\n  <tbody>\n    <tr>\n      <th>424</th>\n      <td>United States Air Force Academy</td>\n      <td>0.0</td>\n    </tr>\n    <tr>\n      <th>1231</th>\n      <td>United States Naval Academy</td>\n      <td>0.0</td>\n    </tr>\n    <tr>\n      <th>2046</th>\n      <td>United States Merchant Marine Academy</td>\n      <td>0.0</td>\n    </tr>\n    <tr>\n      <th>2047</th>\n      <td>United States Military Academy</td>\n      <td>0.0</td>\n    </tr>\n    <tr>\n      <th>2054</th>\n      <td>Webb Institute</td>\n      <td>0.0</td>\n    </tr>\n  </tbody>\n</table>\n</div>"
          },
          "metadata": {}
        }
      ],
      "execution_count": 42
    },
    {
      "cell_type": "code",
      "source": "new_file = NaN_file[NaN_file[\"TUITIONFEE_IN\"] !=0]\nnew_file.shape",
      "metadata": {
        "tags": [],
        "cell_id": "00011-0d4d463d-416d-47d0-a221-2edde10a347d",
        "deepnote_to_be_reexecuted": false,
        "source_hash": "9e4711cb",
        "execution_millis": 15,
        "execution_start": 1618773807640,
        "deepnote_cell_type": "code"
      },
      "outputs": [
        {
          "output_type": "execute_result",
          "execution_count": 43,
          "data": {
            "text/plain": "(4178, 2)"
          },
          "metadata": {}
        }
      ],
      "execution_count": 43
    },
    {
      "cell_type": "code",
      "source": "# Calculate and display the mean (average) of the tuitions of all the remaining observations\n\navg_tuition = new_file[\"TUITIONFEE_IN\"].mean()\navg_tuition",
      "metadata": {
        "tags": [],
        "cell_id": "00012-b3b620b8-9f2f-48dc-b50c-46f7872dabf1",
        "deepnote_to_be_reexecuted": false,
        "source_hash": "4cbd8666",
        "execution_millis": 8,
        "execution_start": 1618773810529,
        "deepnote_cell_type": "code"
      },
      "outputs": [
        {
          "output_type": "execute_result",
          "execution_count": 44,
          "data": {
            "text/plain": "10732.077549066538"
          },
          "metadata": {}
        }
      ],
      "execution_count": 44
    },
    {
      "cell_type": "code",
      "source": "# Randomly select just 1 observation from the data frame.\n# Display the tuition of that observation.\n\nrandom1 = new_file.sample()\nrandom1",
      "metadata": {
        "tags": [],
        "cell_id": "00013-398b3432-6b26-4edc-9577-723969c764c0",
        "deepnote_to_be_reexecuted": false,
        "source_hash": "cd7387e2",
        "execution_millis": 27,
        "execution_start": 1618773813056,
        "deepnote_cell_type": "code"
      },
      "outputs": [
        {
          "output_type": "execute_result",
          "execution_count": 45,
          "data": {
            "application/vnd.deepnote.dataframe.v2+json": {
              "row_count": 1,
              "column_count": 2,
              "columns": [
                {
                  "name": "INSTNM",
                  "dtype": "object",
                  "stats": {
                    "unique_count": 1,
                    "nan_count": 0,
                    "categories": [
                      {
                        "name": "Colorado College",
                        "count": 1
                      }
                    ]
                  }
                },
                {
                  "name": "TUITIONFEE_IN",
                  "dtype": "float64",
                  "stats": {
                    "unique_count": 1,
                    "nan_count": 0,
                    "min": "33972.0",
                    "max": "33972.0",
                    "histogram": [
                      {
                        "bin_start": 33971.5,
                        "bin_end": 33971.6,
                        "count": 0
                      },
                      {
                        "bin_start": 33971.6,
                        "bin_end": 33971.7,
                        "count": 0
                      },
                      {
                        "bin_start": 33971.7,
                        "bin_end": 33971.8,
                        "count": 0
                      },
                      {
                        "bin_start": 33971.8,
                        "bin_end": 33971.9,
                        "count": 0
                      },
                      {
                        "bin_start": 33971.9,
                        "bin_end": 33972,
                        "count": 0
                      },
                      {
                        "bin_start": 33972,
                        "bin_end": 33972.1,
                        "count": 1
                      },
                      {
                        "bin_start": 33972.1,
                        "bin_end": 33972.2,
                        "count": 0
                      },
                      {
                        "bin_start": 33972.2,
                        "bin_end": 33972.3,
                        "count": 0
                      },
                      {
                        "bin_start": 33972.3,
                        "bin_end": 33972.4,
                        "count": 0
                      },
                      {
                        "bin_start": 33972.4,
                        "bin_end": 33972.5,
                        "count": 0
                      }
                    ]
                  }
                },
                {
                  "name": "_deepnote_index_column",
                  "dtype": "int64"
                }
              ],
              "rows_top": [
                {
                  "INSTNM": "Colorado College",
                  "TUITIONFEE_IN": 33972,
                  "_deepnote_index_column": 387
                }
              ],
              "rows_bottom": null
            },
            "text/plain": "               INSTNM  TUITIONFEE_IN\n387  Colorado College        33972.0",
            "text/html": "<div>\n<style scoped>\n    .dataframe tbody tr th:only-of-type {\n        vertical-align: middle;\n    }\n\n    .dataframe tbody tr th {\n        vertical-align: top;\n    }\n\n    .dataframe thead th {\n        text-align: right;\n    }\n</style>\n<table border=\"1\" class=\"dataframe\">\n  <thead>\n    <tr style=\"text-align: right;\">\n      <th></th>\n      <th>INSTNM</th>\n      <th>TUITIONFEE_IN</th>\n    </tr>\n  </thead>\n  <tbody>\n    <tr>\n      <th>387</th>\n      <td>Colorado College</td>\n      <td>33972.0</td>\n    </tr>\n  </tbody>\n</table>\n</div>"
          },
          "metadata": {}
        }
      ],
      "execution_count": 45
    },
    {
      "cell_type": "code",
      "source": "# Calculate the different between the tuition of this observation and \n# the mean tuition off all observations calculated earlier.\n# Display the difference\n\nrandom1_diff = avg_tuition - float(random1['TUITIONFEE_IN'])\nabs(round(random1_diff,2))",
      "metadata": {
        "tags": [],
        "cell_id": "00014-3c09644a-d2cd-4f02-9267-97b4835d6553",
        "deepnote_to_be_reexecuted": false,
        "source_hash": "58004fca",
        "execution_millis": 10,
        "execution_start": 1618773842431,
        "deepnote_cell_type": "code"
      },
      "outputs": [
        {
          "output_type": "execute_result",
          "execution_count": 47,
          "data": {
            "text/plain": "23239.92"
          },
          "metadata": {}
        }
      ],
      "execution_count": 47
    },
    {
      "cell_type": "code",
      "source": "# Repeat 10 to 11 several times get the feel of the size of the difference in means\n\nrandom2 = new_file.sample()\nprint(random2)\nrandom2_diff = abs(avg_tuition - float(random2['TUITIONFEE_IN']))\nprint(\"Difference from the average tuition:\" , round(random2_diff,2))",
      "metadata": {
        "tags": [],
        "cell_id": "00015-028dd069-e40b-4e78-9af6-8ff65b6c0a39",
        "deepnote_to_be_reexecuted": false,
        "source_hash": "a65af2eb",
        "execution_millis": 13,
        "execution_start": 1618773846297,
        "deepnote_cell_type": "code"
      },
      "outputs": [
        {
          "name": "stdout",
          "text": "                              INSTNM  TUITIONFEE_IN\n2613  Reading Area Community College         3024.0\nDifference from the average tuition: 7708.08\n",
          "output_type": "stream"
        }
      ],
      "execution_count": 48
    },
    {
      "cell_type": "code",
      "source": "random3 = new_file.sample()\nprint(random3)\nrandom3_diff = abs(avg_tuition - float(random3['TUITIONFEE_IN']))\nprint(\"Difference from the average tuition:\" , round(random3_diff,2))",
      "metadata": {
        "tags": [],
        "cell_id": "00016-fae2d4dc-4aa0-43fc-a572-2f2deab0a8d8",
        "deepnote_to_be_reexecuted": false,
        "source_hash": "5b30183b",
        "execution_millis": 11,
        "execution_start": 1618773849112,
        "deepnote_cell_type": "code"
      },
      "outputs": [
        {
          "name": "stdout",
          "text": "                    INSTNM  TUITIONFEE_IN\n429  Bais Binyomin Academy         5100.0\nDifference from the average tuition: 5632.08\n",
          "output_type": "stream"
        }
      ],
      "execution_count": 49
    },
    {
      "cell_type": "code",
      "source": "# Randomly select 20 observations, display the tuition of these observation.\n\nschools_20 = new_file.sample(20)\nprint(schools_20)\n\n# Calculate and display the mean tuition of these 20 observations\nsample_avg = schools_20['TUITIONFEE_IN'].mean()\nprint(\"Average of these 20 random schools\" , sample_avg)\n\n# Calculate  the different between the average tuition of these 20 observations \n# and the mean tuition off all observations calculated earlier.\n# Display the difference\nschools_20_diff = abs(avg_tuition-sample_avg)\nprint(\"Difference between average overall tuitions and sample\", round(schools_20_diff,2))",
      "metadata": {
        "tags": [],
        "cell_id": "00017-b765087a-6118-4dc4-b92e-34997c2e4d1a",
        "deepnote_to_be_reexecuted": false,
        "source_hash": "17652f15",
        "execution_millis": 10,
        "execution_start": 1618773852242,
        "deepnote_cell_type": "code"
      },
      "outputs": [
        {
          "name": "stdout",
          "text": "                                              INSTNM  TUITIONFEE_IN\n2323               Ohio State University-Main Campus         8676.0\n2392                            Murray State College         2566.0\n74                          DeVry University-Arizona        13220.0\n267              Los Angeles Trade Technical College          590.0\n808                                Principia College        22080.0\n3618              Oconee Fall Line Technical College         1539.0\n359       Vanguard University of Southern California        22986.0\n3449                        Valley College-Princeton         7750.0\n174           California State University-Northridge         3350.0\n2155                  Queens University of Charlotte        20720.0\n2291                               Malone University        18870.0\n2147         University of North Carolina Wilmington         4399.0\n955                         Iowa Wesleyan University        18870.0\n1549                     Conception Seminary College        14052.0\n1389               Michigan Technological University         9829.0\n1325                               Stonehill College        28440.0\n3341                ITT Technical Institute-Newburgh        15600.0\n3293      Ramirez College of Business and Technology         7210.0\n3639  Embry-Riddle Aeronautical University-Worldwide         4968.0\n3656                 ITT Technical Institute-Norwood        15600.0\nAverage of these 20 random schools 12065.75\nDifference between average overall tuitions and sample 1333.67\n",
          "output_type": "stream"
        }
      ],
      "execution_count": 50
    },
    {
      "cell_type": "code",
      "source": "# Repeat 13 to 15 several times and get the feel of the size of the difference in means \n# Compare these differences with the differences calculated earlier with just 1 observation\n\nschools_20_2 = new_file.sample(20)\nprint(schools_20_2)\n\n# Calculate and display the mean tuition of these 20 observations\nsample_avg2 = schools_20_2['TUITIONFEE_IN'].mean()\nprint(\"Average of these 20 random schools\" , sample_avg2)\n\n# Calculate  the different between the average tuition of these 20 observations \n# and the mean tuition off all observations calculated earlier.\n# Display the difference\nschools_20_2_diff = abs(avg_tuition-sample_avg2)\nprint(\"Difference between average overall tuitions and sample\", round(schools_20_2_diff,2))",
      "metadata": {
        "tags": [],
        "cell_id": "00018-62637b5f-004c-4f84-93c5-e2f9e4fb75e3",
        "deepnote_to_be_reexecuted": false,
        "source_hash": "db3e30e6",
        "execution_millis": 21,
        "execution_start": 1618773855545,
        "deepnote_cell_type": "code"
      },
      "outputs": [
        {
          "name": "stdout",
          "text": "                                                 INSTNM  TUITIONFEE_IN\n2599  Jefferson (Philadelphia University + Thomas Je...        25556.0\n658                     Chattahoochee Technical College         1560.0\n2469                      The Art Institutes of York-PA        16682.0\n2494                       Dean Institute of Technology         9950.0\n3670       University of Phoenix-Central Florida Campus        11288.0\n20                        Herzing University-Birmingham         9240.0\n501                          Johnson University Florida         9550.0\n1559                               Fontbonne University        18320.0\n2099                           East Carolina University         4368.0\n3820           ITT Technical Institute-Plymouth Meeting        15600.0\n3086                      Central Washington University         5493.0\n2531                                   Keystone College        18340.0\n212                                     Cypress College          600.0\n1056          Jefferson Community and Technical College         2790.0\n2794                  Nashville State Community College         2814.0\n2089                 Central Carolina Community College         1253.0\n2144    University of North Carolina School of the Arts         5061.0\n2605                University of Pittsburgh-Greensburg        11320.0\n3483                     Herzing University-Winter Park        13060.0\n75                              Eastern Arizona College         1300.0\nAverage of these 20 random schools 9207.25\nDifference between average overall tuitions and sample 1524.83\n",
          "output_type": "stream"
        }
      ],
      "execution_count": 51
    },
    {
      "cell_type": "code",
      "source": "# Repeat 13 to 15 several times and get the feel of the size of the difference in means \n# Compare these differences with the differences calculated earlier with just 1 observation\n\nschools_20_3 = new_file.sample(20)\nprint(schools_20_3)\n\n# Calculate and display the mean tuition of these 20 observations\nsample_avg3 = schools_20_3['TUITIONFEE_IN'].mean()\nprint(\"Average of these 20 random schools\" , sample_avg3)\n\n# Calculate  the different between the average tuition of these 20 observations \n# and the mean tuition off all observations calculated earlier.\n# Display the difference\nschools_20_3_diff = abs(avg_tuition-sample_avg3)\nprint(\"Difference between average overall tuitions and sample\", round(schools_20_3_diff,2))",
      "metadata": {
        "tags": [],
        "cell_id": "00019-5e3a8f23-67f8-4d65-9f04-8c35416a8dbb",
        "deepnote_to_be_reexecuted": false,
        "source_hash": "dc280cfb",
        "execution_millis": 22,
        "execution_start": 1618773859021,
        "deepnote_cell_type": "code"
      },
      "outputs": [
        {
          "name": "stdout",
          "text": "                                                 INSTNM  TUITIONFEE_IN\n2582  Pennsylvania State University-Penn State Brand...        11006.0\n2284                                  Lake Erie College        23886.0\n4179                Southeastern College-St. Petersburg        13256.0\n1734                               Essex County College         2832.0\n3143                                    Bethany College        18203.0\n2245                         Cleveland State University         7945.0\n1078                    Brown Mackie College-Louisville         7836.0\n3191                                  Marian University        18650.0\n3212                  Chippewa Valley Technical College         4244.0\n1666                       Nebraska Wesleyan University        20252.0\n2110               Guilford Technical Community College         1481.0\n1099                   Bossier Parish Community College         1760.0\n4095                     Strayer University-Cobb Campus        11712.0\n4073              Strayer University-Takoma Park Campus        11712.0\n304                               Pacific Union College        21435.0\n2760                               Bryan College-Dayton        16320.0\n2373                              Wittenberg University        31400.0\n594                      The University of West Florida         2860.0\n3062               Southwest Virginia Community College         2290.0\n2254                               University of Dayton        25950.0\nAverage of these 20 random schools 12751.5\nDifference between average overall tuitions and sample 2019.42\n",
          "output_type": "stream"
        }
      ],
      "execution_count": 52
    },
    {
      "cell_type": "markdown",
      "source": "**Based on my observation, there is a wider gap between the sample of one institution and the sample mean than the population mean and the average sample. **",
      "metadata": {
        "tags": [],
        "cell_id": "00022-02ba792b-60fe-4d87-bc63-3a3bdcf58ee7",
        "deepnote_cell_type": "markdown"
      }
    },
    {
      "cell_type": "markdown",
      "source": "Write a function that take two input parameters:\n\nx (number of observations)\ny (the name of the dataframe).\nThe function will perform the following:\n\nRandomly select x observations from y\nCalculate the mean of these x observations\nCalculate the mean of all observations\nCalculate the difference between the two means\nReturn the difference",
      "metadata": {
        "tags": [],
        "cell_id": "00022-43402684-d14f-4b33-80b0-a329067302a4",
        "deepnote_cell_type": "markdown"
      }
    },
    {
      "cell_type": "code",
      "source": "def Avg_Diff(sample,data):\n    all_avg = data.mean()\n    schools = data.sample(sample)\n    sample_avg = schools.mean()\n    diff = (all_avg - sample_avg)\n    print('Schools:' , data , 'Sample schools:', schools, 'Average Diff:', round(diff,2), sep= '\\n')",
      "metadata": {
        "tags": [],
        "cell_id": "00023-906f826e-41f1-4b21-91e2-3d2fdd9e66e3",
        "deepnote_to_be_reexecuted": false,
        "source_hash": "9ad5b104",
        "execution_millis": 6,
        "execution_start": 1618773868419,
        "deepnote_cell_type": "code"
      },
      "outputs": [],
      "execution_count": 53
    },
    {
      "cell_type": "code",
      "source": "# test the function by passing a sample size and the name of the dataframe\n# Dsplay the return of the function\n\nAvg_Diff(10,new_file)",
      "metadata": {
        "tags": [],
        "cell_id": "00024-476529d5-9c2c-412b-94e2-b1d509ce9858",
        "deepnote_to_be_reexecuted": false,
        "source_hash": "dee810a8",
        "execution_millis": 49,
        "execution_start": 1618773871416,
        "deepnote_cell_type": "code"
      },
      "outputs": [
        {
          "name": "stdout",
          "text": "Schools:\n                                      INSTNM  TUITIONFEE_IN\n0                   Alabama A & M University         4072.0\n1        University of Alabama at Birmingham         4208.0\n2                         Amridge University         6240.0\n3        University of Alabama in Huntsville         5216.0\n4                   Alabama State University         4508.0\n...                                      ...            ...\n4178        Southeastern College-Miami Lakes        13256.0\n4179     Southeastern College-St. Petersburg        13256.0\n4180  McCann School of Business & Technology        10896.0\n4181  McCann School of Business & Technology        10896.0\n4182  McCann School of Business & Technology        10896.0\n\n[4178 rows x 2 columns]\nSample schools:\n                                             INSTNM  TUITIONFEE_IN\n1687              Truckee Meadows Community College         1763.0\n2895                          Mountain View College         1170.0\n1638               Montana Technological University         5640.0\n1822                                Barnard College        35190.0\n4014                       Blue Cliff College-Houma        10950.0\n1490                        University of St Thomas        26274.0\n2062                           Yeshiva Derech Chaim         8200.0\n347                         College of the Sequoias          606.0\n1155  Louisiana Technical College-T H Harris Campus          941.0\n1608                   Southwest Baptist University        14950.0\nAverage Diff:\nTUITIONFEE_IN    163.68\ndtype: float64\n",
          "output_type": "stream"
        }
      ],
      "execution_count": 54
    },
    {
      "cell_type": "code",
      "source": "# Create a list of sequence numbers from 1 to 50, name it \"sample_sizes\";\n# display it to make sure its members are from 1 to 50\n\nsample_sizes = list(range(1,51))\nprint(sample_sizes)",
      "metadata": {
        "tags": [],
        "cell_id": "00024-4036c243-32e1-4d51-bfac-7c1fc055554a",
        "deepnote_to_be_reexecuted": false,
        "source_hash": "9c1677a0",
        "execution_millis": 12,
        "execution_start": 1618773874949,
        "deepnote_cell_type": "code"
      },
      "outputs": [
        {
          "name": "stdout",
          "text": "[1, 2, 3, 4, 5, 6, 7, 8, 9, 10, 11, 12, 13, 14, 15, 16, 17, 18, 19, 20, 21, 22, 23, 24, 25, 26, 27, 28, 29, 30, 31, 32, 33, 34, 35, 36, 37, 38, 39, 40, 41, 42, 43, 44, 45, 46, 47, 48, 49, 50]\n",
          "output_type": "stream"
        }
      ],
      "execution_count": 55
    },
    {
      "cell_type": "code",
      "source": "# Create an empty list and name it \"means_diff\" for differences of population mean and sample means;\n# Loop through the list sample_sizes:\n# For each element in the sample size list, obtain a random sample of that size from the data frame;\n# Calculate the sample mean \n# Calculate the difference between the population mean and the sample mean\n# Append the difference to the list \"means_diff\"\n# Display the list \"means_diff\" after the loop is completed\n\ndef avg_calc(input_value):\n    avg = sum(input_value)/len(input_value)\n    return avg\n    ",
      "metadata": {
        "tags": [],
        "cell_id": "00025-f6b08638-2ab6-4cf1-8e16-e0bb83bc7a5a",
        "deepnote_to_be_reexecuted": false,
        "source_hash": "aff2a7c4",
        "execution_millis": 10,
        "execution_start": 1618773878336,
        "deepnote_cell_type": "code"
      },
      "outputs": [],
      "execution_count": 56
    },
    {
      "cell_type": "code",
      "source": "means_diff = []\n\nfor element in sample_sizes:\n    sample = random.sample(sample_sizes, element)\n    sample_avg = avg_calc(sample)\n    avg_diff = abs(avg_calc(sample_sizes) - sample_avg)\n    means_diff.append(round(avg_diff,2))\n\nprint(means_diff)",
      "metadata": {
        "tags": [],
        "cell_id": "00026-34698041-e1db-45c6-9277-9aaf6bd98a71",
        "deepnote_to_be_reexecuted": false,
        "source_hash": "4a31e3b1",
        "execution_millis": 13,
        "execution_start": 1618773882178,
        "deepnote_cell_type": "code"
      },
      "outputs": [
        {
          "name": "stdout",
          "text": "[24.5, 8.0, 11.5, 9.0, 1.7, 3.83, 5.36, 0.25, 0.06, 4.9, 0.95, 0.92, 1.12, 3.57, 3.43, 1.5, 3.5, 5.11, 0.34, 1.55, 2.02, 0.32, 3.02, 0.79, 0.74, 0.92, 3.02, 1.21, 1.29, 2.6, 0.02, 0.84, 0.59, 1.47, 0.19, 0.5, 1.18, 0.92, 0.47, 0.05, 0.09, 0.02, 0.62, 0.16, 0.5, 1.04, 0.59, 0.19, 0.4, 0.0]\n",
          "output_type": "stream"
        }
      ],
      "execution_count": 57
    },
    {
      "cell_type": "code",
      "source": "# Make a scatter plot with sample size on the x-axs and  mean difference on the y-axis\n# Observe as the sample size increases, the sample means converge to the population mean.\n# Make sure you make the plot large enough\n\nx= sample_sizes\ny= means_diff\n\nplt.rcParams[\"figure.figsize\"] = (25,10)\n\nplt.scatter(x,y)\nplt.xlabel(\"Sample Size\",fontsize=15)\nplt.ylabel(\"Mean Difference\", fontsize=15)\nplt.title(\"Mean Differences over Sample size of 50\", fontsize=15)\n\nplt.show()\n",
      "metadata": {
        "tags": [],
        "cell_id": "00027-0936e5aa-4641-4658-bb0d-0506fbb973f1",
        "deepnote_to_be_reexecuted": false,
        "source_hash": "dbad0f73",
        "execution_millis": 360,
        "execution_start": 1618773887310,
        "deepnote_cell_type": "code"
      },
      "outputs": [
        {
          "data": {
            "text/plain": "<Figure size 1800x720 with 1 Axes>",
            "image/png": "[encoded data removed]"
          },
          "metadata": {
            "needs_background": "light"
          },
          "output_type": "display_data"
        }
      ],
      "execution_count": 58
    },
    {
      "cell_type": "code",
      "source": "# repeat 18 to 21 by replacing 50 with a larger number. For example, 300, or even 1000.\n# and see how the plot looks.\n\n# testing 300 sample size\n\nsample_sizes_300 = list(range(1,301))\n\nmeans_diff_300 = []\nfor element_300 in sample_sizes_300:\n    sample_300 = random.sample(sample_sizes_300, element_300)\n    sample_avg_300 = avg_calc(sample_300)\n    avg_diff_300 = abs(avg_calc(sample_sizes_300) - sample_avg_300)\n    means_diff_300.append(round(avg_diff_300,2))\n\n\nx= sample_sizes_300\ny= means_diff_300\n\n\nplt.scatter(x,y)\nplt.xlabel(\"Sample Size\",fontsize=15)\nplt.ylabel(\"Mean Difference\", fontsize=15)\nplt.title(\"Mean Differences over Sample size of 300\", fontsize=15)\n\nplt.show()\n",
      "metadata": {
        "tags": [],
        "cell_id": "00028-2cc678ff-3b4b-4934-9295-7a0e9ce78862",
        "deepnote_to_be_reexecuted": false,
        "source_hash": "83c1eff7",
        "execution_millis": 413,
        "execution_start": 1618773892242,
        "deepnote_cell_type": "code"
      },
      "outputs": [
        {
          "data": {
            "text/plain": "<Figure size 1800x720 with 1 Axes>",
            "image/png": "[encoded data removed]"
          },
          "metadata": {
            "needs_background": "light"
          },
          "output_type": "display_data"
        }
      ],
      "execution_count": 59
    },
    {
      "cell_type": "code",
      "source": "# testing with sample size of 1000\n\nsample_sizes_1000 = list(range(1,1001))\n\nmeans_diff_1000 = []\nfor element_1000 in sample_sizes_1000:\n    sample_1000 = random.sample(sample_sizes_1000, element_1000)\n    sample_avg_1000 = avg_calc(sample_1000)\n    avg_diff_1000 = abs(avg_calc(sample_sizes_1000) - sample_avg_1000)\n    means_diff_1000.append(round(avg_diff_1000,2))\n\n\nx= sample_sizes_1000\ny= means_diff_1000\n\n\nplt.scatter(x,y)\nplt.xlabel(\"Sample Size\",fontsize=15)\nplt.ylabel(\"Mean Difference\", fontsize=15)\nplt.title(\"Mean Differences over Sample size of 1000\", fontsize=15)\n\nplt.show()",
      "metadata": {
        "tags": [],
        "cell_id": "00029-41b5a480-8da6-4911-bf90-85c332335182",
        "deepnote_to_be_reexecuted": false,
        "source_hash": "82d879c1",
        "execution_millis": 1095,
        "execution_start": 1618773896414,
        "deepnote_cell_type": "code"
      },
      "outputs": [
        {
          "data": {
            "text/plain": "<Figure size 1800x720 with 1 Axes>",
            "image/png": "[encoded data removed]"
          },
          "metadata": {
            "needs_background": "light"
          },
          "output_type": "display_data"
        }
      ],
      "execution_count": 60
    },
    {
      "cell_type": "markdown",
      "source": "<a style='text-decoration:none;line-height:16px;display:flex;color:#5B5B62;padding:10px;justify-content:end;' href='https://deepnote.com?utm_source=created-in-deepnote-cell&projectId=51271e1d-0fdf-4e0c-bc59-1208f6bbdfcd' target=\"_blank\">\n<img alt='Created in deepnote.com' style='display:inline;max-height:16px;margin:0px;margin-right:7.5px;' src='data:image/svg+xml;base64,PD94bWwgdmVyc2lvbj0iMS4wIiBlbmNvZGluZz0iVVRGLTgiPz4KPHN2ZyB3aWR0aD0iODBweCIgaGVpZ2h0PSI4MHB4IiB2aWV3Qm94PSIwIDAgODAgODAiIHZlcnNpb249IjEuMSIgeG1sbnM9Imh0dHA6Ly93d3cudzMub3JnLzIwMDAvc3ZnIiB4bWxuczp4bGluaz0iaHR0cDovL3d3dy53My5vcmcvMTk5OS94bGluayI+CiAgICA8IS0tIEdlbmVyYXRvcjogU2tldGNoIDU0LjEgKDc2NDkwKSAtIGh0dHBzOi8vc2tldGNoYXBwLmNvbSAtLT4KICAgIDx0aXRsZT5Hcm91cCAzPC90aXRsZT4KICAgIDxkZXNjPkNyZWF0ZWQgd2l0aCBTa2V0Y2guPC9kZXNjPgogICAgPGcgaWQ9IkxhbmRpbmciIHN0cm9rZT0ibm9uZSIgc3Ryb2tlLXdpZHRoPSIxIiBmaWxsPSJub25lIiBmaWxsLXJ1bGU9ImV2ZW5vZGQiPgogICAgICAgIDxnIGlkPSJBcnRib2FyZCIgdHJhbnNmb3JtPSJ0cmFuc2xhdGUoLTEyMzUuMDAwMDAwLCAtNzkuMDAwMDAwKSI+CiAgICAgICAgICAgIDxnIGlkPSJHcm91cC0zIiB0cmFuc2Zvcm09InRyYW5zbGF0ZSgxMjM1LjAwMDAwMCwgNzkuMDAwMDAwKSI+CiAgICAgICAgICAgICAgICA8cG9seWdvbiBpZD0iUGF0aC0yMCIgZmlsbD0iIzAyNjVCNCIgcG9pbnRzPSIyLjM3NjIzNzYyIDgwIDM4LjA0NzY2NjcgODAgNTcuODIxNzgyMiA3My44MDU3NTkyIDU3LjgyMTc4MjIgMzIuNzU5MjczOSAzOS4xNDAyMjc4IDMxLjY4MzE2ODMiPjwvcG9seWdvbj4KICAgICAgICAgICAgICAgIDxwYXRoIGQ9Ik0zNS4wMDc3MTgsODAgQzQyLjkwNjIwMDcsNzYuNDU0OTM1OCA0Ny41NjQ5MTY3LDcxLjU0MjI2NzEgNDguOTgzODY2LDY1LjI2MTk5MzkgQzUxLjExMjI4OTksNTUuODQxNTg0MiA0MS42NzcxNzk1LDQ5LjIxMjIyODQgMjUuNjIzOTg0Niw0OS4yMTIyMjg0IEMyNS40ODQ5Mjg5LDQ5LjEyNjg0NDggMjkuODI2MTI5Niw0My4yODM4MjQ4IDM4LjY0NzU4NjksMzEuNjgzMTY4MyBMNzIuODcxMjg3MSwzMi41NTQ0MjUgTDY1LjI4MDk3Myw2Ny42NzYzNDIxIEw1MS4xMTIyODk5LDc3LjM3NjE0NCBMMzUuMDA3NzE4LDgwIFoiIGlkPSJQYXRoLTIyIiBmaWxsPSIjMDAyODY4Ij48L3BhdGg+CiAgICAgICAgICAgICAgICA8cGF0aCBkPSJNMCwzNy43MzA0NDA1IEwyNy4xMTQ1MzcsMC4yNTcxMTE0MzYgQzYyLjM3MTUxMjMsLTEuOTkwNzE3MDEgODAsMTAuNTAwMzkyNyA4MCwzNy43MzA0NDA1IEM4MCw2NC45NjA0ODgyIDY0Ljc3NjUwMzgsNzkuMDUwMzQxNCAzNC4zMjk1MTEzLDgwIEM0Ny4wNTUzNDg5LDc3LjU2NzA4MDggNTMuNDE4MjY3Nyw3MC4zMTM2MTAzIDUzLjQxODI2NzcsNTguMjM5NTg4NSBDNTMuNDE4MjY3Nyw0MC4xMjg1NTU3IDM2LjMwMzk1NDQsMzcuNzMwNDQwNSAyNS4yMjc0MTcsMzcuNzMwNDQwNSBDMTcuODQzMDU4NiwzNy43MzA0NDA1IDkuNDMzOTE5NjYsMzcuNzMwNDQwNSAwLDM3LjczMDQ0MDUgWiIgaWQ9IlBhdGgtMTkiIGZpbGw9IiMzNzkzRUYiPjwvcGF0aD4KICAgICAgICAgICAgPC9nPgogICAgICAgIDwvZz4KICAgIDwvZz4KPC9zdmc+' > </img>\nCreated in <span style='font-weight:600;margin-left:4px;'>Deepnote</span></a>",
      "metadata": {
        "tags": [],
        "created_in_deepnote_cell": true,
        "deepnote_cell_type": "markdown"
      }
    }
  ],
  "nbformat": 4,
  "nbformat_minor": 2,
  "metadata": {
    "orig_nbformat": 2,
    "deepnote": {
      "is_reactive": false
    },
    "deepnote_notebook_id": "93d0679f-9d52-4a40-8296-d8a077de5ef7",
    "deepnote_execution_queue": []
  }
}