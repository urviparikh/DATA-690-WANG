{
  "nbformat": 4,
  "nbformat_minor": 0,
  "metadata": {
    "colab": {
      "name": "practice_assign3.ipynb",
      "provenance": [],
      "authorship_tag": "ABX9TyOr47iMXZdq49ChKWm8Vmii",
      "include_colab_link": true
    },
    "kernelspec": {
      "name": "python3",
      "display_name": "Python 3"
    }
  },
  "cells": [
    {
      "cell_type": "markdown",
      "metadata": {
        "id": "view-in-github",
        "colab_type": "text"
      },
      "source": [
        "<a href=\"https://colab.research.google.com/github/urviparikh/DATA-690-WANG/blob/main/practice_assign3.ipynb\" target=\"_parent\"><img src=\"https://colab.research.google.com/assets/colab-badge.svg\" alt=\"Open In Colab\"/></a>"
      ]
    },
    {
      "cell_type": "code",
      "metadata": {
        "colab": {
          "base_uri": "https://localhost:8080/"
        },
        "id": "B0o2jBBZMY88",
        "outputId": "2c75ed3c-bd78-4d08-c434-ef5c94581959"
      },
      "source": [
        "import random\n",
        "x = random.randint(0,9)\n",
        "print(x)"
      ],
      "execution_count": null,
      "outputs": [
        {
          "output_type": "stream",
          "text": [
            "2\n"
          ],
          "name": "stdout"
        }
      ]
    },
    {
      "cell_type": "code",
      "metadata": {
        "colab": {
          "base_uri": "https://localhost:8080/",
          "height": 232
        },
        "id": "jwiuqKlvM4Mz",
        "outputId": "2548f076-2cd8-49e9-b101-5414e8a017d6"
      },
      "source": [
        "lijst = list(range(0, 10))\n",
        "i = 0\n",
        "\n",
        "while i < 10:\n",
        "    print(\"{:>5d}\".format(lijst[i]), end=\" \")\n",
        "    i = i+1\n",
        "    if i % (1,3,5,7,9) == '@':\n",
        "        print(\"\")"
      ],
      "execution_count": null,
      "outputs": [
        {
          "output_type": "stream",
          "text": [
            "    0 "
          ],
          "name": "stdout"
        },
        {
          "output_type": "error",
          "ename": "TypeError",
          "evalue": "ignored",
          "traceback": [
            "\u001b[0;31m---------------------------------------------------------------------------\u001b[0m",
            "\u001b[0;31mTypeError\u001b[0m                                 Traceback (most recent call last)",
            "\u001b[0;32m<ipython-input-8-a3e180e1d49b>\u001b[0m in \u001b[0;36m<module>\u001b[0;34m()\u001b[0m\n\u001b[1;32m      5\u001b[0m     \u001b[0mprint\u001b[0m\u001b[0;34m(\u001b[0m\u001b[0;34m\"{:>5d}\"\u001b[0m\u001b[0;34m.\u001b[0m\u001b[0mformat\u001b[0m\u001b[0;34m(\u001b[0m\u001b[0mlijst\u001b[0m\u001b[0;34m[\u001b[0m\u001b[0mi\u001b[0m\u001b[0;34m]\u001b[0m\u001b[0;34m)\u001b[0m\u001b[0;34m,\u001b[0m \u001b[0mend\u001b[0m\u001b[0;34m=\u001b[0m\u001b[0;34m\" \"\u001b[0m\u001b[0;34m)\u001b[0m\u001b[0;34m\u001b[0m\u001b[0;34m\u001b[0m\u001b[0m\n\u001b[1;32m      6\u001b[0m     \u001b[0mi\u001b[0m \u001b[0;34m=\u001b[0m \u001b[0mi\u001b[0m\u001b[0;34m+\u001b[0m\u001b[0;36m1\u001b[0m\u001b[0;34m\u001b[0m\u001b[0;34m\u001b[0m\u001b[0m\n\u001b[0;32m----> 7\u001b[0;31m     \u001b[0;32mif\u001b[0m \u001b[0mi\u001b[0m \u001b[0;34m%\u001b[0m \u001b[0;34m(\u001b[0m\u001b[0;36m1\u001b[0m\u001b[0;34m,\u001b[0m\u001b[0;36m3\u001b[0m\u001b[0;34m,\u001b[0m\u001b[0;36m5\u001b[0m\u001b[0;34m,\u001b[0m\u001b[0;36m7\u001b[0m\u001b[0;34m,\u001b[0m\u001b[0;36m9\u001b[0m\u001b[0;34m)\u001b[0m \u001b[0;34m==\u001b[0m \u001b[0;34m'@'\u001b[0m\u001b[0;34m:\u001b[0m\u001b[0;34m\u001b[0m\u001b[0;34m\u001b[0m\u001b[0m\n\u001b[0m\u001b[1;32m      8\u001b[0m         \u001b[0mprint\u001b[0m\u001b[0;34m(\u001b[0m\u001b[0;34m\"\"\u001b[0m\u001b[0;34m)\u001b[0m\u001b[0;34m\u001b[0m\u001b[0;34m\u001b[0m\u001b[0m\n",
            "\u001b[0;31mTypeError\u001b[0m: unsupported operand type(s) for %: 'int' and 'tuple'"
          ]
        }
      ]
    },
    {
      "cell_type": "code",
      "metadata": {
        "colab": {
          "base_uri": "https://localhost:8080/"
        },
        "id": "dNLwyvJFQ2Ib",
        "outputId": "c64c80ab-ffb7-480b-dde5-64b40b48e8fd"
      },
      "source": [
        "import random\n",
        "a=[]\n",
        "n=int(input(\"Enter number of elements:\"))\n",
        "for j in range(0,10):\n",
        "  #for i in range(j):\n",
        "    a.append(random.randint(0,9))\n",
        "print(a, end=\" \")\n",
        "\n"
      ],
      "execution_count": null,
      "outputs": [
        {
          "output_type": "stream",
          "text": [
            "Enter number of elements:10\n",
            "[7, 9, 2, 1, 3, 5, 5, 3, 6, 4, 2, 9, 9, 4, 5, 5, 5, 3, 0, 9, 2, 7, 4, 8, 5, 6, 5, 6, 9, 1, 7, 2, 6, 6, 5, 3, 6, 9, 3, 0, 1, 1, 7, 9, 5] "
          ],
          "name": "stdout"
        }
      ]
    },
    {
      "cell_type": "code",
      "metadata": {
        "colab": {
          "base_uri": "https://localhost:8080/"
        },
        "id": "8XM2_tJFRk-1",
        "outputId": "c59bcfb6-ff87-48d2-f5a4-0c44b9e49ff6"
      },
      "source": [
        "for i in range(0,10):\n",
        "    print(i, end=\"\\t\")\n",
        "\n"
      ],
      "execution_count": null,
      "outputs": [
        {
          "output_type": "stream",
          "text": [
            "0\t1\t2\t3\t4\t5\t6\t7\t8\t9\t"
          ],
          "name": "stdout"
        }
      ]
    },
    {
      "cell_type": "code",
      "metadata": {
        "colab": {
          "base_uri": "https://localhost:8080/",
          "height": 130
        },
        "id": "rwbvzQwsViG7",
        "outputId": "d3961044-e413-4250-9f4a-b0c2ebbe477c"
      },
      "source": [
        "start, end = 0,9\n",
        "for j in range(0,10):\n",
        "    if j % 1 != 0:\n",
        "print(j, end=\"@\")"
      ],
      "execution_count": null,
      "outputs": [
        {
          "output_type": "error",
          "ename": "IndentationError",
          "evalue": "ignored",
          "traceback": [
            "\u001b[0;36m  File \u001b[0;32m\"<ipython-input-27-b5bee68680b2>\"\u001b[0;36m, line \u001b[0;32m4\u001b[0m\n\u001b[0;31m    print(j, end=\"@\")\u001b[0m\n\u001b[0m                     ^\u001b[0m\n\u001b[0;31mIndentationError\u001b[0m\u001b[0;31m:\u001b[0m expected an indented block\n"
          ]
        }
      ]
    },
    {
      "cell_type": "code",
      "metadata": {
        "colab": {
          "base_uri": "https://localhost:8080/"
        },
        "id": "hslniwkxYRdY",
        "outputId": "dacf4293-6c3d-40df-bf02-bd381fd07513"
      },
      "source": [
        "import random\n",
        "x=[]\n",
        "max_num= 101\n",
        "\n",
        "for r in range(0,max_num):\n",
        "    while int:\n",
        "        try:\n",
        "           r = random.randint(0,9)\n",
        "           break\n",
        "        except:\n",
        "           print(\"only integers accepted\")\n",
        "           continue\n",
        "\n",
        "    x.append(r)\n",
        "    #print(r)\n",
        "\n",
        "print(x, end=\"\\n\")"
      ],
      "execution_count": null,
      "outputs": [
        {
          "output_type": "stream",
          "text": [
            "[0, 7, 4, 8, 7, 0, 2, 3, 1, 7, 2, 2, 1, 6, 6, 0, 2, 6, 8, 4, 6, 6, 1, 4, 5, 1, 3, 4, 8, 1, 9, 9, 2, 8, 0, 9, 3, 4, 1, 3, 2, 5, 6, 4, 2, 2, 1, 7, 3, 8, 8, 1, 1, 2, 3, 8, 9, 2, 2, 6, 3, 5, 0, 5, 4, 2, 7, 3, 0, 7, 5, 7, 1, 3, 3, 3, 7, 4, 7, 4, 7, 5, 2, 7, 8, 7, 0, 9, 1, 0, 6, 1, 4, 3, 5, 0, 6, 2, 2, 0, 5]\n"
          ],
          "name": "stdout"
        }
      ]
    },
    {
      "cell_type": "code",
      "metadata": {
        "colab": {
          "base_uri": "https://localhost:8080/",
          "height": 235
        },
        "id": "v694GZhGgHQU",
        "outputId": "af60fbe7-9999-4e4c-e0cc-c70e8bd1fe94"
      },
      "source": [
        "random_matrix = [[random.random \n",
        "for j in range(10)]] \n",
        "\n",
        "for i in range(10):\n",
        "    print (random_matrix[i])"
      ],
      "execution_count": null,
      "outputs": [
        {
          "output_type": "stream",
          "text": [
            "[<built-in method random of Random object at 0x2e56a18>, <built-in method random of Random object at 0x2e56a18>, <built-in method random of Random object at 0x2e56a18>, <built-in method random of Random object at 0x2e56a18>, <built-in method random of Random object at 0x2e56a18>, <built-in method random of Random object at 0x2e56a18>, <built-in method random of Random object at 0x2e56a18>, <built-in method random of Random object at 0x2e56a18>, <built-in method random of Random object at 0x2e56a18>, <built-in method random of Random object at 0x2e56a18>]\n"
          ],
          "name": "stdout"
        },
        {
          "output_type": "error",
          "ename": "IndexError",
          "evalue": "ignored",
          "traceback": [
            "\u001b[0;31m---------------------------------------------------------------------------\u001b[0m",
            "\u001b[0;31mIndexError\u001b[0m                                Traceback (most recent call last)",
            "\u001b[0;32m<ipython-input-97-8abf0e2ad6bb>\u001b[0m in \u001b[0;36m<module>\u001b[0;34m()\u001b[0m\n\u001b[1;32m      3\u001b[0m \u001b[0;34m\u001b[0m\u001b[0m\n\u001b[1;32m      4\u001b[0m \u001b[0;32mfor\u001b[0m \u001b[0mi\u001b[0m \u001b[0;32min\u001b[0m \u001b[0mrange\u001b[0m\u001b[0;34m(\u001b[0m\u001b[0;36m10\u001b[0m\u001b[0;34m)\u001b[0m\u001b[0;34m:\u001b[0m\u001b[0;34m\u001b[0m\u001b[0;34m\u001b[0m\u001b[0m\n\u001b[0;32m----> 5\u001b[0;31m     \u001b[0mprint\u001b[0m \u001b[0;34m(\u001b[0m\u001b[0mrandom_matrix\u001b[0m\u001b[0;34m[\u001b[0m\u001b[0mi\u001b[0m\u001b[0;34m]\u001b[0m\u001b[0;34m)\u001b[0m\u001b[0;34m\u001b[0m\u001b[0;34m\u001b[0m\u001b[0m\n\u001b[0m",
            "\u001b[0;31mIndexError\u001b[0m: list index out of range"
          ]
        }
      ]
    },
    {
      "cell_type": "code",
      "metadata": {
        "colab": {
          "base_uri": "https://localhost:8080/"
        },
        "id": "CvpG8Tluh70Z",
        "outputId": "5d0e9689-e3bf-41fb-c9ff-e5c7aa7170cd"
      },
      "source": [
        "import random\n",
        "def makeCostMatrix(n,m):\n",
        "    return [[random.randint(0, 10) for row in range(n)] for column in range(m)]\n",
        "print(makeCostMatrix(10,10), end=\"\\n\")\n"
      ],
      "execution_count": null,
      "outputs": [
        {
          "output_type": "stream",
          "text": [
            "[[5, 10, 0, 4, 3, 5, 5, 1, 5, 9], [4, 2, 6, 8, 9, 6, 1, 5, 3, 9], [7, 3, 1, 0, 9, 1, 6, 5, 5, 5], [8, 10, 6, 10, 2, 6, 6, 10, 4, 6], [6, 2, 5, 3, 7, 7, 9, 9, 4, 2], [10, 5, 10, 0, 10, 10, 0, 7, 7, 3], [5, 8, 8, 1, 2, 7, 4, 2, 4, 5], [7, 5, 7, 10, 10, 0, 7, 8, 3, 0], [1, 5, 5, 2, 3, 1, 3, 3, 3, 6], [3, 0, 7, 0, 7, 1, 2, 0, 8, 3]]\n"
          ],
          "name": "stdout"
        }
      ]
    },
    {
      "cell_type": "code",
      "metadata": {
        "id": "U8dujbGAZRec"
      },
      "source": [
        "def zeros_matrix(rows, cols):\n",
        "    \n",
        "    M = []\n",
        "    while len(M) < rows:\n",
        "        M.append([])\n",
        "        while len(M[-1]) < cols:\n",
        "            M[-1].append(0.0)\n",
        " \n",
        "    return M\n",
        "    print(M)"
      ],
      "execution_count": null,
      "outputs": []
    },
    {
      "cell_type": "code",
      "metadata": {
        "colab": {
          "base_uri": "https://localhost:8080/"
        },
        "id": "zl9YjKM9hZmn",
        "outputId": "fa88f4d7-5ac4-4eab-c9bd-9ab8418a3e1d"
      },
      "source": [
        "import random\n",
        "a=[]\n",
        "n=int(input(\"Ten integers:\"))\n",
        "for j in range(11):\n",
        "  for i in range(j):\n",
        "      if i % 2!= 0: \n",
        "        a.append(j):\n",
        "        \n",
        "print(j, end=\"\\n\")\n",
        "print(i, end=\"\\n\")\n",
        "print(a, end=\"\\n\")\n"
      ],
      "execution_count": null,
      "outputs": [
        {
          "output_type": "stream",
          "text": [
            "Ten integers:10\n",
            "10\n",
            "9\n",
            "[2, 3, 4, 4, 5, 5, 6, 6, 6, 7, 7, 7, 8, 8, 8, 8, 9, 9, 9, 9, 10, 10, 10, 10, 10]\n"
          ],
          "name": "stdout"
        }
      ]
    },
    {
      "cell_type": "code",
      "metadata": {
        "colab": {
          "base_uri": "https://localhost:8080/"
        },
        "id": "wQ2RaDBEkYV4",
        "outputId": "c899c93e-0f72-41a1-8ebb-bf5aaec12677"
      },
      "source": [
        "import random\n",
        "#a=[]\n",
        "my_row= random.randint(0,10) #int(input(\"Enter number of elements:\"))\n",
        "for j in range(my_row):\n",
        "  #for i in range(n*10):\n",
        "    #a.append(my_row)\n",
        "    print(my_row , end=\"\\n\")"
      ],
      "execution_count": null,
      "outputs": [
        {
          "output_type": "stream",
          "text": [
            "6\n",
            "6\n",
            "6\n",
            "6\n",
            "6\n",
            "6\n"
          ],
          "name": "stdout"
        }
      ]
    },
    {
      "cell_type": "code",
      "metadata": {
        "colab": {
          "base_uri": "https://localhost:8080/"
        },
        "id": "B6XL0mRVm0k2",
        "outputId": "456c5a47-f44a-4bfb-d6b3-ba24560320f8"
      },
      "source": [
        "for i in range(11):\n",
        "    for j in range(i):\n",
        "        print(i, end=' ')\n",
        "\n",
        "    print(j)"
      ],
      "execution_count": null,
      "outputs": [
        {
          "output_type": "stream",
          "text": [
            "9\n",
            "1 0\n",
            "2 2 1\n",
            "3 3 3 2\n",
            "4 4 4 4 3\n",
            "5 5 5 5 5 4\n",
            "6 6 6 6 6 6 5\n",
            "7 7 7 7 7 7 7 6\n",
            "8 8 8 8 8 8 8 8 7\n",
            "9 9 9 9 9 9 9 9 9 8\n",
            "10 10 10 10 10 10 10 10 10 10 9\n"
          ],
          "name": "stdout"
        }
      ]
    },
    {
      "cell_type": "code",
      "metadata": {
        "colab": {
          "base_uri": "https://localhost:8080/"
        },
        "id": "v8u0MoNinm9m",
        "outputId": "ca4eab21-050c-4e0d-acb8-87865888b829"
      },
      "source": [
        "import random\n",
        "a=[]\n",
        "n=int(input(\"Enter number of elements:\"))\n",
        "for j in range(0,10):\n",
        "  for i in range(j):\n",
        "    a.append(random.randint(0,10))\n",
        "print(a, end=\"\")"
      ],
      "execution_count": null,
      "outputs": [
        {
          "output_type": "stream",
          "text": [
            "Enter number of elements:100\n",
            "[10, 7, 9, 2, 5, 2, 0, 4, 2, 5, 6, 6, 5, 10, 1, 6, 7, 10, 8, 9, 4, 5, 1, 2, 2, 9, 6, 8, 7, 8, 0, 7, 1, 9, 7, 10, 4, 4, 9, 6, 3, 3, 6, 7, 8]"
          ],
          "name": "stdout"
        }
      ]
    },
    {
      "cell_type": "markdown",
      "metadata": {
        "id": "7NFbNh2-oitI"
      },
      "source": [
        "###Practice code\n"
      ]
    },
    {
      "cell_type": "code",
      "metadata": {
        "colab": {
          "base_uri": "https://localhost:8080/"
        },
        "id": "Vt7qicJYqQsA",
        "outputId": "3dc83786-cb4c-4373-ffdf-eb2225ed7a25"
      },
      "source": [
        "N = 100\n",
        "I = 1\n",
        "while I <= N:\n",
        "    if I % 10 > 0:\n",
        "        print(I, end = \" \")\n",
        "    else:\n",
        "        print(I)\n",
        "    I = I+1"
      ],
      "execution_count": null,
      "outputs": [
        {
          "output_type": "stream",
          "text": [
            "1 2 3 4 5 6 7 8 9 10\n",
            "11 12 13 14 15 16 17 18 19 20\n",
            "21 22 23 24 25 26 27 28 29 30\n",
            "31 32 33 34 35 36 37 38 39 40\n",
            "41 42 43 44 45 46 47 48 49 50\n",
            "51 52 53 54 55 56 57 58 59 60\n",
            "61 62 63 64 65 66 67 68 69 70\n",
            "71 72 73 74 75 76 77 78 79 80\n",
            "81 82 83 84 85 86 87 88 89 90\n",
            "91 92 93 94 95 96 97 98 99 100\n"
          ],
          "name": "stdout"
        }
      ]
    },
    {
      "cell_type": "code",
      "metadata": {
        "colab": {
          "base_uri": "https://localhost:8080/"
        },
        "id": "QyGFYojMslHs",
        "outputId": "39c91661-bfa3-48ae-f8d0-99c2be4b6388"
      },
      "source": [
        "import random\n",
        "max_try= 11\n",
        "\n",
        "for i in range(0, max_try):\n",
        "  \n",
        "    for j in range(random.randint(0,10)):\n",
        "        print(j, end=\" \")\n"
      ],
      "execution_count": null,
      "outputs": [
        {
          "output_type": "stream",
          "text": [
            "0 1 2 3 4 5 0 1 2 0 1 2 3 4 5 6 7 0 1 2 3 4 5 6 0 1 2 3 4 5 6 7 0 1 0 1 2 3 0 1 2 3 4 5 6 7 8 0 1 2 3 4 5 6 7 8 0 1 2 "
          ],
          "name": "stdout"
        }
      ]
    },
    {
      "cell_type": "code",
      "metadata": {
        "colab": {
          "base_uri": "https://localhost:8080/",
          "height": 130
        },
        "id": "uumzjxVYvDFt",
        "outputId": "31dcdfcf-5645-4fc8-f6a7-0d89cfcd9429"
      },
      "source": [
        ""
      ],
      "execution_count": null,
      "outputs": [
        {
          "output_type": "error",
          "ename": "SyntaxError",
          "evalue": "ignored",
          "traceback": [
            "\u001b[0;36m  File \u001b[0;32m\"<ipython-input-95-349abe30de45>\"\u001b[0;36m, line \u001b[0;32m2\u001b[0m\n\u001b[0;31m    class RandomNumbers {\u001b[0m\n\u001b[0m                        ^\u001b[0m\n\u001b[0;31mSyntaxError\u001b[0m\u001b[0;31m:\u001b[0m invalid syntax\n"
          ]
        }
      ]
    },
    {
      "cell_type": "code",
      "metadata": {
        "colab": {
          "base_uri": "https://localhost:8080/"
        },
        "id": "IB3DkJ79C9y7",
        "outputId": "fab81af4-ad85-4ee5-ed85-00580a86e9ff"
      },
      "source": [
        "import random\n",
        "a=[]\n",
        "n=int(input(\"Enter number of elements:\"))\n",
        "for j in range(random.randint(0,10)):\n",
        "  for i in range(0,10):\n",
        "    a.append(i)\n",
        "print(a, end=\" \")"
      ],
      "execution_count": 104,
      "outputs": [
        {
          "output_type": "stream",
          "text": [
            "Enter number of elements:10\n",
            "[0, 1, 2, 3, 4, 5, 6, 7, 8, 9, 0, 1, 2, 3, 4, 5, 6, 7, 8, 9, 0, 1, 2, 3, 4, 5, 6, 7, 8, 9, 0, 1, 2, 3, 4, 5, 6, 7, 8, 9, 0, 1, 2, 3, 4, 5, 6, 7, 8, 9] "
          ],
          "name": "stdout"
        }
      ]
    },
    {
      "cell_type": "code",
      "metadata": {
        "id": "c0tp9iubDbzn",
        "colab": {
          "base_uri": "https://localhost:8080/",
          "height": 375
        },
        "outputId": "820cb684-796f-419e-c3d5-1a34a41ace53"
      },
      "source": [
        "import random \n",
        "\n",
        "# number of random entries \n",
        "x = 100\n",
        "\n",
        "# The set of all values \n",
        "y = {}\n",
        "while (x > 0) :\n",
        "    a = random.randint(0 , 10)\n",
        "    if a not in y :  \n",
        "        a -= 1"
      ],
      "execution_count": 105,
      "outputs": [
        {
          "output_type": "error",
          "ename": "KeyboardInterrupt",
          "evalue": "ignored",
          "traceback": [
            "\u001b[0;31m---------------------------------------------------------------------------\u001b[0m",
            "\u001b[0;31mKeyboardInterrupt\u001b[0m                         Traceback (most recent call last)",
            "\u001b[0;32m<ipython-input-105-49b7c3296739>\u001b[0m in \u001b[0;36m<module>\u001b[0;34m()\u001b[0m\n\u001b[1;32m      7\u001b[0m \u001b[0my\u001b[0m \u001b[0;34m=\u001b[0m \u001b[0;34m{\u001b[0m\u001b[0;34m}\u001b[0m\u001b[0;34m\u001b[0m\u001b[0;34m\u001b[0m\u001b[0m\n\u001b[1;32m      8\u001b[0m \u001b[0;32mwhile\u001b[0m \u001b[0;34m(\u001b[0m\u001b[0mx\u001b[0m \u001b[0;34m>\u001b[0m \u001b[0;36m0\u001b[0m\u001b[0;34m)\u001b[0m \u001b[0;34m:\u001b[0m\u001b[0;34m\u001b[0m\u001b[0;34m\u001b[0m\u001b[0m\n\u001b[0;32m----> 9\u001b[0;31m     \u001b[0ma\u001b[0m \u001b[0;34m=\u001b[0m \u001b[0mrandom\u001b[0m\u001b[0;34m.\u001b[0m\u001b[0mrandint\u001b[0m\u001b[0;34m(\u001b[0m\u001b[0;36m0\u001b[0m \u001b[0;34m,\u001b[0m \u001b[0;36m10\u001b[0m\u001b[0;34m)\u001b[0m\u001b[0;34m\u001b[0m\u001b[0;34m\u001b[0m\u001b[0m\n\u001b[0m\u001b[1;32m     10\u001b[0m     \u001b[0;32mif\u001b[0m \u001b[0ma\u001b[0m \u001b[0;32mnot\u001b[0m \u001b[0;32min\u001b[0m \u001b[0my\u001b[0m \u001b[0;34m:\u001b[0m\u001b[0;34m\u001b[0m\u001b[0;34m\u001b[0m\u001b[0m\n\u001b[1;32m     11\u001b[0m         \u001b[0ma\u001b[0m \u001b[0;34m-=\u001b[0m \u001b[0;36m1\u001b[0m\u001b[0;34m\u001b[0m\u001b[0;34m\u001b[0m\u001b[0m\n",
            "\u001b[0;32m/usr/lib/python3.6/random.py\u001b[0m in \u001b[0;36mrandint\u001b[0;34m(self, a, b)\u001b[0m\n\u001b[1;32m    219\u001b[0m         \"\"\"\n\u001b[1;32m    220\u001b[0m \u001b[0;34m\u001b[0m\u001b[0m\n\u001b[0;32m--> 221\u001b[0;31m         \u001b[0;32mreturn\u001b[0m \u001b[0mself\u001b[0m\u001b[0;34m.\u001b[0m\u001b[0mrandrange\u001b[0m\u001b[0;34m(\u001b[0m\u001b[0ma\u001b[0m\u001b[0;34m,\u001b[0m \u001b[0mb\u001b[0m\u001b[0;34m+\u001b[0m\u001b[0;36m1\u001b[0m\u001b[0;34m)\u001b[0m\u001b[0;34m\u001b[0m\u001b[0;34m\u001b[0m\u001b[0m\n\u001b[0m\u001b[1;32m    222\u001b[0m \u001b[0;34m\u001b[0m\u001b[0m\n\u001b[1;32m    223\u001b[0m     def _randbelow(self, n, int=int, maxsize=1<<BPF, type=type,\n",
            "\u001b[0;32m/usr/lib/python3.6/random.py\u001b[0m in \u001b[0;36mrandrange\u001b[0;34m(self, start, stop, step, _int)\u001b[0m\n\u001b[1;32m    181\u001b[0m         \u001b[0;31m# This code is a bit messy to make it fast for the\u001b[0m\u001b[0;34m\u001b[0m\u001b[0;34m\u001b[0m\u001b[0;34m\u001b[0m\u001b[0m\n\u001b[1;32m    182\u001b[0m         \u001b[0;31m# common case while still doing adequate error checking.\u001b[0m\u001b[0;34m\u001b[0m\u001b[0;34m\u001b[0m\u001b[0;34m\u001b[0m\u001b[0m\n\u001b[0;32m--> 183\u001b[0;31m         \u001b[0mistart\u001b[0m \u001b[0;34m=\u001b[0m \u001b[0m_int\u001b[0m\u001b[0;34m(\u001b[0m\u001b[0mstart\u001b[0m\u001b[0;34m)\u001b[0m\u001b[0;34m\u001b[0m\u001b[0;34m\u001b[0m\u001b[0m\n\u001b[0m\u001b[1;32m    184\u001b[0m         \u001b[0;32mif\u001b[0m \u001b[0mistart\u001b[0m \u001b[0;34m!=\u001b[0m \u001b[0mstart\u001b[0m\u001b[0;34m:\u001b[0m\u001b[0;34m\u001b[0m\u001b[0;34m\u001b[0m\u001b[0m\n\u001b[1;32m    185\u001b[0m             \u001b[0;32mraise\u001b[0m \u001b[0mValueError\u001b[0m\u001b[0;34m(\u001b[0m\u001b[0;34m\"non-integer arg 1 for randrange()\"\u001b[0m\u001b[0;34m)\u001b[0m\u001b[0;34m\u001b[0m\u001b[0;34m\u001b[0m\u001b[0m\n",
            "\u001b[0;31mKeyboardInterrupt\u001b[0m: "
          ]
        }
      ]
    },
    {
      "cell_type": "code",
      "metadata": {
        "id": "FjpyXS8GESYr",
        "colab": {
          "base_uri": "https://localhost:8080/"
        },
        "outputId": "81793d50-39af-4ebd-bdb2-a8b452c8e5da"
      },
      "source": [
        "import random\n",
        "\n",
        "for num in range(10):\n",
        "    first = random.randint(0,9)\n",
        "    second = random.randint(0,9)\n",
        "    third = random.randint(0,9)\n",
        "    fourth = random.randint(0,9)\n",
        "    print(f'{first} {second} {third} {fourth}')\n"
      ],
      "execution_count": 120,
      "outputs": [
        {
          "output_type": "stream",
          "text": [
            "4 9 6 5\n",
            "5 2 2 4\n",
            "0 3 4 0\n",
            "4 3 2 9\n",
            "1 3 2 2\n",
            "1 8 6 4\n",
            "7 1 8 3\n",
            "2 5 4 4\n",
            "2 7 3 7\n",
            "6 8 0 2\n"
          ],
          "name": "stdout"
        }
      ]
    },
    {
      "cell_type": "markdown",
      "metadata": {
        "id": "4fjRHO0qS3Mu"
      },
      "source": [
        "### 10x10 Matrix\n"
      ]
    },
    {
      "cell_type": "code",
      "metadata": {
        "colab": {
          "base_uri": "https://localhost:8080/"
        },
        "id": "DnQdaQXdIgT0",
        "outputId": "5802ddc4-e965-4c6f-85ee-f50b2b8c144f"
      },
      "source": [
        "import random\n",
        "\n",
        "def make_board(row_num=10):\n",
        "    my_matrix = []\n",
        "\n",
        "    for my_rows in range(row_num):\n",
        "        my_rows = []\n",
        "\n",
        "        for my_elements in range(row_num):\n",
        "            my_element = random.randint(0,9)\n",
        "            \n",
        "            print(my_element, end= \" \")\n",
        "\n",
        "            my_rows.append(my_element)\n",
        "\n",
        "        print(\"\")\n",
        "        my_matrix.append(my_rows)\n",
        "\n",
        "make_board(10)\n",
        "\n",
        "\n"
      ],
      "execution_count": 128,
      "outputs": [
        {
          "output_type": "stream",
          "text": [
            "8 7 2 5 6 6 1 9 4 6 \n",
            "3 2 3 5 0 2 0 9 2 3 \n",
            "0 8 4 2 7 5 9 4 7 4 \n",
            "6 0 6 5 7 2 2 2 1 7 \n",
            "0 3 7 1 0 6 0 8 5 0 \n",
            "5 4 7 1 4 7 1 1 8 4 \n",
            "2 3 5 2 3 8 5 7 5 8 \n",
            "1 6 2 5 0 9 4 2 1 7 \n",
            "3 5 2 7 7 9 5 4 5 3 \n",
            "1 8 3 5 2 6 8 1 1 7 \n"
          ],
          "name": "stdout"
        }
      ]
    },
    {
      "cell_type": "markdown",
      "metadata": {
        "id": "CFyAS6qvWgwR"
      },
      "source": [
        "### Printing '@' in place of odd numbers \n"
      ]
    },
    {
      "cell_type": "code",
      "metadata": {
        "colab": {
          "base_uri": "https://localhost:8080/"
        },
        "id": "IQn6l_d9QUdo",
        "outputId": "33d03973-ec45-4613-aab8-9b4c410303c2"
      },
      "source": [
        "import random\n",
        "\n",
        "def make_board(row_num=10):\n",
        "    my_matrix = []\n",
        "\n",
        "    for my_rows in range(row_num):\n",
        "        my_rows = []\n",
        "\n",
        "        for my_elements in range(row_num):\n",
        "            my_element = random.randint(0,9)\n",
        "            if (my_element % 2 ==1):\n",
        "              print('@', end=\" \")\n",
        "            else:\n",
        "              print(my_element, end= \" \")\n",
        "\n",
        "\n",
        "            my_rows.append(my_element)\n",
        "\n",
        "        print(\"\")\n",
        "        my_matrix.append(my_rows)\n",
        "\n",
        "make_board(10)\n",
        "\n"
      ],
      "execution_count": 215,
      "outputs": [
        {
          "output_type": "stream",
          "text": [
            "2 4 @ 6 2 @ 8 @ @ 2 \n",
            "4 @ @ 0 @ @ @ 2 8 4 \n",
            "@ @ 0 @ @ @ @ @ @ @ \n",
            "@ 8 8 @ @ 2 @ 6 4 @ \n",
            "@ 6 @ 2 @ @ @ 0 @ @ \n",
            "@ 6 @ @ 4 8 4 @ @ 0 \n",
            "@ @ @ @ 0 @ @ 8 2 @ \n",
            "4 @ @ @ @ @ @ 8 @ 0 \n",
            "@ @ 6 @ 8 8 @ @ 4 0 \n",
            "@ 6 @ @ 8 @ 0 @ 2 0 \n"
          ],
          "name": "stdout"
        }
      ]
    },
    {
      "cell_type": "markdown",
      "metadata": {
        "id": "OQ3UoWbeYMUT"
      },
      "source": [
        "### Sum of each row\n"
      ]
    },
    {
      "cell_type": "code",
      "metadata": {
        "colab": {
          "base_uri": "https://localhost:8080/",
          "height": 130
        },
        "id": "JgD8PzxzYQMU",
        "outputId": "60af3b2a-394f-4198-f7fc-308111d89e81"
      },
      "source": [
        "import random\n",
        "\n",
        "def make_board(row_num=10):\n",
        "    my_matrix = []\n",
        "\n",
        "    for r in range(row_num):\n",
        "        r = []\n",
        "        \n",
        "\n",
        "        for i in range(row_num):\n",
        "            j = random.randint(0,9)\n",
        "            \n",
        "            print(j, end= \" \")\n",
        "\n",
        "            try total_sum= sum([i+j]):\n",
        "\n",
        "                r.append(j)\n",
        "\n",
        "\n",
        "\n",
        "        print(\"\")\n",
        "        my_matrix.append(r)\n",
        "\n",
        "#def  my_total = sum([j+j]):\n",
        "\n",
        "\n",
        "\n",
        "(make_board(10), total_sum)\n",
        "\n",
        "\n"
      ],
      "execution_count": 267,
      "outputs": [
        {
          "output_type": "error",
          "ename": "SyntaxError",
          "evalue": "ignored",
          "traceback": [
            "\u001b[0;36m  File \u001b[0;32m\"<ipython-input-267-9c478882894d>\"\u001b[0;36m, line \u001b[0;32m15\u001b[0m\n\u001b[0;31m    try total_sum= sum([i+j]):\u001b[0m\n\u001b[0m                ^\u001b[0m\n\u001b[0;31mSyntaxError\u001b[0m\u001b[0;31m:\u001b[0m invalid syntax\n"
          ]
        }
      ]
    },
    {
      "cell_type": "code",
      "metadata": {
        "colab": {
          "base_uri": "https://localhost:8080/",
          "height": 164
        },
        "id": "VWQVhCpTzKgf",
        "outputId": "508c2d5f-0404-4927-8dde-5129ce58f592"
      },
      "source": [
        "print(my_element)"
      ],
      "execution_count": 226,
      "outputs": [
        {
          "output_type": "error",
          "ename": "NameError",
          "evalue": "ignored",
          "traceback": [
            "\u001b[0;31m---------------------------------------------------------------------------\u001b[0m",
            "\u001b[0;31mNameError\u001b[0m                                 Traceback (most recent call last)",
            "\u001b[0;32m<ipython-input-226-0b95158c5c3a>\u001b[0m in \u001b[0;36m<module>\u001b[0;34m()\u001b[0m\n\u001b[0;32m----> 1\u001b[0;31m \u001b[0mprint\u001b[0m\u001b[0;34m(\u001b[0m\u001b[0mmy_element\u001b[0m\u001b[0;34m)\u001b[0m\u001b[0;34m\u001b[0m\u001b[0;34m\u001b[0m\u001b[0m\n\u001b[0m",
            "\u001b[0;31mNameError\u001b[0m: name 'my_element' is not defined"
          ]
        }
      ]
    },
    {
      "cell_type": "code",
      "metadata": {
        "colab": {
          "base_uri": "https://localhost:8080/",
          "height": 385
        },
        "id": "La5c5c71anQg",
        "outputId": "d5aa5f58-2533-4f7d-d7c2-7ec925665a2e"
      },
      "source": [
        "my_matrix= make_board(10)\n",
        "\n",
        "rowCount= 10\n",
        "colCount= 10\n",
        "\n",
        "#for line in my_matrix:\n",
        "    #print(line)\n",
        "\n",
        "for row in range(rowCount):\n",
        "    print(f\"sum row{row} = \", sum(my_matrix[row]))\n",
        "\n"
      ],
      "execution_count": 219,
      "outputs": [
        {
          "output_type": "stream",
          "text": [
            "2 @ 4 4 @ 4 @ @ @ @ \n",
            "8 4 @ @ @ @ @ @ @ 4 \n",
            "@ @ 2 4 @ 2 4 @ 4 @ \n",
            "2 @ @ 6 @ 0 4 @ @ @ \n",
            "@ 2 @ 8 2 4 2 @ 0 6 \n",
            "@ 6 @ 0 4 0 @ 8 0 2 \n",
            "0 6 @ @ 0 4 @ @ 8 @ \n",
            "@ @ @ 4 @ 2 @ @ 8 @ \n",
            "@ 4 2 6 @ 6 6 0 @ @ \n",
            "8 4 @ @ @ 8 @ @ @ 6 \n"
          ],
          "name": "stdout"
        },
        {
          "output_type": "error",
          "ename": "TypeError",
          "evalue": "ignored",
          "traceback": [
            "\u001b[0;31m---------------------------------------------------------------------------\u001b[0m",
            "\u001b[0;31mTypeError\u001b[0m                                 Traceback (most recent call last)",
            "\u001b[0;32m<ipython-input-219-52ff425fafc4>\u001b[0m in \u001b[0;36m<module>\u001b[0;34m()\u001b[0m\n\u001b[1;32m      8\u001b[0m \u001b[0;34m\u001b[0m\u001b[0m\n\u001b[1;32m      9\u001b[0m \u001b[0;32mfor\u001b[0m \u001b[0mrow\u001b[0m \u001b[0;32min\u001b[0m \u001b[0mrange\u001b[0m\u001b[0;34m(\u001b[0m\u001b[0mrowCount\u001b[0m\u001b[0;34m)\u001b[0m\u001b[0;34m:\u001b[0m\u001b[0;34m\u001b[0m\u001b[0;34m\u001b[0m\u001b[0m\n\u001b[0;32m---> 10\u001b[0;31m     \u001b[0mprint\u001b[0m\u001b[0;34m(\u001b[0m\u001b[0;34mf\"sum row{row} = \"\u001b[0m\u001b[0;34m,\u001b[0m \u001b[0msum\u001b[0m\u001b[0;34m(\u001b[0m\u001b[0mmy_matrix\u001b[0m\u001b[0;34m[\u001b[0m\u001b[0mrow\u001b[0m\u001b[0;34m]\u001b[0m\u001b[0;34m)\u001b[0m\u001b[0;34m)\u001b[0m\u001b[0;34m\u001b[0m\u001b[0;34m\u001b[0m\u001b[0m\n\u001b[0m\u001b[1;32m     11\u001b[0m \u001b[0;34m\u001b[0m\u001b[0m\n",
            "\u001b[0;31mTypeError\u001b[0m: 'NoneType' object is not subscriptable"
          ]
        }
      ]
    },
    {
      "cell_type": "code",
      "metadata": {
        "colab": {
          "base_uri": "https://localhost:8080/"
        },
        "id": "aQNPqtDLxJQV",
        "outputId": "10432fac-350a-4b34-c072-955228b6872a"
      },
      "source": [
        "make_board(10)\n",
        "my_matrix3= make_board(10)\n",
        "\n"
      ],
      "execution_count": 217,
      "outputs": [
        {
          "output_type": "stream",
          "text": [
            "@ @ 4 @ 8 @ @ @ 2 @ \n",
            "2 4 @ @ 6 @ 4 8 @ 6 \n",
            "@ 2 6 @ @ @ @ @ @ 2 \n",
            "6 @ 8 @ @ 4 @ 0 2 @ \n",
            "6 @ 4 @ @ 8 @ 0 8 @ \n",
            "8 @ 8 6 4 @ 4 4 @ @ \n",
            "6 @ 8 8 @ @ @ 8 8 @ \n",
            "@ @ @ 0 @ 6 @ 8 8 @ \n",
            "2 @ @ 2 @ 8 @ @ 8 @ \n",
            "6 @ @ 8 0 @ 0 2 @ @ \n",
            "6 8 8 6 @ 6 0 6 @ @ \n",
            "@ @ @ 0 0 @ 4 8 2 @ \n",
            "@ 6 @ 8 2 4 @ 0 @ @ \n",
            "2 2 @ @ @ 8 @ 2 0 @ \n",
            "@ 0 @ @ @ @ @ 4 @ @ \n",
            "@ @ 0 8 @ 4 4 @ 0 2 \n",
            "@ @ 0 0 @ @ 2 6 @ @ \n",
            "4 @ 2 @ @ 0 0 4 6 2 \n",
            "@ @ @ @ 0 2 2 @ 0 8 \n",
            "@ 8 2 @ @ @ @ @ 8 2 \n"
          ],
          "name": "stdout"
        }
      ]
    },
    {
      "cell_type": "code",
      "metadata": {
        "colab": {
          "base_uri": "https://localhost:8080/",
          "height": 130
        },
        "id": "lq1UgNuB_882",
        "outputId": "32b57a8b-cad3-476a-c5da-4499d2d038ff"
      },
      "source": [
        "import random\n",
        "\n",
        "def make_board(row_num=10):\n",
        "    my_matrix = []\n",
        "\n",
        "    for my_rows in range(row_num):\n",
        "        my_rows = []\n",
        "\n",
        "        for my_elements in range(row_num):\n",
        "            my_element = random.randint(0,9)\n",
        "\n",
        "        try     \n",
        "            \n",
        "            print(my_element, end= \" \")\n",
        "\n",
        "            my_rows.append(my_element)\n",
        "\n",
        "        print(\"\")\n",
        "        my_matrix.append(my_rows)\n",
        "\n",
        "make_board(10)\n"
      ],
      "execution_count": 252,
      "outputs": [
        {
          "output_type": "error",
          "ename": "IndentationError",
          "evalue": "ignored",
          "traceback": [
            "\u001b[0;36m  File \u001b[0;32m\"<ipython-input-252-1cccc33f6d09>\"\u001b[0;36m, line \u001b[0;32m24\u001b[0m\n\u001b[0;31m    print(my_element, end= \" \")\u001b[0m\n\u001b[0m    ^\u001b[0m\n\u001b[0;31mIndentationError\u001b[0m\u001b[0;31m:\u001b[0m unexpected indent\n"
          ]
        }
      ]
    },
    {
      "cell_type": "code",
      "metadata": {
        "colab": {
          "base_uri": "https://localhost:8080/",
          "height": 130
        },
        "id": "0UhwT6e7TT8g",
        "outputId": "fd4d317c-70b8-4db6-c7ba-34a0c30aadbb"
      },
      "source": [
        "square = [\n",
        "    8 7 2 5 6 6 1 9 4 6\n",
        "    3 2 3 5 0 2 0 9 2 3 \n",
        "    0 8 4 2 7 5 9 4 7 4 \n",
        "    6 0 6 5 7 2 2 2 1 7 \n",
        "    0 3 7 1 0 6 0 8 5 0 \n",
        "    5 4 7 1 4 7 1 1 8 4 \n",
        "    2 3 5 2 3 8 5 7 5 8 \n",
        "    1 6 2 5 0 9 4 2 1 7 \n",
        "    3 5 2 7 7 9 5 4 5 3 \n",
        "    1 8 3 5 2 6 8 1 1 7\n",
        "]\n",
        "\n",
        "def row_sums(square):       \n",
        "        total = []\n",
        "        for row in square:\n",
        "            result= 0\n",
        "            for col in row:\n",
        "                result += col\n",
        "            total.append(result)\n",
        "\n",
        "        return total\n",
        "\n",
        "        print(row_sums(square))"
      ],
      "execution_count": 266,
      "outputs": [
        {
          "output_type": "error",
          "ename": "SyntaxError",
          "evalue": "ignored",
          "traceback": [
            "\u001b[0;36m  File \u001b[0;32m\"<ipython-input-266-02203ccda86f>\"\u001b[0;36m, line \u001b[0;32m2\u001b[0m\n\u001b[0;31m    8 7 2 5 6 6 1 9 4 6\u001b[0m\n\u001b[0m      ^\u001b[0m\n\u001b[0;31mSyntaxError\u001b[0m\u001b[0;31m:\u001b[0m invalid syntax\n"
          ]
        }
      ]
    },
    {
      "cell_type": "code",
      "metadata": {
        "colab": {
          "base_uri": "https://localhost:8080/",
          "height": 249
        },
        "id": "y1Pih6UsXz01",
        "outputId": "3083a31c-c6e3-4066-d527-67ba430c43fd"
      },
      "source": [
        "import random\n",
        "rows = int(input(\"Enter number of rows in the matrix: \"))\n",
        "columns = int(input(\"Enter number of columns in the matrix: \"))\n",
        "matrix = []\n",
        "print(\"Enter the %s x %s matrix: \"% (rows, columns))\n",
        "for i in range(rows):\n",
        "    matrix.append(list(map(list(random.randint(0,9)))))"
      ],
      "execution_count": 272,
      "outputs": [
        {
          "output_type": "stream",
          "text": [
            "Enter number of rows in the matrix: 10\n",
            "Enter number of columns in the matrix: 10\n",
            "Enter the 10 x 10 matrix: \n"
          ],
          "name": "stdout"
        },
        {
          "output_type": "error",
          "ename": "TypeError",
          "evalue": "ignored",
          "traceback": [
            "\u001b[0;31m---------------------------------------------------------------------------\u001b[0m",
            "\u001b[0;31mTypeError\u001b[0m                                 Traceback (most recent call last)",
            "\u001b[0;32m<ipython-input-272-de9a3f3c96ab>\u001b[0m in \u001b[0;36m<module>\u001b[0;34m()\u001b[0m\n\u001b[1;32m      5\u001b[0m \u001b[0mprint\u001b[0m\u001b[0;34m(\u001b[0m\u001b[0;34m\"Enter the %s x %s matrix: \"\u001b[0m\u001b[0;34m%\u001b[0m \u001b[0;34m(\u001b[0m\u001b[0mrows\u001b[0m\u001b[0;34m,\u001b[0m \u001b[0mcolumns\u001b[0m\u001b[0;34m)\u001b[0m\u001b[0;34m)\u001b[0m\u001b[0;34m\u001b[0m\u001b[0;34m\u001b[0m\u001b[0m\n\u001b[1;32m      6\u001b[0m \u001b[0;32mfor\u001b[0m \u001b[0mi\u001b[0m \u001b[0;32min\u001b[0m \u001b[0mrange\u001b[0m\u001b[0;34m(\u001b[0m\u001b[0mrows\u001b[0m\u001b[0;34m)\u001b[0m\u001b[0;34m:\u001b[0m\u001b[0;34m\u001b[0m\u001b[0;34m\u001b[0m\u001b[0m\n\u001b[0;32m----> 7\u001b[0;31m     \u001b[0mmatrix\u001b[0m\u001b[0;34m.\u001b[0m\u001b[0mappend\u001b[0m\u001b[0;34m(\u001b[0m\u001b[0mlist\u001b[0m\u001b[0;34m(\u001b[0m\u001b[0mmap\u001b[0m\u001b[0;34m(\u001b[0m\u001b[0mlist\u001b[0m\u001b[0;34m(\u001b[0m\u001b[0mrandom\u001b[0m\u001b[0;34m.\u001b[0m\u001b[0mrandint\u001b[0m\u001b[0;34m(\u001b[0m\u001b[0;36m0\u001b[0m\u001b[0;34m,\u001b[0m\u001b[0;36m9\u001b[0m\u001b[0;34m)\u001b[0m\u001b[0;34m)\u001b[0m\u001b[0;34m)\u001b[0m\u001b[0;34m)\u001b[0m\u001b[0;34m)\u001b[0m\u001b[0;34m\u001b[0m\u001b[0;34m\u001b[0m\u001b[0m\n\u001b[0m",
            "\u001b[0;31mTypeError\u001b[0m: 'int' object is not iterable"
          ]
        }
      ]
    },
    {
      "cell_type": "markdown",
      "metadata": {
        "id": "v-ylI0P6deZr"
      },
      "source": [
        "### Print Sum of Rows\n"
      ]
    },
    {
      "cell_type": "code",
      "metadata": {
        "colab": {
          "base_uri": "https://localhost:8080/"
        },
        "id": "jrIF8Q1Mdjw5",
        "outputId": "516ac97b-f0c4-4f0b-f20a-0bb11df0db55"
      },
      "source": [
        "import random\n",
        "\n",
        "def random_matrix(row_num=10, matrix_return='on'):\n",
        "    my_matrix = []\n",
        "\n",
        "    for matrix_rows in range(row_num):\n",
        "        my_rows = [] # creating an empty array \n",
        "        row_total = 0\n",
        "\n",
        "        for my_elements in range(row_num):\n",
        "            my_elements = random.randint(0,9)\n",
        "            \n",
        "            if (my_elements % 2 ==1):\n",
        "                a = '@'\n",
        "\n",
        "              #print('@', end=\" \")\n",
        "            #else:\n",
        "              #print(my_element, end= \" \")  \n",
        "              # to print the '@' in place of odd numbers\n",
        "\n",
        "            my_rows.append(my_elements)\n",
        "\n",
        "\n",
        "            try:\n",
        "                row_total= row_total + my_elements\n",
        "            except:\n",
        "                row_total = row_total + 0\n",
        "            print(my_elements, end=\" \")\n",
        "\n",
        "\n",
        "        my_rows.append(f\"* {row_total}\")\n",
        "        print(f\"* {row_total}\")\n",
        "        my_matrix.append(my_rows)\n",
        "\n",
        "    if matrix_rows == 'on':\n",
        "        return(my_matrix)\n",
        "\n",
        "\n",
        "random_matrix(10)\n",
        "\n"
      ],
      "execution_count": 289,
      "outputs": [
        {
          "output_type": "stream",
          "text": [
            "6 5 9 5 1 3 0 2 4 8 * 43\n",
            "5 6 5 2 7 0 4 6 7 1 * 43\n",
            "9 7 8 1 4 0 6 6 7 5 * 53\n",
            "1 0 8 1 1 5 2 2 1 3 * 24\n",
            "1 7 8 9 1 6 6 1 5 7 * 51\n",
            "3 6 2 1 2 1 9 0 2 0 * 26\n",
            "3 1 4 9 2 3 7 7 2 6 * 44\n",
            "8 6 8 6 8 7 2 5 4 3 * 57\n",
            "0 6 9 2 7 5 8 4 5 5 * 51\n",
            "4 7 4 0 8 5 9 8 3 0 * 48\n"
          ],
          "name": "stdout"
        }
      ]
    },
    {
      "cell_type": "code",
      "metadata": {
        "id": "WNJSeD6VkVVo"
      },
      "source": [
        "import random\n",
        "\n",
        "def random_matrix(row_num=10, matrix_return='on'):\n",
        "    my_matrix = []\n",
        "\n",
        "    for matrix_rows in range(row_num):\n",
        "        my_rows = [] # creating an empty array \n",
        "        row_total = 0\n",
        "\n",
        "        for my_elements in range(row_num):\n",
        "            my_elements = random.randint(0,9)\n",
        "            \n",
        "            if (my_elements % 2 ==1):\n",
        "                a = '@'\n",
        "\n",
        "              #print('@', end=\" \")\n",
        "            #else:\n",
        "              #print(my_element, end= \" \")  \n",
        "              # this prints '@' in place of odd numbers noted previously\n",
        "\n",
        "            my_rows.append(my_elements)\n",
        "\n",
        "\n",
        "            try:\n",
        "                row_total= row_total + my_elements\n",
        "            except:\n",
        "                row_total = row_total + 0\n",
        "            print(my_elements, end=\" \")\n",
        "\n",
        "\n",
        "        my_rows.append(f\"* {row_total}\")\n",
        "        print(f\"* {row_total}\")\n",
        "        my_matrix.append(my_rows)\n",
        "\n",
        "    if matrix_rows == 'on':\n",
        "        return(my_matrix)\n",
        "\n",
        "\n",
        "random_matrix(10)"
      ],
      "execution_count": null,
      "outputs": []
    }
  ]
}