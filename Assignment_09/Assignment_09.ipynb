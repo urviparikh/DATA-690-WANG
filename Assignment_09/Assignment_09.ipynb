{
  "nbformat": 4,
  "nbformat_minor": 0,
  "metadata": {
    "colab": {
      "name": "Assignment-09.ipynb",
      "provenance": [],
      "authorship_tag": "ABX9TyNG7d7l4p84o/1xIQFu0qdU",
      "include_colab_link": true
    },
    "kernelspec": {
      "name": "python3",
      "display_name": "Python 3"
    },
    "language_info": {
      "name": "python"
    }
  },
  "cells": [
    {
      "cell_type": "markdown",
      "metadata": {
        "id": "view-in-github",
        "colab_type": "text"
      },
      "source": [
        "<a href=\"https://colab.research.google.com/github/urviparikh/DATA-690-WANG/blob/main/Assignment_09/Assignment_09.ipynb\" target=\"_parent\"><img src=\"https://colab.research.google.com/assets/colab-badge.svg\" alt=\"Open In Colab\"/></a>"
      ]
    },
    {
      "cell_type": "markdown",
      "metadata": {
        "id": "_TkfG6jTmnET"
      },
      "source": [
        " **Assignment 9**\n",
        " \n",
        "**Author: Urvi Parikh**"
      ]
    },
    {
      "cell_type": "code",
      "metadata": {
        "id": "EWz2UguMnYPx"
      },
      "source": [
        "import pandas as pd\n",
        "import numpy as np\n",
        "import scipy.stats as st\n",
        "from scipy.stats import t\n",
        "import math"
      ],
      "execution_count": 41,
      "outputs": []
    },
    {
      "cell_type": "markdown",
      "metadata": {
        "id": "eUh2w8hRnxkL"
      },
      "source": [
        "A random survey of enrollment at 35 community colleges across the United States yielded the following figures:\n",
        "\n",
        "6,414; 1,550; 2,109; 9,350; 21,828; 4,300; 5,944; 5,722; 2,825; 2,044;\n",
        "\n",
        "5,481; 5,200; 5,853; 2,750; 10,012; 6,357; 27,000; 9,414; 7,681; 3,200;\n",
        "\n",
        "17,500; 9,200; 7,380; 18,314; 6,557; 13,713; 17,768; 7,493; 2,771; 2,861;\n",
        "\n",
        "1,263; 7,285; 28,165; 5,080; 11,622"
      ]
    },
    {
      "cell_type": "markdown",
      "metadata": {
        "id": "WiioN2xhn9W9"
      },
      "source": [
        "**Step 0 - Data Preprocessing**"
      ]
    },
    {
      "cell_type": "code",
      "metadata": {
        "colab": {
          "base_uri": "https://localhost:8080/"
        },
        "id": "A0LCGFDan1eg",
        "outputId": "2cf98b65-73dc-4841-80a4-0b0215be41f1"
      },
      "source": [
        "# make each line of numbers a string object and then concatenate them together \n",
        "# The end result is one single string containing 35 numbers separated by \";\"\n",
        "\n",
        "data_1 = \"6,414; 1,550; 2,109; 9,350; 21,828; 4,300; 5,944; 5,722; 2,825; 2,044;\" \n",
        "data_2 = \"5,481; 5,200; 5,853; 2,750; 10,012; 6,357; 27,000; 9,414; 7,681; 3,200; \"\n",
        "data_3 = \"17,500; 9,200; 7,380; 18,314; 6,557; 13,713; 17,768; 7,493; 2,771; 2,861; \"\n",
        "data_4 = \"1,263; 7,285; 28,165; 5,080; 11,622\"\n",
        "data = data_1 + data_2 + data_3 + data_4\n",
        "print(data)"
      ],
      "execution_count": 42,
      "outputs": [
        {
          "output_type": "stream",
          "text": [
            "6,414; 1,550; 2,109; 9,350; 21,828; 4,300; 5,944; 5,722; 2,825; 2,044;5,481; 5,200; 5,853; 2,750; 10,012; 6,357; 27,000; 9,414; 7,681; 3,200; 17,500; 9,200; 7,380; 18,314; 6,557; 13,713; 17,768; 7,493; 2,771; 2,861; 1,263; 7,285; 28,165; 5,080; 11,622\n"
          ],
          "name": "stdout"
        }
      ]
    },
    {
      "cell_type": "code",
      "metadata": {
        "colab": {
          "base_uri": "https://localhost:8080/"
        },
        "id": "HxbL-jluodWd",
        "outputId": "991fb5e7-94f4-43d0-a67a-37b668b8c6d2"
      },
      "source": [
        "# Convert the single string to a list of strings using split() function\n",
        "# Make sure to specify a delimter or separator\n",
        "\n",
        "my_string = data.split(';')\n",
        "print(my_string)"
      ],
      "execution_count": 43,
      "outputs": [
        {
          "output_type": "stream",
          "text": [
            "['6,414', ' 1,550', ' 2,109', ' 9,350', ' 21,828', ' 4,300', ' 5,944', ' 5,722', ' 2,825', ' 2,044', '5,481', ' 5,200', ' 5,853', ' 2,750', ' 10,012', ' 6,357', ' 27,000', ' 9,414', ' 7,681', ' 3,200', ' 17,500', ' 9,200', ' 7,380', ' 18,314', ' 6,557', ' 13,713', ' 17,768', ' 7,493', ' 2,771', ' 2,861', ' 1,263', ' 7,285', ' 28,165', ' 5,080', ' 11,622']\n"
          ],
          "name": "stdout"
        }
      ]
    },
    {
      "cell_type": "markdown",
      "metadata": {
        "id": "k93Nn6qwo5Ao"
      },
      "source": [
        "Create a list of integers from the list of strings using List Comprehension or for loop. Make sure to remove the \",\" first and then convert the strings to integers."
      ]
    },
    {
      "cell_type": "code",
      "metadata": {
        "colab": {
          "base_uri": "https://localhost:8080/"
        },
        "id": "Vzldo4uOovuZ",
        "outputId": "a8651dce-e5aa-4f39-87d1-7631d9e30670"
      },
      "source": [
        "my_list = []\n",
        "\n",
        "for i in my_string:\n",
        "    string1 = i.replace(',', '')\n",
        "    string2 = int(string1)\n",
        "\n",
        "    my_list.append(string2)\n",
        "\n",
        "print(my_list)\n"
      ],
      "execution_count": 44,
      "outputs": [
        {
          "output_type": "stream",
          "text": [
            "[6414, 1550, 2109, 9350, 21828, 4300, 5944, 5722, 2825, 2044, 5481, 5200, 5853, 2750, 10012, 6357, 27000, 9414, 7681, 3200, 17500, 9200, 7380, 18314, 6557, 13713, 17768, 7493, 2771, 2861, 1263, 7285, 28165, 5080, 11622]\n"
          ],
          "name": "stdout"
        }
      ]
    },
    {
      "cell_type": "markdown",
      "metadata": {
        "id": "CNbm0uIxtQe1"
      },
      "source": [
        "**Step 1 - Calculate and Display the Sample Size and Sample Mean**"
      ]
    },
    {
      "cell_type": "code",
      "metadata": {
        "colab": {
          "base_uri": "https://localhost:8080/"
        },
        "id": "Rje4IbFltNTA",
        "outputId": "8c49e8a6-3b30-4df8-d8a0-d046e42b51ab"
      },
      "source": [
        "# Calculate and display the sample size\n",
        "\n",
        "sample_size = len(my_list)\n",
        "\n",
        "print(\"Sample size =\", sample_size)"
      ],
      "execution_count": 45,
      "outputs": [
        {
          "output_type": "stream",
          "text": [
            "Sample size = 35\n"
          ],
          "name": "stdout"
        }
      ]
    },
    {
      "cell_type": "code",
      "metadata": {
        "colab": {
          "base_uri": "https://localhost:8080/"
        },
        "id": "odZ3dWavtrfO",
        "outputId": "45097cf6-7cb5-4d18-cb60-f7913585cdba"
      },
      "source": [
        "# Calculate and display the sample mean\n",
        "\n",
        "sample_mean = sum(my_list)/len(my_list)\n",
        "sample_mean = float(math.ceil(sample_mean))\n",
        "\n",
        "print(\"Sample mean = \", sample_mean)"
      ],
      "execution_count": 46,
      "outputs": [
        {
          "output_type": "stream",
          "text": [
            "Sample mean =  8629.0\n"
          ],
          "name": "stdout"
        }
      ]
    },
    {
      "cell_type": "markdown",
      "metadata": {
        "id": "DRwRo9T2uc_P"
      },
      "source": [
        "The point estimate of the mean enrollment of US community colleges is **8629**."
      ]
    },
    {
      "cell_type": "markdown",
      "metadata": {
        "id": "C3zA7vPlukHW"
      },
      "source": [
        "**Step 2 - Calculate and Display the Sample Standard Deviation & Sample Standard Error**\n",
        "\n",
        "\n",
        "Sample Standard Deviation $S=\\sqrt{\\dfrac{1}{n-1}\\sum\\limits_{i=1}^n (X_i-\\bar{X})^2}$\n",
        "\n",
        "Sample Standard Error = $\\dfrac{S}{\\sqrt{n}}$\n",
        "\n",
        "Note: The default Delta Degree of Freedom (DDOF) for Numpy's std function is 0 which is applicable to populate data. For sample data, we need to specify ddof=1.\n",
        "\n",
        "For the enrollment data, we round up the statistics to be the full integers (no decimal points)."
      ]
    },
    {
      "cell_type": "code",
      "metadata": {
        "colab": {
          "base_uri": "https://localhost:8080/"
        },
        "id": "bQ3wCPoxugzo",
        "outputId": "8e3e6524-fc54-4598-ea9d-ac7b9cf8b668"
      },
      "source": [
        "# Calculate and display the sample standard deviation using Numpy's std function\n",
        "\n",
        "std_dev = round(np.std(my_list, ddof=1))\n",
        "\n",
        "print(\"Sample Standard Deviation = \", std_dev)"
      ],
      "execution_count": 49,
      "outputs": [
        {
          "output_type": "stream",
          "text": [
            "Sample Standard Deviation =  6944\n"
          ],
          "name": "stdout"
        }
      ]
    },
    {
      "cell_type": "code",
      "metadata": {
        "colab": {
          "base_uri": "https://localhost:8080/"
        },
        "id": "QYzMrEdhvqk3",
        "outputId": "a38db45b-064d-4497-f94c-d9635f814357"
      },
      "source": [
        "# Calculate and display the sample standard error\n",
        "\n",
        "std_error = round(std_dev / np.sqrt(sample_size))\n",
        "\n",
        "print(\"Sample standard error is \", std_error)\n"
      ],
      "execution_count": 50,
      "outputs": [
        {
          "output_type": "stream",
          "text": [
            "Sample standard error is  1174\n"
          ],
          "name": "stdout"
        }
      ]
    },
    {
      "cell_type": "markdown",
      "metadata": {
        "id": "MTwt2fA8wROP"
      },
      "source": [
        "**Step 3 - Calculate t Critical Value using t-Distribution**\n",
        "\n",
        "\n",
        "$\\alpha$ = 1 - Confidence Level = 1 - 95% = 0.05\n",
        "\n",
        "$\\dfrac{\\alpha}{2}$ = 0.025\n",
        "\n",
        "n (sample size) = 35\n",
        "\n",
        "df (degree of freedom) = n - 1 = 35 - 1 = 34\n",
        "\n",
        "We will use Python scipy.stats t-distribution's PPF (Percentage Point Function) to calculate t critical value $t_{0.025,34}$."
      ]
    },
    {
      "cell_type": "code",
      "metadata": {
        "colab": {
          "base_uri": "https://localhost:8080/"
        },
        "id": "76ZbzWOcwfGw",
        "outputId": "f8e89198-5136-4644-b70b-0c65e3480068"
      },
      "source": [
        "# Calculate and display the t critical value using scipy.stats.t package ppf function\n",
        "\n",
        "perc_conf_req = .95\n",
        "q = ((1-perc_conf_req)/2)\n",
        "n = sample_size\n",
        "df = n - 1\n",
        "\n",
        "\n",
        "t = st.t.ppf(q, df)\n",
        "t = round(abs(t),2)\n",
        "\n",
        "print(\"t critical value is \", t)\n"
      ],
      "execution_count": 52,
      "outputs": [
        {
          "output_type": "stream",
          "text": [
            "t critical value is  2.03\n"
          ],
          "name": "stdout"
        }
      ]
    },
    {
      "cell_type": "markdown",
      "metadata": {
        "id": "NPrzBI-40kO1"
      },
      "source": [
        "**Step 4 - Calculate the Margin of Error**\n",
        "\n",
        "\n",
        "Margin of Error = t-Statistics * Sample Standard Error = $t_{\\alpha/2,n-1}\\left(\\dfrac{s}{\\sqrt{n}}\\right)$"
      ]
    },
    {
      "cell_type": "code",
      "metadata": {
        "colab": {
          "base_uri": "https://localhost:8080/"
        },
        "id": "_ixl9NIc0rJ_",
        "outputId": "dd4c192d-bd6a-4ec8-d0e4-9a0cd4244be0"
      },
      "source": [
        "# Calculate and display the margin of error\n",
        "\n",
        "Margin_error = std_error * t\n",
        "Margin_error = float(math.floor(Margin_error))\n",
        "\n",
        "print(\"Margin of error = \", Margin_error)"
      ],
      "execution_count": 53,
      "outputs": [
        {
          "output_type": "stream",
          "text": [
            "Margin of error =  2383.0\n"
          ],
          "name": "stdout"
        }
      ]
    },
    {
      "cell_type": "markdown",
      "metadata": {
        "id": "iNrFf3sK3YL7"
      },
      "source": [
        "**Step 5 - Calculate Lower and Upper Limit of the Confidence Interval**\n",
        "\n",
        "\n",
        "Lower Limit = Sample Mean - Margin of Error\n",
        "\n",
        "Upper Limit = Sample Mean + Margin of Error"
      ]
    },
    {
      "cell_type": "code",
      "metadata": {
        "colab": {
          "base_uri": "https://localhost:8080/"
        },
        "id": "5CQFho7b3btV",
        "outputId": "365a630a-8609-4e7c-d6dc-31a365ac25dd"
      },
      "source": [
        "# Calculate and display the lower limit\n",
        "\n",
        "lower_limit = sample_mean - Margin_error\n",
        "\n",
        "print(\"Lower limit is \",lower_limit)"
      ],
      "execution_count": 54,
      "outputs": [
        {
          "output_type": "stream",
          "text": [
            "Lower limit is  6246.0\n"
          ],
          "name": "stdout"
        }
      ]
    },
    {
      "cell_type": "code",
      "metadata": {
        "colab": {
          "base_uri": "https://localhost:8080/"
        },
        "id": "qfWUDVHA3uqG",
        "outputId": "99b7ff1b-9a4f-4e8f-9a48-9c6bb170ec7b"
      },
      "source": [
        "# Calculate and display the upper limit\n",
        "\n",
        "upper_limit = sample_mean + Margin_error\n",
        "\n",
        "print(\"Upper limit is \", upper_limit)"
      ],
      "execution_count": 55,
      "outputs": [
        {
          "output_type": "stream",
          "text": [
            "Upper limit is  11012.0\n"
          ],
          "name": "stdout"
        }
      ]
    },
    {
      "cell_type": "markdown",
      "metadata": {
        "id": "vhTrJAaB36R6"
      },
      "source": [
        "**Step 6 - Now We have the 95% Confidence Interval**\n",
        "\n",
        "\n",
        "Confidence Interval ($\\sigma$ unknown) = $\\bar{x}\\space\\pm\\space t_{\\alpha/2}\\left(\\dfrac{S}{\\sqrt{n}}\\right)$ = Sample_Mean $\\pm$ Margin of Error"
      ]
    },
    {
      "cell_type": "code",
      "metadata": {
        "colab": {
          "base_uri": "https://localhost:8080/"
        },
        "id": "ECei9oTd39AA",
        "outputId": "3df7356c-e3f2-4913-c1ea-97c34a2132cd"
      },
      "source": [
        "# Print the 95% confidence interveral in the form (lower limit, upper limit)\n",
        "\n",
        "print(\"The 95% confidence interval = \",(lower_limit, upper_limit))"
      ],
      "execution_count": 56,
      "outputs": [
        {
          "output_type": "stream",
          "text": [
            "The 95% confidence interval =  (6246.0, 11012.0)\n"
          ],
          "name": "stdout"
        }
      ]
    }
  ]
}