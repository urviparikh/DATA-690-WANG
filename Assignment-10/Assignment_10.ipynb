{
  "nbformat": 4,
  "nbformat_minor": 0,
  "metadata": {
    "colab": {
      "name": "Assignment-10.ipynb",
      "provenance": [],
      "authorship_tag": "ABX9TyMX+ulz+9euZJ6thIi3ggne",
      "include_colab_link": true
    },
    "kernelspec": {
      "name": "python3",
      "display_name": "Python 3"
    },
    "language_info": {
      "name": "python"
    }
  },
  "cells": [
    {
      "cell_type": "markdown",
      "metadata": {
        "id": "view-in-github",
        "colab_type": "text"
      },
      "source": [
        "<a href=\"https://colab.research.google.com/github/urviparikh/DATA-690-WANG/blob/main/Assignment-10/Assignment_10.ipynb\" target=\"_parent\"><img src=\"https://colab.research.google.com/assets/colab-badge.svg\" alt=\"Open In Colab\"/></a>"
      ]
    },
    {
      "cell_type": "markdown",
      "metadata": {
        "id": "hUC6MvedwbiJ"
      },
      "source": [
        "**Assignment 10**\n",
        "\n",
        "**Author: Urvi Parikh**\n",
        "\n",
        "**Date: May 2, 2021**"
      ]
    },
    {
      "cell_type": "code",
      "metadata": {
        "id": "axsMZ9aRRA26"
      },
      "source": [
        "import pandas as pd"
      ],
      "execution_count": 1,
      "outputs": []
    },
    {
      "cell_type": "code",
      "metadata": {
        "id": "MDnJYycvSlfU"
      },
      "source": [
        "df = pd.read_csv('/content/gapminder.tsv', sep='\\t') # because it is a tab delimited file"
      ],
      "execution_count": 6,
      "outputs": []
    },
    {
      "cell_type": "code",
      "metadata": {
        "colab": {
          "base_uri": "https://localhost:8080/",
          "height": 204
        },
        "id": "So1Bo-hvVv_H",
        "outputId": "49c4cdf0-5965-498e-c29d-283c42bc9f0c"
      },
      "source": [
        "df.head()"
      ],
      "execution_count": 7,
      "outputs": [
        {
          "output_type": "execute_result",
          "data": {
            "text/html": [
              "<div>\n",
              "<style scoped>\n",
              "    .dataframe tbody tr th:only-of-type {\n",
              "        vertical-align: middle;\n",
              "    }\n",
              "\n",
              "    .dataframe tbody tr th {\n",
              "        vertical-align: top;\n",
              "    }\n",
              "\n",
              "    .dataframe thead th {\n",
              "        text-align: right;\n",
              "    }\n",
              "</style>\n",
              "<table border=\"1\" class=\"dataframe\">\n",
              "  <thead>\n",
              "    <tr style=\"text-align: right;\">\n",
              "      <th></th>\n",
              "      <th>country</th>\n",
              "      <th>continent</th>\n",
              "      <th>year</th>\n",
              "      <th>lifeExp</th>\n",
              "      <th>pop</th>\n",
              "      <th>gdpPercap</th>\n",
              "    </tr>\n",
              "  </thead>\n",
              "  <tbody>\n",
              "    <tr>\n",
              "      <th>0</th>\n",
              "      <td>Afghanistan</td>\n",
              "      <td>Asia</td>\n",
              "      <td>1952</td>\n",
              "      <td>28.801</td>\n",
              "      <td>8425333</td>\n",
              "      <td>779.445314</td>\n",
              "    </tr>\n",
              "    <tr>\n",
              "      <th>1</th>\n",
              "      <td>Afghanistan</td>\n",
              "      <td>Asia</td>\n",
              "      <td>1957</td>\n",
              "      <td>30.332</td>\n",
              "      <td>9240934</td>\n",
              "      <td>820.853030</td>\n",
              "    </tr>\n",
              "    <tr>\n",
              "      <th>2</th>\n",
              "      <td>Afghanistan</td>\n",
              "      <td>Asia</td>\n",
              "      <td>1962</td>\n",
              "      <td>31.997</td>\n",
              "      <td>10267083</td>\n",
              "      <td>853.100710</td>\n",
              "    </tr>\n",
              "    <tr>\n",
              "      <th>3</th>\n",
              "      <td>Afghanistan</td>\n",
              "      <td>Asia</td>\n",
              "      <td>1967</td>\n",
              "      <td>34.020</td>\n",
              "      <td>11537966</td>\n",
              "      <td>836.197138</td>\n",
              "    </tr>\n",
              "    <tr>\n",
              "      <th>4</th>\n",
              "      <td>Afghanistan</td>\n",
              "      <td>Asia</td>\n",
              "      <td>1972</td>\n",
              "      <td>36.088</td>\n",
              "      <td>13079460</td>\n",
              "      <td>739.981106</td>\n",
              "    </tr>\n",
              "  </tbody>\n",
              "</table>\n",
              "</div>"
            ],
            "text/plain": [
              "       country continent  year  lifeExp       pop   gdpPercap\n",
              "0  Afghanistan      Asia  1952   28.801   8425333  779.445314\n",
              "1  Afghanistan      Asia  1957   30.332   9240934  820.853030\n",
              "2  Afghanistan      Asia  1962   31.997  10267083  853.100710\n",
              "3  Afghanistan      Asia  1967   34.020  11537966  836.197138\n",
              "4  Afghanistan      Asia  1972   36.088  13079460  739.981106"
            ]
          },
          "metadata": {
            "tags": []
          },
          "execution_count": 7
        }
      ]
    },
    {
      "cell_type": "code",
      "metadata": {
        "colab": {
          "base_uri": "https://localhost:8080/"
        },
        "id": "4fMkGVJDV_D2",
        "outputId": "464f1ca9-fa44-4dac-82e6-2b8b7697c6c3"
      },
      "source": [
        "df.columns"
      ],
      "execution_count": 8,
      "outputs": [
        {
          "output_type": "execute_result",
          "data": {
            "text/plain": [
              "Index(['country', 'continent', 'year', 'lifeExp', 'pop', 'gdpPercap'], dtype='object')"
            ]
          },
          "metadata": {
            "tags": []
          },
          "execution_count": 8
        }
      ]
    },
    {
      "cell_type": "code",
      "metadata": {
        "colab": {
          "base_uri": "https://localhost:8080/"
        },
        "id": "yO8-RzEIWD7m",
        "outputId": "564857e3-2cf2-41e7-f599-42aaf893020a"
      },
      "source": [
        "df.index"
      ],
      "execution_count": 9,
      "outputs": [
        {
          "output_type": "execute_result",
          "data": {
            "text/plain": [
              "RangeIndex(start=0, stop=1704, step=1)"
            ]
          },
          "metadata": {
            "tags": []
          },
          "execution_count": 9
        }
      ]
    },
    {
      "cell_type": "code",
      "metadata": {
        "colab": {
          "base_uri": "https://localhost:8080/"
        },
        "id": "aMXoyltPWHkV",
        "outputId": "4944f6e0-1518-40c3-fc65-5f7557830b02"
      },
      "source": [
        "df.shape"
      ],
      "execution_count": 10,
      "outputs": [
        {
          "output_type": "execute_result",
          "data": {
            "text/plain": [
              "(1704, 6)"
            ]
          },
          "metadata": {
            "tags": []
          },
          "execution_count": 10
        }
      ]
    },
    {
      "cell_type": "code",
      "metadata": {
        "colab": {
          "base_uri": "https://localhost:8080/"
        },
        "id": "F21N9QQbXyCC",
        "outputId": "15578dec-4def-4632-bc5d-e820ff9c3cc2"
      },
      "source": [
        "type(df)"
      ],
      "execution_count": 11,
      "outputs": [
        {
          "output_type": "execute_result",
          "data": {
            "text/plain": [
              "pandas.core.frame.DataFrame"
            ]
          },
          "metadata": {
            "tags": []
          },
          "execution_count": 11
        }
      ]
    },
    {
      "cell_type": "code",
      "metadata": {
        "colab": {
          "base_uri": "https://localhost:8080/"
        },
        "id": "bO9MSq4uYI8C",
        "outputId": "a9721b4c-b53b-4b67-b718-7a54d3a83cb0"
      },
      "source": [
        "df.info()"
      ],
      "execution_count": 12,
      "outputs": [
        {
          "output_type": "stream",
          "text": [
            "<class 'pandas.core.frame.DataFrame'>\n",
            "RangeIndex: 1704 entries, 0 to 1703\n",
            "Data columns (total 6 columns):\n",
            " #   Column     Non-Null Count  Dtype  \n",
            "---  ------     --------------  -----  \n",
            " 0   country    1704 non-null   object \n",
            " 1   continent  1704 non-null   object \n",
            " 2   year       1704 non-null   int64  \n",
            " 3   lifeExp    1704 non-null   float64\n",
            " 4   pop        1704 non-null   int64  \n",
            " 5   gdpPercap  1704 non-null   float64\n",
            "dtypes: float64(2), int64(2), object(2)\n",
            "memory usage: 80.0+ KB\n"
          ],
          "name": "stdout"
        }
      ]
    },
    {
      "cell_type": "code",
      "metadata": {
        "colab": {
          "base_uri": "https://localhost:8080/"
        },
        "id": "n7VKMsmPYMvk",
        "outputId": "a4f39879-df65-4c0b-d924-88a4ed2a654c"
      },
      "source": [
        "# for a single column of our dataset\n",
        "df['country']"
      ],
      "execution_count": 13,
      "outputs": [
        {
          "output_type": "execute_result",
          "data": {
            "text/plain": [
              "0       Afghanistan\n",
              "1       Afghanistan\n",
              "2       Afghanistan\n",
              "3       Afghanistan\n",
              "4       Afghanistan\n",
              "           ...     \n",
              "1699       Zimbabwe\n",
              "1700       Zimbabwe\n",
              "1701       Zimbabwe\n",
              "1702       Zimbabwe\n",
              "1703       Zimbabwe\n",
              "Name: country, Length: 1704, dtype: object"
            ]
          },
          "metadata": {
            "tags": []
          },
          "execution_count": 13
        }
      ]
    },
    {
      "cell_type": "code",
      "metadata": {
        "id": "utcH8TjVYbXQ"
      },
      "source": [
        "country_df = df['country']"
      ],
      "execution_count": 14,
      "outputs": []
    },
    {
      "cell_type": "code",
      "metadata": {
        "colab": {
          "base_uri": "https://localhost:8080/"
        },
        "id": "PXaM6p57Ye99",
        "outputId": "4f980fb7-6845-49dc-a264-7acab29c7aa4"
      },
      "source": [
        "country_df.head()"
      ],
      "execution_count": 15,
      "outputs": [
        {
          "output_type": "execute_result",
          "data": {
            "text/plain": [
              "0    Afghanistan\n",
              "1    Afghanistan\n",
              "2    Afghanistan\n",
              "3    Afghanistan\n",
              "4    Afghanistan\n",
              "Name: country, dtype: object"
            ]
          },
          "metadata": {
            "tags": []
          },
          "execution_count": 15
        }
      ]
    },
    {
      "cell_type": "code",
      "metadata": {
        "colab": {
          "base_uri": "https://localhost:8080/"
        },
        "id": "iRVge44kYhb0",
        "outputId": "bd17623a-2979-4c19-85d6-11cc51b77708"
      },
      "source": [
        "type(country_df)"
      ],
      "execution_count": 16,
      "outputs": [
        {
          "output_type": "execute_result",
          "data": {
            "text/plain": [
              "pandas.core.series.Series"
            ]
          },
          "metadata": {
            "tags": []
          },
          "execution_count": 16
        }
      ]
    },
    {
      "cell_type": "code",
      "metadata": {
        "id": "ZE-TQ1-hYj-a"
      },
      "source": [
        "# more coulmns as a subset of dataset\n",
        "subset = df[['country','continent','year']]"
      ],
      "execution_count": 17,
      "outputs": []
    },
    {
      "cell_type": "code",
      "metadata": {
        "colab": {
          "base_uri": "https://localhost:8080/",
          "height": 204
        },
        "id": "UklXttvuYvnY",
        "outputId": "3603dcd7-9275-4239-a31b-20b40ff0dc76"
      },
      "source": [
        "subset.head()"
      ],
      "execution_count": 18,
      "outputs": [
        {
          "output_type": "execute_result",
          "data": {
            "text/html": [
              "<div>\n",
              "<style scoped>\n",
              "    .dataframe tbody tr th:only-of-type {\n",
              "        vertical-align: middle;\n",
              "    }\n",
              "\n",
              "    .dataframe tbody tr th {\n",
              "        vertical-align: top;\n",
              "    }\n",
              "\n",
              "    .dataframe thead th {\n",
              "        text-align: right;\n",
              "    }\n",
              "</style>\n",
              "<table border=\"1\" class=\"dataframe\">\n",
              "  <thead>\n",
              "    <tr style=\"text-align: right;\">\n",
              "      <th></th>\n",
              "      <th>country</th>\n",
              "      <th>continent</th>\n",
              "      <th>year</th>\n",
              "    </tr>\n",
              "  </thead>\n",
              "  <tbody>\n",
              "    <tr>\n",
              "      <th>0</th>\n",
              "      <td>Afghanistan</td>\n",
              "      <td>Asia</td>\n",
              "      <td>1952</td>\n",
              "    </tr>\n",
              "    <tr>\n",
              "      <th>1</th>\n",
              "      <td>Afghanistan</td>\n",
              "      <td>Asia</td>\n",
              "      <td>1957</td>\n",
              "    </tr>\n",
              "    <tr>\n",
              "      <th>2</th>\n",
              "      <td>Afghanistan</td>\n",
              "      <td>Asia</td>\n",
              "      <td>1962</td>\n",
              "    </tr>\n",
              "    <tr>\n",
              "      <th>3</th>\n",
              "      <td>Afghanistan</td>\n",
              "      <td>Asia</td>\n",
              "      <td>1967</td>\n",
              "    </tr>\n",
              "    <tr>\n",
              "      <th>4</th>\n",
              "      <td>Afghanistan</td>\n",
              "      <td>Asia</td>\n",
              "      <td>1972</td>\n",
              "    </tr>\n",
              "  </tbody>\n",
              "</table>\n",
              "</div>"
            ],
            "text/plain": [
              "       country continent  year\n",
              "0  Afghanistan      Asia  1952\n",
              "1  Afghanistan      Asia  1957\n",
              "2  Afghanistan      Asia  1962\n",
              "3  Afghanistan      Asia  1967\n",
              "4  Afghanistan      Asia  1972"
            ]
          },
          "metadata": {
            "tags": []
          },
          "execution_count": 18
        }
      ]
    },
    {
      "cell_type": "code",
      "metadata": {
        "colab": {
          "base_uri": "https://localhost:8080/",
          "height": 35
        },
        "id": "STSJFx-8Yyku",
        "outputId": "dce1f943-7b15-4e26-fcef-1d44f9f5ee54"
      },
      "source": [
        "# to find the current version of pandas you're working with\n",
        "pd.__version__"
      ],
      "execution_count": 20,
      "outputs": [
        {
          "output_type": "execute_result",
          "data": {
            "application/vnd.google.colaboratory.intrinsic+json": {
              "type": "string"
            },
            "text/plain": [
              "'1.1.5'"
            ]
          },
          "metadata": {
            "tags": []
          },
          "execution_count": 20
        }
      ]
    },
    {
      "cell_type": "code",
      "metadata": {
        "colab": {
          "base_uri": "https://localhost:8080/"
        },
        "id": "wgtTbCAbY-zF",
        "outputId": "5cf3cb1a-1066-4dad-cb5a-33abc8b7abc0"
      },
      "source": [
        "# subset rows using index\n",
        "df.loc[2]"
      ],
      "execution_count": 21,
      "outputs": [
        {
          "output_type": "execute_result",
          "data": {
            "text/plain": [
              "country      Afghanistan\n",
              "continent           Asia\n",
              "year                1962\n",
              "lifeExp           31.997\n",
              "pop             10267083\n",
              "gdpPercap        853.101\n",
              "Name: 2, dtype: object"
            ]
          },
          "metadata": {
            "tags": []
          },
          "execution_count": 21
        }
      ]
    },
    {
      "cell_type": "code",
      "metadata": {
        "colab": {
          "base_uri": "https://localhost:8080/",
          "height": 111
        },
        "id": "If7OzdvoZPE1",
        "outputId": "6f680caa-983e-4d7a-ae16-e205feb910da"
      },
      "source": [
        "df.loc[[2,0]]"
      ],
      "execution_count": 22,
      "outputs": [
        {
          "output_type": "execute_result",
          "data": {
            "text/html": [
              "<div>\n",
              "<style scoped>\n",
              "    .dataframe tbody tr th:only-of-type {\n",
              "        vertical-align: middle;\n",
              "    }\n",
              "\n",
              "    .dataframe tbody tr th {\n",
              "        vertical-align: top;\n",
              "    }\n",
              "\n",
              "    .dataframe thead th {\n",
              "        text-align: right;\n",
              "    }\n",
              "</style>\n",
              "<table border=\"1\" class=\"dataframe\">\n",
              "  <thead>\n",
              "    <tr style=\"text-align: right;\">\n",
              "      <th></th>\n",
              "      <th>country</th>\n",
              "      <th>continent</th>\n",
              "      <th>year</th>\n",
              "      <th>lifeExp</th>\n",
              "      <th>pop</th>\n",
              "      <th>gdpPercap</th>\n",
              "    </tr>\n",
              "  </thead>\n",
              "  <tbody>\n",
              "    <tr>\n",
              "      <th>2</th>\n",
              "      <td>Afghanistan</td>\n",
              "      <td>Asia</td>\n",
              "      <td>1962</td>\n",
              "      <td>31.997</td>\n",
              "      <td>10267083</td>\n",
              "      <td>853.100710</td>\n",
              "    </tr>\n",
              "    <tr>\n",
              "      <th>0</th>\n",
              "      <td>Afghanistan</td>\n",
              "      <td>Asia</td>\n",
              "      <td>1952</td>\n",
              "      <td>28.801</td>\n",
              "      <td>8425333</td>\n",
              "      <td>779.445314</td>\n",
              "    </tr>\n",
              "  </tbody>\n",
              "</table>\n",
              "</div>"
            ],
            "text/plain": [
              "       country continent  year  lifeExp       pop   gdpPercap\n",
              "2  Afghanistan      Asia  1962   31.997  10267083  853.100710\n",
              "0  Afghanistan      Asia  1952   28.801   8425333  779.445314"
            ]
          },
          "metadata": {
            "tags": []
          },
          "execution_count": 22
        }
      ]
    },
    {
      "cell_type": "code",
      "metadata": {
        "colab": {
          "base_uri": "https://localhost:8080/"
        },
        "id": "LDHWnV8fZbkR",
        "outputId": "6ac22ec1-e500-4021-d267-aeaffecc7427"
      },
      "source": [
        "df.iloc[2]"
      ],
      "execution_count": 23,
      "outputs": [
        {
          "output_type": "execute_result",
          "data": {
            "text/plain": [
              "country      Afghanistan\n",
              "continent           Asia\n",
              "year                1962\n",
              "lifeExp           31.997\n",
              "pop             10267083\n",
              "gdpPercap        853.101\n",
              "Name: 2, dtype: object"
            ]
          },
          "metadata": {
            "tags": []
          },
          "execution_count": 23
        }
      ]
    },
    {
      "cell_type": "code",
      "metadata": {
        "id": "HXxeU5nLZopF"
      },
      "source": [
        "df.ix # is ambiguous "
      ],
      "execution_count": null,
      "outputs": []
    },
    {
      "cell_type": "code",
      "metadata": {
        "id": "VFspHKYhZyjQ"
      },
      "source": [
        "# multiple rows and columns as a subset\n",
        "subset = df.loc[:,['year','pop']]"
      ],
      "execution_count": 24,
      "outputs": []
    },
    {
      "cell_type": "code",
      "metadata": {
        "colab": {
          "base_uri": "https://localhost:8080/",
          "height": 204
        },
        "id": "4Q6mMC0baCL5",
        "outputId": "ae1b6de0-4d9b-43e7-be0d-458fceed5366"
      },
      "source": [
        "subset.head()"
      ],
      "execution_count": 25,
      "outputs": [
        {
          "output_type": "execute_result",
          "data": {
            "text/html": [
              "<div>\n",
              "<style scoped>\n",
              "    .dataframe tbody tr th:only-of-type {\n",
              "        vertical-align: middle;\n",
              "    }\n",
              "\n",
              "    .dataframe tbody tr th {\n",
              "        vertical-align: top;\n",
              "    }\n",
              "\n",
              "    .dataframe thead th {\n",
              "        text-align: right;\n",
              "    }\n",
              "</style>\n",
              "<table border=\"1\" class=\"dataframe\">\n",
              "  <thead>\n",
              "    <tr style=\"text-align: right;\">\n",
              "      <th></th>\n",
              "      <th>year</th>\n",
              "      <th>pop</th>\n",
              "    </tr>\n",
              "  </thead>\n",
              "  <tbody>\n",
              "    <tr>\n",
              "      <th>0</th>\n",
              "      <td>1952</td>\n",
              "      <td>8425333</td>\n",
              "    </tr>\n",
              "    <tr>\n",
              "      <th>1</th>\n",
              "      <td>1957</td>\n",
              "      <td>9240934</td>\n",
              "    </tr>\n",
              "    <tr>\n",
              "      <th>2</th>\n",
              "      <td>1962</td>\n",
              "      <td>10267083</td>\n",
              "    </tr>\n",
              "    <tr>\n",
              "      <th>3</th>\n",
              "      <td>1967</td>\n",
              "      <td>11537966</td>\n",
              "    </tr>\n",
              "    <tr>\n",
              "      <th>4</th>\n",
              "      <td>1972</td>\n",
              "      <td>13079460</td>\n",
              "    </tr>\n",
              "  </tbody>\n",
              "</table>\n",
              "</div>"
            ],
            "text/plain": [
              "   year       pop\n",
              "0  1952   8425333\n",
              "1  1957   9240934\n",
              "2  1962  10267083\n",
              "3  1967  11537966\n",
              "4  1972  13079460"
            ]
          },
          "metadata": {
            "tags": []
          },
          "execution_count": 25
        }
      ]
    },
    {
      "cell_type": "code",
      "metadata": {
        "colab": {
          "base_uri": "https://localhost:8080/",
          "height": 419
        },
        "id": "o2N_CVAOaFCS",
        "outputId": "2b978138-9019-4228-8677-72b4b0aa366b"
      },
      "source": [
        "df.loc[df['year']==1967 , ['year','pop']]"
      ],
      "execution_count": 26,
      "outputs": [
        {
          "output_type": "execute_result",
          "data": {
            "text/html": [
              "<div>\n",
              "<style scoped>\n",
              "    .dataframe tbody tr th:only-of-type {\n",
              "        vertical-align: middle;\n",
              "    }\n",
              "\n",
              "    .dataframe tbody tr th {\n",
              "        vertical-align: top;\n",
              "    }\n",
              "\n",
              "    .dataframe thead th {\n",
              "        text-align: right;\n",
              "    }\n",
              "</style>\n",
              "<table border=\"1\" class=\"dataframe\">\n",
              "  <thead>\n",
              "    <tr style=\"text-align: right;\">\n",
              "      <th></th>\n",
              "      <th>year</th>\n",
              "      <th>pop</th>\n",
              "    </tr>\n",
              "  </thead>\n",
              "  <tbody>\n",
              "    <tr>\n",
              "      <th>3</th>\n",
              "      <td>1967</td>\n",
              "      <td>11537966</td>\n",
              "    </tr>\n",
              "    <tr>\n",
              "      <th>15</th>\n",
              "      <td>1967</td>\n",
              "      <td>1984060</td>\n",
              "    </tr>\n",
              "    <tr>\n",
              "      <th>27</th>\n",
              "      <td>1967</td>\n",
              "      <td>12760499</td>\n",
              "    </tr>\n",
              "    <tr>\n",
              "      <th>39</th>\n",
              "      <td>1967</td>\n",
              "      <td>5247469</td>\n",
              "    </tr>\n",
              "    <tr>\n",
              "      <th>51</th>\n",
              "      <td>1967</td>\n",
              "      <td>22934225</td>\n",
              "    </tr>\n",
              "    <tr>\n",
              "      <th>...</th>\n",
              "      <td>...</td>\n",
              "      <td>...</td>\n",
              "    </tr>\n",
              "    <tr>\n",
              "      <th>1647</th>\n",
              "      <td>1967</td>\n",
              "      <td>39463910</td>\n",
              "    </tr>\n",
              "    <tr>\n",
              "      <th>1659</th>\n",
              "      <td>1967</td>\n",
              "      <td>1142636</td>\n",
              "    </tr>\n",
              "    <tr>\n",
              "      <th>1671</th>\n",
              "      <td>1967</td>\n",
              "      <td>6740785</td>\n",
              "    </tr>\n",
              "    <tr>\n",
              "      <th>1683</th>\n",
              "      <td>1967</td>\n",
              "      <td>3900000</td>\n",
              "    </tr>\n",
              "    <tr>\n",
              "      <th>1695</th>\n",
              "      <td>1967</td>\n",
              "      <td>4995432</td>\n",
              "    </tr>\n",
              "  </tbody>\n",
              "</table>\n",
              "<p>142 rows × 2 columns</p>\n",
              "</div>"
            ],
            "text/plain": [
              "      year       pop\n",
              "3     1967  11537966\n",
              "15    1967   1984060\n",
              "27    1967  12760499\n",
              "39    1967   5247469\n",
              "51    1967  22934225\n",
              "...    ...       ...\n",
              "1647  1967  39463910\n",
              "1659  1967   1142636\n",
              "1671  1967   6740785\n",
              "1683  1967   3900000\n",
              "1695  1967   4995432\n",
              "\n",
              "[142 rows x 2 columns]"
            ]
          },
          "metadata": {
            "tags": []
          },
          "execution_count": 26
        }
      ]
    },
    {
      "cell_type": "code",
      "metadata": {
        "colab": {
          "base_uri": "https://localhost:8080/",
          "height": 419
        },
        "id": "l9FqQbU8aQJs",
        "outputId": "9eace9c5-087b-4fe4-d1e6-056c52ec8928"
      },
      "source": [
        "# multiple conditions\n",
        "df.loc[(df['year']==1967) & (df['pop'] > 1_000_000) , \n",
        "       ['year','pop']]"
      ],
      "execution_count": 29,
      "outputs": [
        {
          "output_type": "execute_result",
          "data": {
            "text/html": [
              "<div>\n",
              "<style scoped>\n",
              "    .dataframe tbody tr th:only-of-type {\n",
              "        vertical-align: middle;\n",
              "    }\n",
              "\n",
              "    .dataframe tbody tr th {\n",
              "        vertical-align: top;\n",
              "    }\n",
              "\n",
              "    .dataframe thead th {\n",
              "        text-align: right;\n",
              "    }\n",
              "</style>\n",
              "<table border=\"1\" class=\"dataframe\">\n",
              "  <thead>\n",
              "    <tr style=\"text-align: right;\">\n",
              "      <th></th>\n",
              "      <th>year</th>\n",
              "      <th>pop</th>\n",
              "    </tr>\n",
              "  </thead>\n",
              "  <tbody>\n",
              "    <tr>\n",
              "      <th>3</th>\n",
              "      <td>1967</td>\n",
              "      <td>11537966</td>\n",
              "    </tr>\n",
              "    <tr>\n",
              "      <th>15</th>\n",
              "      <td>1967</td>\n",
              "      <td>1984060</td>\n",
              "    </tr>\n",
              "    <tr>\n",
              "      <th>27</th>\n",
              "      <td>1967</td>\n",
              "      <td>12760499</td>\n",
              "    </tr>\n",
              "    <tr>\n",
              "      <th>39</th>\n",
              "      <td>1967</td>\n",
              "      <td>5247469</td>\n",
              "    </tr>\n",
              "    <tr>\n",
              "      <th>51</th>\n",
              "      <td>1967</td>\n",
              "      <td>22934225</td>\n",
              "    </tr>\n",
              "    <tr>\n",
              "      <th>...</th>\n",
              "      <td>...</td>\n",
              "      <td>...</td>\n",
              "    </tr>\n",
              "    <tr>\n",
              "      <th>1647</th>\n",
              "      <td>1967</td>\n",
              "      <td>39463910</td>\n",
              "    </tr>\n",
              "    <tr>\n",
              "      <th>1659</th>\n",
              "      <td>1967</td>\n",
              "      <td>1142636</td>\n",
              "    </tr>\n",
              "    <tr>\n",
              "      <th>1671</th>\n",
              "      <td>1967</td>\n",
              "      <td>6740785</td>\n",
              "    </tr>\n",
              "    <tr>\n",
              "      <th>1683</th>\n",
              "      <td>1967</td>\n",
              "      <td>3900000</td>\n",
              "    </tr>\n",
              "    <tr>\n",
              "      <th>1695</th>\n",
              "      <td>1967</td>\n",
              "      <td>4995432</td>\n",
              "    </tr>\n",
              "  </tbody>\n",
              "</table>\n",
              "<p>123 rows × 2 columns</p>\n",
              "</div>"
            ],
            "text/plain": [
              "      year       pop\n",
              "3     1967  11537966\n",
              "15    1967   1984060\n",
              "27    1967  12760499\n",
              "39    1967   5247469\n",
              "51    1967  22934225\n",
              "...    ...       ...\n",
              "1647  1967  39463910\n",
              "1659  1967   1142636\n",
              "1671  1967   6740785\n",
              "1683  1967   3900000\n",
              "1695  1967   4995432\n",
              "\n",
              "[123 rows x 2 columns]"
            ]
          },
          "metadata": {
            "tags": []
          },
          "execution_count": 29
        }
      ]
    },
    {
      "cell_type": "markdown",
      "metadata": {
        "id": "9zm5AcNEbAAT"
      },
      "source": [
        "### Tidy dataset"
      ]
    },
    {
      "cell_type": "code",
      "metadata": {
        "id": "MW-1C1E6a2Az"
      },
      "source": [
        "pew = pd.read_csv('/content/pew.csv')"
      ],
      "execution_count": 30,
      "outputs": []
    },
    {
      "cell_type": "code",
      "metadata": {
        "colab": {
          "base_uri": "https://localhost:8080/",
          "height": 258
        },
        "id": "TabP4AqAb5wD",
        "outputId": "da32cf2e-aa6f-45ee-a7f7-dc23579123f3"
      },
      "source": [
        "pew.head()"
      ],
      "execution_count": 31,
      "outputs": [
        {
          "output_type": "execute_result",
          "data": {
            "text/html": [
              "<div>\n",
              "<style scoped>\n",
              "    .dataframe tbody tr th:only-of-type {\n",
              "        vertical-align: middle;\n",
              "    }\n",
              "\n",
              "    .dataframe tbody tr th {\n",
              "        vertical-align: top;\n",
              "    }\n",
              "\n",
              "    .dataframe thead th {\n",
              "        text-align: right;\n",
              "    }\n",
              "</style>\n",
              "<table border=\"1\" class=\"dataframe\">\n",
              "  <thead>\n",
              "    <tr style=\"text-align: right;\">\n",
              "      <th></th>\n",
              "      <th>religion</th>\n",
              "      <th>&lt;$10k</th>\n",
              "      <th>$10-20k</th>\n",
              "      <th>$20-30k</th>\n",
              "      <th>$30-40k</th>\n",
              "      <th>$40-50k</th>\n",
              "      <th>$50-75k</th>\n",
              "      <th>$75-100k</th>\n",
              "      <th>$100-150k</th>\n",
              "      <th>&gt;150k</th>\n",
              "      <th>Don't know/refused</th>\n",
              "    </tr>\n",
              "  </thead>\n",
              "  <tbody>\n",
              "    <tr>\n",
              "      <th>0</th>\n",
              "      <td>Agnostic</td>\n",
              "      <td>27</td>\n",
              "      <td>34</td>\n",
              "      <td>60</td>\n",
              "      <td>81</td>\n",
              "      <td>76</td>\n",
              "      <td>137</td>\n",
              "      <td>122</td>\n",
              "      <td>109</td>\n",
              "      <td>84</td>\n",
              "      <td>96</td>\n",
              "    </tr>\n",
              "    <tr>\n",
              "      <th>1</th>\n",
              "      <td>Atheist</td>\n",
              "      <td>12</td>\n",
              "      <td>27</td>\n",
              "      <td>37</td>\n",
              "      <td>52</td>\n",
              "      <td>35</td>\n",
              "      <td>70</td>\n",
              "      <td>73</td>\n",
              "      <td>59</td>\n",
              "      <td>74</td>\n",
              "      <td>76</td>\n",
              "    </tr>\n",
              "    <tr>\n",
              "      <th>2</th>\n",
              "      <td>Buddhist</td>\n",
              "      <td>27</td>\n",
              "      <td>21</td>\n",
              "      <td>30</td>\n",
              "      <td>34</td>\n",
              "      <td>33</td>\n",
              "      <td>58</td>\n",
              "      <td>62</td>\n",
              "      <td>39</td>\n",
              "      <td>53</td>\n",
              "      <td>54</td>\n",
              "    </tr>\n",
              "    <tr>\n",
              "      <th>3</th>\n",
              "      <td>Catholic</td>\n",
              "      <td>418</td>\n",
              "      <td>617</td>\n",
              "      <td>732</td>\n",
              "      <td>670</td>\n",
              "      <td>638</td>\n",
              "      <td>1116</td>\n",
              "      <td>949</td>\n",
              "      <td>792</td>\n",
              "      <td>633</td>\n",
              "      <td>1489</td>\n",
              "    </tr>\n",
              "    <tr>\n",
              "      <th>4</th>\n",
              "      <td>Don’t know/refused</td>\n",
              "      <td>15</td>\n",
              "      <td>14</td>\n",
              "      <td>15</td>\n",
              "      <td>11</td>\n",
              "      <td>10</td>\n",
              "      <td>35</td>\n",
              "      <td>21</td>\n",
              "      <td>17</td>\n",
              "      <td>18</td>\n",
              "      <td>116</td>\n",
              "    </tr>\n",
              "  </tbody>\n",
              "</table>\n",
              "</div>"
            ],
            "text/plain": [
              "             religion  <$10k  $10-20k  ...  $100-150k  >150k  Don't know/refused\n",
              "0            Agnostic     27       34  ...        109     84                  96\n",
              "1             Atheist     12       27  ...         59     74                  76\n",
              "2            Buddhist     27       21  ...         39     53                  54\n",
              "3            Catholic    418      617  ...        792    633                1489\n",
              "4  Don’t know/refused     15       14  ...         17     18                 116\n",
              "\n",
              "[5 rows x 11 columns]"
            ]
          },
          "metadata": {
            "tags": []
          },
          "execution_count": 31
        }
      ]
    },
    {
      "cell_type": "code",
      "metadata": {
        "id": "AfAJ3LXsb8mY"
      },
      "source": [
        "pew_long = pd.melt(pew, id_vars='religion') # columns that you don't want to change"
      ],
      "execution_count": 33,
      "outputs": []
    },
    {
      "cell_type": "code",
      "metadata": {
        "colab": {
          "base_uri": "https://localhost:8080/",
          "height": 419
        },
        "id": "qht-rAZvcqG4",
        "outputId": "dbf51b45-602b-4485-a112-9c1c863ee2ac"
      },
      "source": [
        "pew_long"
      ],
      "execution_count": 34,
      "outputs": [
        {
          "output_type": "execute_result",
          "data": {
            "text/html": [
              "<div>\n",
              "<style scoped>\n",
              "    .dataframe tbody tr th:only-of-type {\n",
              "        vertical-align: middle;\n",
              "    }\n",
              "\n",
              "    .dataframe tbody tr th {\n",
              "        vertical-align: top;\n",
              "    }\n",
              "\n",
              "    .dataframe thead th {\n",
              "        text-align: right;\n",
              "    }\n",
              "</style>\n",
              "<table border=\"1\" class=\"dataframe\">\n",
              "  <thead>\n",
              "    <tr style=\"text-align: right;\">\n",
              "      <th></th>\n",
              "      <th>religion</th>\n",
              "      <th>variable</th>\n",
              "      <th>value</th>\n",
              "    </tr>\n",
              "  </thead>\n",
              "  <tbody>\n",
              "    <tr>\n",
              "      <th>0</th>\n",
              "      <td>Agnostic</td>\n",
              "      <td>&lt;$10k</td>\n",
              "      <td>27</td>\n",
              "    </tr>\n",
              "    <tr>\n",
              "      <th>1</th>\n",
              "      <td>Atheist</td>\n",
              "      <td>&lt;$10k</td>\n",
              "      <td>12</td>\n",
              "    </tr>\n",
              "    <tr>\n",
              "      <th>2</th>\n",
              "      <td>Buddhist</td>\n",
              "      <td>&lt;$10k</td>\n",
              "      <td>27</td>\n",
              "    </tr>\n",
              "    <tr>\n",
              "      <th>3</th>\n",
              "      <td>Catholic</td>\n",
              "      <td>&lt;$10k</td>\n",
              "      <td>418</td>\n",
              "    </tr>\n",
              "    <tr>\n",
              "      <th>4</th>\n",
              "      <td>Don’t know/refused</td>\n",
              "      <td>&lt;$10k</td>\n",
              "      <td>15</td>\n",
              "    </tr>\n",
              "    <tr>\n",
              "      <th>...</th>\n",
              "      <td>...</td>\n",
              "      <td>...</td>\n",
              "      <td>...</td>\n",
              "    </tr>\n",
              "    <tr>\n",
              "      <th>175</th>\n",
              "      <td>Orthodox</td>\n",
              "      <td>Don't know/refused</td>\n",
              "      <td>73</td>\n",
              "    </tr>\n",
              "    <tr>\n",
              "      <th>176</th>\n",
              "      <td>Other Christian</td>\n",
              "      <td>Don't know/refused</td>\n",
              "      <td>18</td>\n",
              "    </tr>\n",
              "    <tr>\n",
              "      <th>177</th>\n",
              "      <td>Other Faiths</td>\n",
              "      <td>Don't know/refused</td>\n",
              "      <td>71</td>\n",
              "    </tr>\n",
              "    <tr>\n",
              "      <th>178</th>\n",
              "      <td>Other World Religions</td>\n",
              "      <td>Don't know/refused</td>\n",
              "      <td>8</td>\n",
              "    </tr>\n",
              "    <tr>\n",
              "      <th>179</th>\n",
              "      <td>Unaffiliated</td>\n",
              "      <td>Don't know/refused</td>\n",
              "      <td>597</td>\n",
              "    </tr>\n",
              "  </tbody>\n",
              "</table>\n",
              "<p>180 rows × 3 columns</p>\n",
              "</div>"
            ],
            "text/plain": [
              "                  religion            variable  value\n",
              "0                 Agnostic               <$10k     27\n",
              "1                  Atheist               <$10k     12\n",
              "2                 Buddhist               <$10k     27\n",
              "3                 Catholic               <$10k    418\n",
              "4       Don’t know/refused               <$10k     15\n",
              "..                     ...                 ...    ...\n",
              "175               Orthodox  Don't know/refused     73\n",
              "176        Other Christian  Don't know/refused     18\n",
              "177           Other Faiths  Don't know/refused     71\n",
              "178  Other World Religions  Don't know/refused      8\n",
              "179           Unaffiliated  Don't know/refused    597\n",
              "\n",
              "[180 rows x 3 columns]"
            ]
          },
          "metadata": {
            "tags": []
          },
          "execution_count": 34
        }
      ]
    },
    {
      "cell_type": "code",
      "metadata": {
        "colab": {
          "base_uri": "https://localhost:8080/",
          "height": 204
        },
        "id": "YQP1jyFXcuCr",
        "outputId": "f9299fe2-3d80-4091-b7d4-4534e857108f"
      },
      "source": [
        "pew_long.head()"
      ],
      "execution_count": 35,
      "outputs": [
        {
          "output_type": "execute_result",
          "data": {
            "text/html": [
              "<div>\n",
              "<style scoped>\n",
              "    .dataframe tbody tr th:only-of-type {\n",
              "        vertical-align: middle;\n",
              "    }\n",
              "\n",
              "    .dataframe tbody tr th {\n",
              "        vertical-align: top;\n",
              "    }\n",
              "\n",
              "    .dataframe thead th {\n",
              "        text-align: right;\n",
              "    }\n",
              "</style>\n",
              "<table border=\"1\" class=\"dataframe\">\n",
              "  <thead>\n",
              "    <tr style=\"text-align: right;\">\n",
              "      <th></th>\n",
              "      <th>religion</th>\n",
              "      <th>variable</th>\n",
              "      <th>value</th>\n",
              "    </tr>\n",
              "  </thead>\n",
              "  <tbody>\n",
              "    <tr>\n",
              "      <th>0</th>\n",
              "      <td>Agnostic</td>\n",
              "      <td>&lt;$10k</td>\n",
              "      <td>27</td>\n",
              "    </tr>\n",
              "    <tr>\n",
              "      <th>1</th>\n",
              "      <td>Atheist</td>\n",
              "      <td>&lt;$10k</td>\n",
              "      <td>12</td>\n",
              "    </tr>\n",
              "    <tr>\n",
              "      <th>2</th>\n",
              "      <td>Buddhist</td>\n",
              "      <td>&lt;$10k</td>\n",
              "      <td>27</td>\n",
              "    </tr>\n",
              "    <tr>\n",
              "      <th>3</th>\n",
              "      <td>Catholic</td>\n",
              "      <td>&lt;$10k</td>\n",
              "      <td>418</td>\n",
              "    </tr>\n",
              "    <tr>\n",
              "      <th>4</th>\n",
              "      <td>Don’t know/refused</td>\n",
              "      <td>&lt;$10k</td>\n",
              "      <td>15</td>\n",
              "    </tr>\n",
              "  </tbody>\n",
              "</table>\n",
              "</div>"
            ],
            "text/plain": [
              "             religion variable  value\n",
              "0            Agnostic    <$10k     27\n",
              "1             Atheist    <$10k     12\n",
              "2            Buddhist    <$10k     27\n",
              "3            Catholic    <$10k    418\n",
              "4  Don’t know/refused    <$10k     15"
            ]
          },
          "metadata": {
            "tags": []
          },
          "execution_count": 35
        }
      ]
    },
    {
      "cell_type": "code",
      "metadata": {
        "id": "tX7VkqkDc4jE"
      },
      "source": [
        "pew_long = pd.melt(pew, id_vars='religion', \n",
        "                   var_name ='income',\n",
        "                   value_name='count')"
      ],
      "execution_count": 36,
      "outputs": []
    },
    {
      "cell_type": "code",
      "metadata": {
        "colab": {
          "base_uri": "https://localhost:8080/",
          "height": 204
        },
        "id": "rouGm1CrdN5L",
        "outputId": "3f92ef36-56a4-4ec5-f4ae-da2948c454b9"
      },
      "source": [
        "pew_long.head()"
      ],
      "execution_count": 37,
      "outputs": [
        {
          "output_type": "execute_result",
          "data": {
            "text/html": [
              "<div>\n",
              "<style scoped>\n",
              "    .dataframe tbody tr th:only-of-type {\n",
              "        vertical-align: middle;\n",
              "    }\n",
              "\n",
              "    .dataframe tbody tr th {\n",
              "        vertical-align: top;\n",
              "    }\n",
              "\n",
              "    .dataframe thead th {\n",
              "        text-align: right;\n",
              "    }\n",
              "</style>\n",
              "<table border=\"1\" class=\"dataframe\">\n",
              "  <thead>\n",
              "    <tr style=\"text-align: right;\">\n",
              "      <th></th>\n",
              "      <th>religion</th>\n",
              "      <th>income</th>\n",
              "      <th>count</th>\n",
              "    </tr>\n",
              "  </thead>\n",
              "  <tbody>\n",
              "    <tr>\n",
              "      <th>0</th>\n",
              "      <td>Agnostic</td>\n",
              "      <td>&lt;$10k</td>\n",
              "      <td>27</td>\n",
              "    </tr>\n",
              "    <tr>\n",
              "      <th>1</th>\n",
              "      <td>Atheist</td>\n",
              "      <td>&lt;$10k</td>\n",
              "      <td>12</td>\n",
              "    </tr>\n",
              "    <tr>\n",
              "      <th>2</th>\n",
              "      <td>Buddhist</td>\n",
              "      <td>&lt;$10k</td>\n",
              "      <td>27</td>\n",
              "    </tr>\n",
              "    <tr>\n",
              "      <th>3</th>\n",
              "      <td>Catholic</td>\n",
              "      <td>&lt;$10k</td>\n",
              "      <td>418</td>\n",
              "    </tr>\n",
              "    <tr>\n",
              "      <th>4</th>\n",
              "      <td>Don’t know/refused</td>\n",
              "      <td>&lt;$10k</td>\n",
              "      <td>15</td>\n",
              "    </tr>\n",
              "  </tbody>\n",
              "</table>\n",
              "</div>"
            ],
            "text/plain": [
              "             religion income  count\n",
              "0            Agnostic  <$10k     27\n",
              "1             Atheist  <$10k     12\n",
              "2            Buddhist  <$10k     27\n",
              "3            Catholic  <$10k    418\n",
              "4  Don’t know/refused  <$10k     15"
            ]
          },
          "metadata": {
            "tags": []
          },
          "execution_count": 37
        }
      ]
    },
    {
      "cell_type": "code",
      "metadata": {
        "id": "j1AyASV1dV3O"
      },
      "source": [
        "billboard = pd.read_csv('/content/billboard.csv')"
      ],
      "execution_count": 38,
      "outputs": []
    },
    {
      "cell_type": "code",
      "metadata": {
        "colab": {
          "base_uri": "https://localhost:8080/",
          "height": 372
        },
        "id": "8GX26IRKmS5w",
        "outputId": "65697c91-b6a7-4bb3-9dfd-cbb6dde8c9e9"
      },
      "source": [
        "billboard.head()"
      ],
      "execution_count": 39,
      "outputs": [
        {
          "output_type": "execute_result",
          "data": {
            "text/html": [
              "<div>\n",
              "<style scoped>\n",
              "    .dataframe tbody tr th:only-of-type {\n",
              "        vertical-align: middle;\n",
              "    }\n",
              "\n",
              "    .dataframe tbody tr th {\n",
              "        vertical-align: top;\n",
              "    }\n",
              "\n",
              "    .dataframe thead th {\n",
              "        text-align: right;\n",
              "    }\n",
              "</style>\n",
              "<table border=\"1\" class=\"dataframe\">\n",
              "  <thead>\n",
              "    <tr style=\"text-align: right;\">\n",
              "      <th></th>\n",
              "      <th>year</th>\n",
              "      <th>artist</th>\n",
              "      <th>track</th>\n",
              "      <th>time</th>\n",
              "      <th>date.entered</th>\n",
              "      <th>wk1</th>\n",
              "      <th>wk2</th>\n",
              "      <th>wk3</th>\n",
              "      <th>wk4</th>\n",
              "      <th>wk5</th>\n",
              "      <th>wk6</th>\n",
              "      <th>wk7</th>\n",
              "      <th>wk8</th>\n",
              "      <th>wk9</th>\n",
              "      <th>wk10</th>\n",
              "      <th>wk11</th>\n",
              "      <th>wk12</th>\n",
              "      <th>wk13</th>\n",
              "      <th>wk14</th>\n",
              "      <th>wk15</th>\n",
              "      <th>wk16</th>\n",
              "      <th>wk17</th>\n",
              "      <th>wk18</th>\n",
              "      <th>wk19</th>\n",
              "      <th>wk20</th>\n",
              "      <th>wk21</th>\n",
              "      <th>wk22</th>\n",
              "      <th>wk23</th>\n",
              "      <th>wk24</th>\n",
              "      <th>wk25</th>\n",
              "      <th>wk26</th>\n",
              "      <th>wk27</th>\n",
              "      <th>wk28</th>\n",
              "      <th>wk29</th>\n",
              "      <th>wk30</th>\n",
              "      <th>wk31</th>\n",
              "      <th>wk32</th>\n",
              "      <th>wk33</th>\n",
              "      <th>wk34</th>\n",
              "      <th>wk35</th>\n",
              "      <th>...</th>\n",
              "      <th>wk37</th>\n",
              "      <th>wk38</th>\n",
              "      <th>wk39</th>\n",
              "      <th>wk40</th>\n",
              "      <th>wk41</th>\n",
              "      <th>wk42</th>\n",
              "      <th>wk43</th>\n",
              "      <th>wk44</th>\n",
              "      <th>wk45</th>\n",
              "      <th>wk46</th>\n",
              "      <th>wk47</th>\n",
              "      <th>wk48</th>\n",
              "      <th>wk49</th>\n",
              "      <th>wk50</th>\n",
              "      <th>wk51</th>\n",
              "      <th>wk52</th>\n",
              "      <th>wk53</th>\n",
              "      <th>wk54</th>\n",
              "      <th>wk55</th>\n",
              "      <th>wk56</th>\n",
              "      <th>wk57</th>\n",
              "      <th>wk58</th>\n",
              "      <th>wk59</th>\n",
              "      <th>wk60</th>\n",
              "      <th>wk61</th>\n",
              "      <th>wk62</th>\n",
              "      <th>wk63</th>\n",
              "      <th>wk64</th>\n",
              "      <th>wk65</th>\n",
              "      <th>wk66</th>\n",
              "      <th>wk67</th>\n",
              "      <th>wk68</th>\n",
              "      <th>wk69</th>\n",
              "      <th>wk70</th>\n",
              "      <th>wk71</th>\n",
              "      <th>wk72</th>\n",
              "      <th>wk73</th>\n",
              "      <th>wk74</th>\n",
              "      <th>wk75</th>\n",
              "      <th>wk76</th>\n",
              "    </tr>\n",
              "  </thead>\n",
              "  <tbody>\n",
              "    <tr>\n",
              "      <th>0</th>\n",
              "      <td>2000</td>\n",
              "      <td>2 Pac</td>\n",
              "      <td>Baby Don't Cry (Keep...</td>\n",
              "      <td>4:22</td>\n",
              "      <td>2000-02-26</td>\n",
              "      <td>87</td>\n",
              "      <td>82.0</td>\n",
              "      <td>72.0</td>\n",
              "      <td>77.0</td>\n",
              "      <td>87.0</td>\n",
              "      <td>94.0</td>\n",
              "      <td>99.0</td>\n",
              "      <td>NaN</td>\n",
              "      <td>NaN</td>\n",
              "      <td>NaN</td>\n",
              "      <td>NaN</td>\n",
              "      <td>NaN</td>\n",
              "      <td>NaN</td>\n",
              "      <td>NaN</td>\n",
              "      <td>NaN</td>\n",
              "      <td>NaN</td>\n",
              "      <td>NaN</td>\n",
              "      <td>NaN</td>\n",
              "      <td>NaN</td>\n",
              "      <td>NaN</td>\n",
              "      <td>NaN</td>\n",
              "      <td>NaN</td>\n",
              "      <td>NaN</td>\n",
              "      <td>NaN</td>\n",
              "      <td>NaN</td>\n",
              "      <td>NaN</td>\n",
              "      <td>NaN</td>\n",
              "      <td>NaN</td>\n",
              "      <td>NaN</td>\n",
              "      <td>NaN</td>\n",
              "      <td>NaN</td>\n",
              "      <td>NaN</td>\n",
              "      <td>NaN</td>\n",
              "      <td>NaN</td>\n",
              "      <td>NaN</td>\n",
              "      <td>...</td>\n",
              "      <td>NaN</td>\n",
              "      <td>NaN</td>\n",
              "      <td>NaN</td>\n",
              "      <td>NaN</td>\n",
              "      <td>NaN</td>\n",
              "      <td>NaN</td>\n",
              "      <td>NaN</td>\n",
              "      <td>NaN</td>\n",
              "      <td>NaN</td>\n",
              "      <td>NaN</td>\n",
              "      <td>NaN</td>\n",
              "      <td>NaN</td>\n",
              "      <td>NaN</td>\n",
              "      <td>NaN</td>\n",
              "      <td>NaN</td>\n",
              "      <td>NaN</td>\n",
              "      <td>NaN</td>\n",
              "      <td>NaN</td>\n",
              "      <td>NaN</td>\n",
              "      <td>NaN</td>\n",
              "      <td>NaN</td>\n",
              "      <td>NaN</td>\n",
              "      <td>NaN</td>\n",
              "      <td>NaN</td>\n",
              "      <td>NaN</td>\n",
              "      <td>NaN</td>\n",
              "      <td>NaN</td>\n",
              "      <td>NaN</td>\n",
              "      <td>NaN</td>\n",
              "      <td>NaN</td>\n",
              "      <td>NaN</td>\n",
              "      <td>NaN</td>\n",
              "      <td>NaN</td>\n",
              "      <td>NaN</td>\n",
              "      <td>NaN</td>\n",
              "      <td>NaN</td>\n",
              "      <td>NaN</td>\n",
              "      <td>NaN</td>\n",
              "      <td>NaN</td>\n",
              "      <td>NaN</td>\n",
              "    </tr>\n",
              "    <tr>\n",
              "      <th>1</th>\n",
              "      <td>2000</td>\n",
              "      <td>2Ge+her</td>\n",
              "      <td>The Hardest Part Of ...</td>\n",
              "      <td>3:15</td>\n",
              "      <td>2000-09-02</td>\n",
              "      <td>91</td>\n",
              "      <td>87.0</td>\n",
              "      <td>92.0</td>\n",
              "      <td>NaN</td>\n",
              "      <td>NaN</td>\n",
              "      <td>NaN</td>\n",
              "      <td>NaN</td>\n",
              "      <td>NaN</td>\n",
              "      <td>NaN</td>\n",
              "      <td>NaN</td>\n",
              "      <td>NaN</td>\n",
              "      <td>NaN</td>\n",
              "      <td>NaN</td>\n",
              "      <td>NaN</td>\n",
              "      <td>NaN</td>\n",
              "      <td>NaN</td>\n",
              "      <td>NaN</td>\n",
              "      <td>NaN</td>\n",
              "      <td>NaN</td>\n",
              "      <td>NaN</td>\n",
              "      <td>NaN</td>\n",
              "      <td>NaN</td>\n",
              "      <td>NaN</td>\n",
              "      <td>NaN</td>\n",
              "      <td>NaN</td>\n",
              "      <td>NaN</td>\n",
              "      <td>NaN</td>\n",
              "      <td>NaN</td>\n",
              "      <td>NaN</td>\n",
              "      <td>NaN</td>\n",
              "      <td>NaN</td>\n",
              "      <td>NaN</td>\n",
              "      <td>NaN</td>\n",
              "      <td>NaN</td>\n",
              "      <td>NaN</td>\n",
              "      <td>...</td>\n",
              "      <td>NaN</td>\n",
              "      <td>NaN</td>\n",
              "      <td>NaN</td>\n",
              "      <td>NaN</td>\n",
              "      <td>NaN</td>\n",
              "      <td>NaN</td>\n",
              "      <td>NaN</td>\n",
              "      <td>NaN</td>\n",
              "      <td>NaN</td>\n",
              "      <td>NaN</td>\n",
              "      <td>NaN</td>\n",
              "      <td>NaN</td>\n",
              "      <td>NaN</td>\n",
              "      <td>NaN</td>\n",
              "      <td>NaN</td>\n",
              "      <td>NaN</td>\n",
              "      <td>NaN</td>\n",
              "      <td>NaN</td>\n",
              "      <td>NaN</td>\n",
              "      <td>NaN</td>\n",
              "      <td>NaN</td>\n",
              "      <td>NaN</td>\n",
              "      <td>NaN</td>\n",
              "      <td>NaN</td>\n",
              "      <td>NaN</td>\n",
              "      <td>NaN</td>\n",
              "      <td>NaN</td>\n",
              "      <td>NaN</td>\n",
              "      <td>NaN</td>\n",
              "      <td>NaN</td>\n",
              "      <td>NaN</td>\n",
              "      <td>NaN</td>\n",
              "      <td>NaN</td>\n",
              "      <td>NaN</td>\n",
              "      <td>NaN</td>\n",
              "      <td>NaN</td>\n",
              "      <td>NaN</td>\n",
              "      <td>NaN</td>\n",
              "      <td>NaN</td>\n",
              "      <td>NaN</td>\n",
              "    </tr>\n",
              "    <tr>\n",
              "      <th>2</th>\n",
              "      <td>2000</td>\n",
              "      <td>3 Doors Down</td>\n",
              "      <td>Kryptonite</td>\n",
              "      <td>3:53</td>\n",
              "      <td>2000-04-08</td>\n",
              "      <td>81</td>\n",
              "      <td>70.0</td>\n",
              "      <td>68.0</td>\n",
              "      <td>67.0</td>\n",
              "      <td>66.0</td>\n",
              "      <td>57.0</td>\n",
              "      <td>54.0</td>\n",
              "      <td>53.0</td>\n",
              "      <td>51.0</td>\n",
              "      <td>51.0</td>\n",
              "      <td>51.0</td>\n",
              "      <td>51.0</td>\n",
              "      <td>47.0</td>\n",
              "      <td>44.0</td>\n",
              "      <td>38.0</td>\n",
              "      <td>28.0</td>\n",
              "      <td>22.0</td>\n",
              "      <td>18.0</td>\n",
              "      <td>18.0</td>\n",
              "      <td>14.0</td>\n",
              "      <td>12.0</td>\n",
              "      <td>7.0</td>\n",
              "      <td>6.0</td>\n",
              "      <td>6.0</td>\n",
              "      <td>6.0</td>\n",
              "      <td>5.0</td>\n",
              "      <td>5.0</td>\n",
              "      <td>4.0</td>\n",
              "      <td>4.0</td>\n",
              "      <td>4.0</td>\n",
              "      <td>4.0</td>\n",
              "      <td>3.0</td>\n",
              "      <td>3.0</td>\n",
              "      <td>3.0</td>\n",
              "      <td>4.0</td>\n",
              "      <td>...</td>\n",
              "      <td>5.0</td>\n",
              "      <td>9.0</td>\n",
              "      <td>9.0</td>\n",
              "      <td>15.0</td>\n",
              "      <td>14.0</td>\n",
              "      <td>13.0</td>\n",
              "      <td>14.0</td>\n",
              "      <td>16.0</td>\n",
              "      <td>17.0</td>\n",
              "      <td>21.0</td>\n",
              "      <td>22.0</td>\n",
              "      <td>24.0</td>\n",
              "      <td>28.0</td>\n",
              "      <td>33.0</td>\n",
              "      <td>42.0</td>\n",
              "      <td>42.0</td>\n",
              "      <td>49.0</td>\n",
              "      <td>NaN</td>\n",
              "      <td>NaN</td>\n",
              "      <td>NaN</td>\n",
              "      <td>NaN</td>\n",
              "      <td>NaN</td>\n",
              "      <td>NaN</td>\n",
              "      <td>NaN</td>\n",
              "      <td>NaN</td>\n",
              "      <td>NaN</td>\n",
              "      <td>NaN</td>\n",
              "      <td>NaN</td>\n",
              "      <td>NaN</td>\n",
              "      <td>NaN</td>\n",
              "      <td>NaN</td>\n",
              "      <td>NaN</td>\n",
              "      <td>NaN</td>\n",
              "      <td>NaN</td>\n",
              "      <td>NaN</td>\n",
              "      <td>NaN</td>\n",
              "      <td>NaN</td>\n",
              "      <td>NaN</td>\n",
              "      <td>NaN</td>\n",
              "      <td>NaN</td>\n",
              "    </tr>\n",
              "    <tr>\n",
              "      <th>3</th>\n",
              "      <td>2000</td>\n",
              "      <td>3 Doors Down</td>\n",
              "      <td>Loser</td>\n",
              "      <td>4:24</td>\n",
              "      <td>2000-10-21</td>\n",
              "      <td>76</td>\n",
              "      <td>76.0</td>\n",
              "      <td>72.0</td>\n",
              "      <td>69.0</td>\n",
              "      <td>67.0</td>\n",
              "      <td>65.0</td>\n",
              "      <td>55.0</td>\n",
              "      <td>59.0</td>\n",
              "      <td>62.0</td>\n",
              "      <td>61.0</td>\n",
              "      <td>61.0</td>\n",
              "      <td>59.0</td>\n",
              "      <td>61.0</td>\n",
              "      <td>66.0</td>\n",
              "      <td>72.0</td>\n",
              "      <td>76.0</td>\n",
              "      <td>75.0</td>\n",
              "      <td>67.0</td>\n",
              "      <td>73.0</td>\n",
              "      <td>70.0</td>\n",
              "      <td>NaN</td>\n",
              "      <td>NaN</td>\n",
              "      <td>NaN</td>\n",
              "      <td>NaN</td>\n",
              "      <td>NaN</td>\n",
              "      <td>NaN</td>\n",
              "      <td>NaN</td>\n",
              "      <td>NaN</td>\n",
              "      <td>NaN</td>\n",
              "      <td>NaN</td>\n",
              "      <td>NaN</td>\n",
              "      <td>NaN</td>\n",
              "      <td>NaN</td>\n",
              "      <td>NaN</td>\n",
              "      <td>NaN</td>\n",
              "      <td>...</td>\n",
              "      <td>NaN</td>\n",
              "      <td>NaN</td>\n",
              "      <td>NaN</td>\n",
              "      <td>NaN</td>\n",
              "      <td>NaN</td>\n",
              "      <td>NaN</td>\n",
              "      <td>NaN</td>\n",
              "      <td>NaN</td>\n",
              "      <td>NaN</td>\n",
              "      <td>NaN</td>\n",
              "      <td>NaN</td>\n",
              "      <td>NaN</td>\n",
              "      <td>NaN</td>\n",
              "      <td>NaN</td>\n",
              "      <td>NaN</td>\n",
              "      <td>NaN</td>\n",
              "      <td>NaN</td>\n",
              "      <td>NaN</td>\n",
              "      <td>NaN</td>\n",
              "      <td>NaN</td>\n",
              "      <td>NaN</td>\n",
              "      <td>NaN</td>\n",
              "      <td>NaN</td>\n",
              "      <td>NaN</td>\n",
              "      <td>NaN</td>\n",
              "      <td>NaN</td>\n",
              "      <td>NaN</td>\n",
              "      <td>NaN</td>\n",
              "      <td>NaN</td>\n",
              "      <td>NaN</td>\n",
              "      <td>NaN</td>\n",
              "      <td>NaN</td>\n",
              "      <td>NaN</td>\n",
              "      <td>NaN</td>\n",
              "      <td>NaN</td>\n",
              "      <td>NaN</td>\n",
              "      <td>NaN</td>\n",
              "      <td>NaN</td>\n",
              "      <td>NaN</td>\n",
              "      <td>NaN</td>\n",
              "    </tr>\n",
              "    <tr>\n",
              "      <th>4</th>\n",
              "      <td>2000</td>\n",
              "      <td>504 Boyz</td>\n",
              "      <td>Wobble Wobble</td>\n",
              "      <td>3:35</td>\n",
              "      <td>2000-04-15</td>\n",
              "      <td>57</td>\n",
              "      <td>34.0</td>\n",
              "      <td>25.0</td>\n",
              "      <td>17.0</td>\n",
              "      <td>17.0</td>\n",
              "      <td>31.0</td>\n",
              "      <td>36.0</td>\n",
              "      <td>49.0</td>\n",
              "      <td>53.0</td>\n",
              "      <td>57.0</td>\n",
              "      <td>64.0</td>\n",
              "      <td>70.0</td>\n",
              "      <td>75.0</td>\n",
              "      <td>76.0</td>\n",
              "      <td>78.0</td>\n",
              "      <td>85.0</td>\n",
              "      <td>92.0</td>\n",
              "      <td>96.0</td>\n",
              "      <td>NaN</td>\n",
              "      <td>NaN</td>\n",
              "      <td>NaN</td>\n",
              "      <td>NaN</td>\n",
              "      <td>NaN</td>\n",
              "      <td>NaN</td>\n",
              "      <td>NaN</td>\n",
              "      <td>NaN</td>\n",
              "      <td>NaN</td>\n",
              "      <td>NaN</td>\n",
              "      <td>NaN</td>\n",
              "      <td>NaN</td>\n",
              "      <td>NaN</td>\n",
              "      <td>NaN</td>\n",
              "      <td>NaN</td>\n",
              "      <td>NaN</td>\n",
              "      <td>NaN</td>\n",
              "      <td>...</td>\n",
              "      <td>NaN</td>\n",
              "      <td>NaN</td>\n",
              "      <td>NaN</td>\n",
              "      <td>NaN</td>\n",
              "      <td>NaN</td>\n",
              "      <td>NaN</td>\n",
              "      <td>NaN</td>\n",
              "      <td>NaN</td>\n",
              "      <td>NaN</td>\n",
              "      <td>NaN</td>\n",
              "      <td>NaN</td>\n",
              "      <td>NaN</td>\n",
              "      <td>NaN</td>\n",
              "      <td>NaN</td>\n",
              "      <td>NaN</td>\n",
              "      <td>NaN</td>\n",
              "      <td>NaN</td>\n",
              "      <td>NaN</td>\n",
              "      <td>NaN</td>\n",
              "      <td>NaN</td>\n",
              "      <td>NaN</td>\n",
              "      <td>NaN</td>\n",
              "      <td>NaN</td>\n",
              "      <td>NaN</td>\n",
              "      <td>NaN</td>\n",
              "      <td>NaN</td>\n",
              "      <td>NaN</td>\n",
              "      <td>NaN</td>\n",
              "      <td>NaN</td>\n",
              "      <td>NaN</td>\n",
              "      <td>NaN</td>\n",
              "      <td>NaN</td>\n",
              "      <td>NaN</td>\n",
              "      <td>NaN</td>\n",
              "      <td>NaN</td>\n",
              "      <td>NaN</td>\n",
              "      <td>NaN</td>\n",
              "      <td>NaN</td>\n",
              "      <td>NaN</td>\n",
              "      <td>NaN</td>\n",
              "    </tr>\n",
              "  </tbody>\n",
              "</table>\n",
              "<p>5 rows × 81 columns</p>\n",
              "</div>"
            ],
            "text/plain": [
              "   year        artist                    track  time  ... wk73  wk74  wk75  wk76\n",
              "0  2000         2 Pac  Baby Don't Cry (Keep...  4:22  ...  NaN   NaN   NaN   NaN\n",
              "1  2000       2Ge+her  The Hardest Part Of ...  3:15  ...  NaN   NaN   NaN   NaN\n",
              "2  2000  3 Doors Down               Kryptonite  3:53  ...  NaN   NaN   NaN   NaN\n",
              "3  2000  3 Doors Down                    Loser  4:24  ...  NaN   NaN   NaN   NaN\n",
              "4  2000      504 Boyz            Wobble Wobble  3:35  ...  NaN   NaN   NaN   NaN\n",
              "\n",
              "[5 rows x 81 columns]"
            ]
          },
          "metadata": {
            "tags": []
          },
          "execution_count": 39
        }
      ]
    },
    {
      "cell_type": "code",
      "metadata": {
        "id": "okd_ipRrmXxU"
      },
      "source": [
        "# predict value for a given week\n",
        "billboard_melt = pd.melt(\n",
        "    billboard,\n",
        "    id_vars=['year','artist','track','time','date.entered'],\n",
        "    var_name='week',\n",
        "    value_name='rating'\n",
        ")"
      ],
      "execution_count": 40,
      "outputs": []
    },
    {
      "cell_type": "code",
      "metadata": {
        "colab": {
          "base_uri": "https://localhost:8080/",
          "height": 204
        },
        "id": "ALPeolGsm1N-",
        "outputId": "3f3d74c3-a21b-4066-bdd9-a96ca2976043"
      },
      "source": [
        "billboard_melt.head()"
      ],
      "execution_count": 41,
      "outputs": [
        {
          "output_type": "execute_result",
          "data": {
            "text/html": [
              "<div>\n",
              "<style scoped>\n",
              "    .dataframe tbody tr th:only-of-type {\n",
              "        vertical-align: middle;\n",
              "    }\n",
              "\n",
              "    .dataframe tbody tr th {\n",
              "        vertical-align: top;\n",
              "    }\n",
              "\n",
              "    .dataframe thead th {\n",
              "        text-align: right;\n",
              "    }\n",
              "</style>\n",
              "<table border=\"1\" class=\"dataframe\">\n",
              "  <thead>\n",
              "    <tr style=\"text-align: right;\">\n",
              "      <th></th>\n",
              "      <th>year</th>\n",
              "      <th>artist</th>\n",
              "      <th>track</th>\n",
              "      <th>time</th>\n",
              "      <th>date.entered</th>\n",
              "      <th>week</th>\n",
              "      <th>rating</th>\n",
              "    </tr>\n",
              "  </thead>\n",
              "  <tbody>\n",
              "    <tr>\n",
              "      <th>0</th>\n",
              "      <td>2000</td>\n",
              "      <td>2 Pac</td>\n",
              "      <td>Baby Don't Cry (Keep...</td>\n",
              "      <td>4:22</td>\n",
              "      <td>2000-02-26</td>\n",
              "      <td>wk1</td>\n",
              "      <td>87.0</td>\n",
              "    </tr>\n",
              "    <tr>\n",
              "      <th>1</th>\n",
              "      <td>2000</td>\n",
              "      <td>2Ge+her</td>\n",
              "      <td>The Hardest Part Of ...</td>\n",
              "      <td>3:15</td>\n",
              "      <td>2000-09-02</td>\n",
              "      <td>wk1</td>\n",
              "      <td>91.0</td>\n",
              "    </tr>\n",
              "    <tr>\n",
              "      <th>2</th>\n",
              "      <td>2000</td>\n",
              "      <td>3 Doors Down</td>\n",
              "      <td>Kryptonite</td>\n",
              "      <td>3:53</td>\n",
              "      <td>2000-04-08</td>\n",
              "      <td>wk1</td>\n",
              "      <td>81.0</td>\n",
              "    </tr>\n",
              "    <tr>\n",
              "      <th>3</th>\n",
              "      <td>2000</td>\n",
              "      <td>3 Doors Down</td>\n",
              "      <td>Loser</td>\n",
              "      <td>4:24</td>\n",
              "      <td>2000-10-21</td>\n",
              "      <td>wk1</td>\n",
              "      <td>76.0</td>\n",
              "    </tr>\n",
              "    <tr>\n",
              "      <th>4</th>\n",
              "      <td>2000</td>\n",
              "      <td>504 Boyz</td>\n",
              "      <td>Wobble Wobble</td>\n",
              "      <td>3:35</td>\n",
              "      <td>2000-04-15</td>\n",
              "      <td>wk1</td>\n",
              "      <td>57.0</td>\n",
              "    </tr>\n",
              "  </tbody>\n",
              "</table>\n",
              "</div>"
            ],
            "text/plain": [
              "   year        artist                    track  time date.entered week  rating\n",
              "0  2000         2 Pac  Baby Don't Cry (Keep...  4:22   2000-02-26  wk1    87.0\n",
              "1  2000       2Ge+her  The Hardest Part Of ...  3:15   2000-09-02  wk1    91.0\n",
              "2  2000  3 Doors Down               Kryptonite  3:53   2000-04-08  wk1    81.0\n",
              "3  2000  3 Doors Down                    Loser  4:24   2000-10-21  wk1    76.0\n",
              "4  2000      504 Boyz            Wobble Wobble  3:35   2000-04-15  wk1    57.0"
            ]
          },
          "metadata": {
            "tags": []
          },
          "execution_count": 41
        }
      ]
    },
    {
      "cell_type": "code",
      "metadata": {
        "colab": {
          "base_uri": "https://localhost:8080/"
        },
        "id": "K4Ev38Z8m4hI",
        "outputId": "e27e8226-c102-4c2a-af03-e47f306052d0"
      },
      "source": [
        "billboard.shape"
      ],
      "execution_count": 42,
      "outputs": [
        {
          "output_type": "execute_result",
          "data": {
            "text/plain": [
              "(317, 81)"
            ]
          },
          "metadata": {
            "tags": []
          },
          "execution_count": 42
        }
      ]
    },
    {
      "cell_type": "code",
      "metadata": {
        "colab": {
          "base_uri": "https://localhost:8080/"
        },
        "id": "j7V-epc6nCaG",
        "outputId": "0a6f0beb-1465-4c06-890c-caa175ec6e1d"
      },
      "source": [
        "billboard_melt.shape"
      ],
      "execution_count": 43,
      "outputs": [
        {
          "output_type": "execute_result",
          "data": {
            "text/plain": [
              "(24092, 7)"
            ]
          },
          "metadata": {
            "tags": []
          },
          "execution_count": 43
        }
      ]
    },
    {
      "cell_type": "code",
      "metadata": {
        "id": "4EasnvMFnXWw"
      },
      "source": [
        "ebola =pd.read_csv('/content/country_timeseries.csv')"
      ],
      "execution_count": 44,
      "outputs": []
    },
    {
      "cell_type": "code",
      "metadata": {
        "colab": {
          "base_uri": "https://localhost:8080/",
          "height": 224
        },
        "id": "YD7XCickniOP",
        "outputId": "8bf1a225-0da6-4b8a-cdd6-d4019d9a7fc3"
      },
      "source": [
        "ebola.head()"
      ],
      "execution_count": 45,
      "outputs": [
        {
          "output_type": "execute_result",
          "data": {
            "text/html": [
              "<div>\n",
              "<style scoped>\n",
              "    .dataframe tbody tr th:only-of-type {\n",
              "        vertical-align: middle;\n",
              "    }\n",
              "\n",
              "    .dataframe tbody tr th {\n",
              "        vertical-align: top;\n",
              "    }\n",
              "\n",
              "    .dataframe thead th {\n",
              "        text-align: right;\n",
              "    }\n",
              "</style>\n",
              "<table border=\"1\" class=\"dataframe\">\n",
              "  <thead>\n",
              "    <tr style=\"text-align: right;\">\n",
              "      <th></th>\n",
              "      <th>Date</th>\n",
              "      <th>Day</th>\n",
              "      <th>Cases_Guinea</th>\n",
              "      <th>Cases_Liberia</th>\n",
              "      <th>Cases_SierraLeone</th>\n",
              "      <th>Cases_Nigeria</th>\n",
              "      <th>Cases_Senegal</th>\n",
              "      <th>Cases_UnitedStates</th>\n",
              "      <th>Cases_Spain</th>\n",
              "      <th>Cases_Mali</th>\n",
              "      <th>Deaths_Guinea</th>\n",
              "      <th>Deaths_Liberia</th>\n",
              "      <th>Deaths_SierraLeone</th>\n",
              "      <th>Deaths_Nigeria</th>\n",
              "      <th>Deaths_Senegal</th>\n",
              "      <th>Deaths_UnitedStates</th>\n",
              "      <th>Deaths_Spain</th>\n",
              "      <th>Deaths_Mali</th>\n",
              "    </tr>\n",
              "  </thead>\n",
              "  <tbody>\n",
              "    <tr>\n",
              "      <th>0</th>\n",
              "      <td>1/5/2015</td>\n",
              "      <td>289</td>\n",
              "      <td>2776.0</td>\n",
              "      <td>NaN</td>\n",
              "      <td>10030.0</td>\n",
              "      <td>NaN</td>\n",
              "      <td>NaN</td>\n",
              "      <td>NaN</td>\n",
              "      <td>NaN</td>\n",
              "      <td>NaN</td>\n",
              "      <td>1786.0</td>\n",
              "      <td>NaN</td>\n",
              "      <td>2977.0</td>\n",
              "      <td>NaN</td>\n",
              "      <td>NaN</td>\n",
              "      <td>NaN</td>\n",
              "      <td>NaN</td>\n",
              "      <td>NaN</td>\n",
              "    </tr>\n",
              "    <tr>\n",
              "      <th>1</th>\n",
              "      <td>1/4/2015</td>\n",
              "      <td>288</td>\n",
              "      <td>2775.0</td>\n",
              "      <td>NaN</td>\n",
              "      <td>9780.0</td>\n",
              "      <td>NaN</td>\n",
              "      <td>NaN</td>\n",
              "      <td>NaN</td>\n",
              "      <td>NaN</td>\n",
              "      <td>NaN</td>\n",
              "      <td>1781.0</td>\n",
              "      <td>NaN</td>\n",
              "      <td>2943.0</td>\n",
              "      <td>NaN</td>\n",
              "      <td>NaN</td>\n",
              "      <td>NaN</td>\n",
              "      <td>NaN</td>\n",
              "      <td>NaN</td>\n",
              "    </tr>\n",
              "    <tr>\n",
              "      <th>2</th>\n",
              "      <td>1/3/2015</td>\n",
              "      <td>287</td>\n",
              "      <td>2769.0</td>\n",
              "      <td>8166.0</td>\n",
              "      <td>9722.0</td>\n",
              "      <td>NaN</td>\n",
              "      <td>NaN</td>\n",
              "      <td>NaN</td>\n",
              "      <td>NaN</td>\n",
              "      <td>NaN</td>\n",
              "      <td>1767.0</td>\n",
              "      <td>3496.0</td>\n",
              "      <td>2915.0</td>\n",
              "      <td>NaN</td>\n",
              "      <td>NaN</td>\n",
              "      <td>NaN</td>\n",
              "      <td>NaN</td>\n",
              "      <td>NaN</td>\n",
              "    </tr>\n",
              "    <tr>\n",
              "      <th>3</th>\n",
              "      <td>1/2/2015</td>\n",
              "      <td>286</td>\n",
              "      <td>NaN</td>\n",
              "      <td>8157.0</td>\n",
              "      <td>NaN</td>\n",
              "      <td>NaN</td>\n",
              "      <td>NaN</td>\n",
              "      <td>NaN</td>\n",
              "      <td>NaN</td>\n",
              "      <td>NaN</td>\n",
              "      <td>NaN</td>\n",
              "      <td>3496.0</td>\n",
              "      <td>NaN</td>\n",
              "      <td>NaN</td>\n",
              "      <td>NaN</td>\n",
              "      <td>NaN</td>\n",
              "      <td>NaN</td>\n",
              "      <td>NaN</td>\n",
              "    </tr>\n",
              "    <tr>\n",
              "      <th>4</th>\n",
              "      <td>12/31/2014</td>\n",
              "      <td>284</td>\n",
              "      <td>2730.0</td>\n",
              "      <td>8115.0</td>\n",
              "      <td>9633.0</td>\n",
              "      <td>NaN</td>\n",
              "      <td>NaN</td>\n",
              "      <td>NaN</td>\n",
              "      <td>NaN</td>\n",
              "      <td>NaN</td>\n",
              "      <td>1739.0</td>\n",
              "      <td>3471.0</td>\n",
              "      <td>2827.0</td>\n",
              "      <td>NaN</td>\n",
              "      <td>NaN</td>\n",
              "      <td>NaN</td>\n",
              "      <td>NaN</td>\n",
              "      <td>NaN</td>\n",
              "    </tr>\n",
              "  </tbody>\n",
              "</table>\n",
              "</div>"
            ],
            "text/plain": [
              "         Date  Day  ...  Deaths_Spain  Deaths_Mali\n",
              "0    1/5/2015  289  ...           NaN          NaN\n",
              "1    1/4/2015  288  ...           NaN          NaN\n",
              "2    1/3/2015  287  ...           NaN          NaN\n",
              "3    1/2/2015  286  ...           NaN          NaN\n",
              "4  12/31/2014  284  ...           NaN          NaN\n",
              "\n",
              "[5 rows x 18 columns]"
            ]
          },
          "metadata": {
            "tags": []
          },
          "execution_count": 45
        }
      ]
    },
    {
      "cell_type": "code",
      "metadata": {
        "id": "jERi87frnlfK"
      },
      "source": [
        "ebola_long = pd.melt(ebola,\n",
        "                     id_vars=['Date','Day'])"
      ],
      "execution_count": 48,
      "outputs": []
    },
    {
      "cell_type": "code",
      "metadata": {
        "colab": {
          "base_uri": "https://localhost:8080/",
          "height": 204
        },
        "id": "ei_pqGmRoP_u",
        "outputId": "f0702f84-4ed1-4387-a48d-324b44e2f1e6"
      },
      "source": [
        "ebola_long.head()"
      ],
      "execution_count": 49,
      "outputs": [
        {
          "output_type": "execute_result",
          "data": {
            "text/html": [
              "<div>\n",
              "<style scoped>\n",
              "    .dataframe tbody tr th:only-of-type {\n",
              "        vertical-align: middle;\n",
              "    }\n",
              "\n",
              "    .dataframe tbody tr th {\n",
              "        vertical-align: top;\n",
              "    }\n",
              "\n",
              "    .dataframe thead th {\n",
              "        text-align: right;\n",
              "    }\n",
              "</style>\n",
              "<table border=\"1\" class=\"dataframe\">\n",
              "  <thead>\n",
              "    <tr style=\"text-align: right;\">\n",
              "      <th></th>\n",
              "      <th>Date</th>\n",
              "      <th>Day</th>\n",
              "      <th>variable</th>\n",
              "      <th>value</th>\n",
              "    </tr>\n",
              "  </thead>\n",
              "  <tbody>\n",
              "    <tr>\n",
              "      <th>0</th>\n",
              "      <td>1/5/2015</td>\n",
              "      <td>289</td>\n",
              "      <td>Cases_Guinea</td>\n",
              "      <td>2776.0</td>\n",
              "    </tr>\n",
              "    <tr>\n",
              "      <th>1</th>\n",
              "      <td>1/4/2015</td>\n",
              "      <td>288</td>\n",
              "      <td>Cases_Guinea</td>\n",
              "      <td>2775.0</td>\n",
              "    </tr>\n",
              "    <tr>\n",
              "      <th>2</th>\n",
              "      <td>1/3/2015</td>\n",
              "      <td>287</td>\n",
              "      <td>Cases_Guinea</td>\n",
              "      <td>2769.0</td>\n",
              "    </tr>\n",
              "    <tr>\n",
              "      <th>3</th>\n",
              "      <td>1/2/2015</td>\n",
              "      <td>286</td>\n",
              "      <td>Cases_Guinea</td>\n",
              "      <td>NaN</td>\n",
              "    </tr>\n",
              "    <tr>\n",
              "      <th>4</th>\n",
              "      <td>12/31/2014</td>\n",
              "      <td>284</td>\n",
              "      <td>Cases_Guinea</td>\n",
              "      <td>2730.0</td>\n",
              "    </tr>\n",
              "  </tbody>\n",
              "</table>\n",
              "</div>"
            ],
            "text/plain": [
              "         Date  Day      variable   value\n",
              "0    1/5/2015  289  Cases_Guinea  2776.0\n",
              "1    1/4/2015  288  Cases_Guinea  2775.0\n",
              "2    1/3/2015  287  Cases_Guinea  2769.0\n",
              "3    1/2/2015  286  Cases_Guinea     NaN\n",
              "4  12/31/2014  284  Cases_Guinea  2730.0"
            ]
          },
          "metadata": {
            "tags": []
          },
          "execution_count": 49
        }
      ]
    },
    {
      "cell_type": "code",
      "metadata": {
        "colab": {
          "base_uri": "https://localhost:8080/"
        },
        "id": "93onumGmoTXY",
        "outputId": "962fe9bc-0ab0-4ceb-d8aa-de8d952ab33e"
      },
      "source": [
        "# split the columns by the underscore for each country\n",
        "\n",
        "'Cases_Guinea'.split('_')"
      ],
      "execution_count": 50,
      "outputs": [
        {
          "output_type": "execute_result",
          "data": {
            "text/plain": [
              "['Cases', 'Guinea']"
            ]
          },
          "metadata": {
            "tags": []
          },
          "execution_count": 50
        }
      ]
    },
    {
      "cell_type": "code",
      "metadata": {
        "colab": {
          "base_uri": "https://localhost:8080/"
        },
        "id": "xBtllE4Sod9z",
        "outputId": "bc7c75e8-7695-4c98-f04e-c4c6c59acddc"
      },
      "source": [
        "variable_split = ebola_long['variable'].str.split('_')\n",
        "\n",
        "variable_split"
      ],
      "execution_count": 51,
      "outputs": [
        {
          "output_type": "execute_result",
          "data": {
            "text/plain": [
              "0       [Cases, Guinea]\n",
              "1       [Cases, Guinea]\n",
              "2       [Cases, Guinea]\n",
              "3       [Cases, Guinea]\n",
              "4       [Cases, Guinea]\n",
              "             ...       \n",
              "1947     [Deaths, Mali]\n",
              "1948     [Deaths, Mali]\n",
              "1949     [Deaths, Mali]\n",
              "1950     [Deaths, Mali]\n",
              "1951     [Deaths, Mali]\n",
              "Name: variable, Length: 1952, dtype: object"
            ]
          },
          "metadata": {
            "tags": []
          },
          "execution_count": 51
        }
      ]
    },
    {
      "cell_type": "code",
      "metadata": {
        "colab": {
          "base_uri": "https://localhost:8080/"
        },
        "id": "IFUOQ0t_oyFN",
        "outputId": "c63df378-6456-4a13-e547-41a5426b2fe5"
      },
      "source": [
        "type(variable_split)"
      ],
      "execution_count": 52,
      "outputs": [
        {
          "output_type": "execute_result",
          "data": {
            "text/plain": [
              "pandas.core.series.Series"
            ]
          },
          "metadata": {
            "tags": []
          },
          "execution_count": 52
        }
      ]
    },
    {
      "cell_type": "code",
      "metadata": {
        "colab": {
          "base_uri": "https://localhost:8080/"
        },
        "id": "PM4pxR9qo0jl",
        "outputId": "6efbe61b-5383-4c62-fee4-b049f0f16d61"
      },
      "source": [
        "type(variable_split[0])"
      ],
      "execution_count": 55,
      "outputs": [
        {
          "output_type": "execute_result",
          "data": {
            "text/plain": [
              "list"
            ]
          },
          "metadata": {
            "tags": []
          },
          "execution_count": 55
        }
      ]
    },
    {
      "cell_type": "code",
      "metadata": {
        "colab": {
          "base_uri": "https://localhost:8080/",
          "height": 35
        },
        "id": "gw_Wo4Xjo_VA",
        "outputId": "bbab7d47-160c-4493-c588-dc7d71170d60"
      },
      "source": [
        "variable_split[0][0]"
      ],
      "execution_count": 56,
      "outputs": [
        {
          "output_type": "execute_result",
          "data": {
            "application/vnd.google.colaboratory.intrinsic+json": {
              "type": "string"
            },
            "text/plain": [
              "'Cases'"
            ]
          },
          "metadata": {
            "tags": []
          },
          "execution_count": 56
        }
      ]
    },
    {
      "cell_type": "code",
      "metadata": {
        "colab": {
          "base_uri": "https://localhost:8080/"
        },
        "id": "7QDSpB8opHhi",
        "outputId": "ac9632d9-4ec1-4e88-fe04-ee6611f77f63"
      },
      "source": [
        "variable_split"
      ],
      "execution_count": 57,
      "outputs": [
        {
          "output_type": "execute_result",
          "data": {
            "text/plain": [
              "0       [Cases, Guinea]\n",
              "1       [Cases, Guinea]\n",
              "2       [Cases, Guinea]\n",
              "3       [Cases, Guinea]\n",
              "4       [Cases, Guinea]\n",
              "             ...       \n",
              "1947     [Deaths, Mali]\n",
              "1948     [Deaths, Mali]\n",
              "1949     [Deaths, Mali]\n",
              "1950     [Deaths, Mali]\n",
              "1951     [Deaths, Mali]\n",
              "Name: variable, Length: 1952, dtype: object"
            ]
          },
          "metadata": {
            "tags": []
          },
          "execution_count": 57
        }
      ]
    },
    {
      "cell_type": "code",
      "metadata": {
        "colab": {
          "base_uri": "https://localhost:8080/"
        },
        "id": "2t26xjeDpKS1",
        "outputId": "4c0e7521-3961-49c1-b05b-fdd10e6a9873"
      },
      "source": [
        "# only the first element\n",
        "\n",
        "variable_split.str.get(1)"
      ],
      "execution_count": 61,
      "outputs": [
        {
          "output_type": "execute_result",
          "data": {
            "text/plain": [
              "0       Guinea\n",
              "1       Guinea\n",
              "2       Guinea\n",
              "3       Guinea\n",
              "4       Guinea\n",
              "         ...  \n",
              "1947      Mali\n",
              "1948      Mali\n",
              "1949      Mali\n",
              "1950      Mali\n",
              "1951      Mali\n",
              "Name: variable, Length: 1952, dtype: object"
            ]
          },
          "metadata": {
            "tags": []
          },
          "execution_count": 61
        }
      ]
    },
    {
      "cell_type": "code",
      "metadata": {
        "colab": {
          "base_uri": "https://localhost:8080/",
          "height": 204
        },
        "id": "_J8nc1y2pYhi",
        "outputId": "15e026fe-f35e-4871-a337-2684ccd70711"
      },
      "source": [
        "ebola_long['stats']= variable_split.str.get(0)\n",
        "ebola_long['country']= variable_split.str.get(1)\n",
        "\n",
        "ebola_long.head()"
      ],
      "execution_count": 62,
      "outputs": [
        {
          "output_type": "execute_result",
          "data": {
            "text/html": [
              "<div>\n",
              "<style scoped>\n",
              "    .dataframe tbody tr th:only-of-type {\n",
              "        vertical-align: middle;\n",
              "    }\n",
              "\n",
              "    .dataframe tbody tr th {\n",
              "        vertical-align: top;\n",
              "    }\n",
              "\n",
              "    .dataframe thead th {\n",
              "        text-align: right;\n",
              "    }\n",
              "</style>\n",
              "<table border=\"1\" class=\"dataframe\">\n",
              "  <thead>\n",
              "    <tr style=\"text-align: right;\">\n",
              "      <th></th>\n",
              "      <th>Date</th>\n",
              "      <th>Day</th>\n",
              "      <th>variable</th>\n",
              "      <th>value</th>\n",
              "      <th>stats</th>\n",
              "      <th>country</th>\n",
              "    </tr>\n",
              "  </thead>\n",
              "  <tbody>\n",
              "    <tr>\n",
              "      <th>0</th>\n",
              "      <td>1/5/2015</td>\n",
              "      <td>289</td>\n",
              "      <td>Cases_Guinea</td>\n",
              "      <td>2776.0</td>\n",
              "      <td>Cases</td>\n",
              "      <td>Guinea</td>\n",
              "    </tr>\n",
              "    <tr>\n",
              "      <th>1</th>\n",
              "      <td>1/4/2015</td>\n",
              "      <td>288</td>\n",
              "      <td>Cases_Guinea</td>\n",
              "      <td>2775.0</td>\n",
              "      <td>Cases</td>\n",
              "      <td>Guinea</td>\n",
              "    </tr>\n",
              "    <tr>\n",
              "      <th>2</th>\n",
              "      <td>1/3/2015</td>\n",
              "      <td>287</td>\n",
              "      <td>Cases_Guinea</td>\n",
              "      <td>2769.0</td>\n",
              "      <td>Cases</td>\n",
              "      <td>Guinea</td>\n",
              "    </tr>\n",
              "    <tr>\n",
              "      <th>3</th>\n",
              "      <td>1/2/2015</td>\n",
              "      <td>286</td>\n",
              "      <td>Cases_Guinea</td>\n",
              "      <td>NaN</td>\n",
              "      <td>Cases</td>\n",
              "      <td>Guinea</td>\n",
              "    </tr>\n",
              "    <tr>\n",
              "      <th>4</th>\n",
              "      <td>12/31/2014</td>\n",
              "      <td>284</td>\n",
              "      <td>Cases_Guinea</td>\n",
              "      <td>2730.0</td>\n",
              "      <td>Cases</td>\n",
              "      <td>Guinea</td>\n",
              "    </tr>\n",
              "  </tbody>\n",
              "</table>\n",
              "</div>"
            ],
            "text/plain": [
              "         Date  Day      variable   value  stats country\n",
              "0    1/5/2015  289  Cases_Guinea  2776.0  Cases  Guinea\n",
              "1    1/4/2015  288  Cases_Guinea  2775.0  Cases  Guinea\n",
              "2    1/3/2015  287  Cases_Guinea  2769.0  Cases  Guinea\n",
              "3    1/2/2015  286  Cases_Guinea     NaN  Cases  Guinea\n",
              "4  12/31/2014  284  Cases_Guinea  2730.0  Cases  Guinea"
            ]
          },
          "metadata": {
            "tags": []
          },
          "execution_count": 62
        }
      ]
    },
    {
      "cell_type": "code",
      "metadata": {
        "colab": {
          "base_uri": "https://localhost:8080/",
          "height": 419
        },
        "id": "JPQlxdpZpqvS",
        "outputId": "395f9719-6c80-4322-de6c-11c6def100a3"
      },
      "source": [
        "ebola_long['variable'].str.split('_',expand=True)"
      ],
      "execution_count": 63,
      "outputs": [
        {
          "output_type": "execute_result",
          "data": {
            "text/html": [
              "<div>\n",
              "<style scoped>\n",
              "    .dataframe tbody tr th:only-of-type {\n",
              "        vertical-align: middle;\n",
              "    }\n",
              "\n",
              "    .dataframe tbody tr th {\n",
              "        vertical-align: top;\n",
              "    }\n",
              "\n",
              "    .dataframe thead th {\n",
              "        text-align: right;\n",
              "    }\n",
              "</style>\n",
              "<table border=\"1\" class=\"dataframe\">\n",
              "  <thead>\n",
              "    <tr style=\"text-align: right;\">\n",
              "      <th></th>\n",
              "      <th>0</th>\n",
              "      <th>1</th>\n",
              "    </tr>\n",
              "  </thead>\n",
              "  <tbody>\n",
              "    <tr>\n",
              "      <th>0</th>\n",
              "      <td>Cases</td>\n",
              "      <td>Guinea</td>\n",
              "    </tr>\n",
              "    <tr>\n",
              "      <th>1</th>\n",
              "      <td>Cases</td>\n",
              "      <td>Guinea</td>\n",
              "    </tr>\n",
              "    <tr>\n",
              "      <th>2</th>\n",
              "      <td>Cases</td>\n",
              "      <td>Guinea</td>\n",
              "    </tr>\n",
              "    <tr>\n",
              "      <th>3</th>\n",
              "      <td>Cases</td>\n",
              "      <td>Guinea</td>\n",
              "    </tr>\n",
              "    <tr>\n",
              "      <th>4</th>\n",
              "      <td>Cases</td>\n",
              "      <td>Guinea</td>\n",
              "    </tr>\n",
              "    <tr>\n",
              "      <th>...</th>\n",
              "      <td>...</td>\n",
              "      <td>...</td>\n",
              "    </tr>\n",
              "    <tr>\n",
              "      <th>1947</th>\n",
              "      <td>Deaths</td>\n",
              "      <td>Mali</td>\n",
              "    </tr>\n",
              "    <tr>\n",
              "      <th>1948</th>\n",
              "      <td>Deaths</td>\n",
              "      <td>Mali</td>\n",
              "    </tr>\n",
              "    <tr>\n",
              "      <th>1949</th>\n",
              "      <td>Deaths</td>\n",
              "      <td>Mali</td>\n",
              "    </tr>\n",
              "    <tr>\n",
              "      <th>1950</th>\n",
              "      <td>Deaths</td>\n",
              "      <td>Mali</td>\n",
              "    </tr>\n",
              "    <tr>\n",
              "      <th>1951</th>\n",
              "      <td>Deaths</td>\n",
              "      <td>Mali</td>\n",
              "    </tr>\n",
              "  </tbody>\n",
              "</table>\n",
              "<p>1952 rows × 2 columns</p>\n",
              "</div>"
            ],
            "text/plain": [
              "           0       1\n",
              "0      Cases  Guinea\n",
              "1      Cases  Guinea\n",
              "2      Cases  Guinea\n",
              "3      Cases  Guinea\n",
              "4      Cases  Guinea\n",
              "...      ...     ...\n",
              "1947  Deaths    Mali\n",
              "1948  Deaths    Mali\n",
              "1949  Deaths    Mali\n",
              "1950  Deaths    Mali\n",
              "1951  Deaths    Mali\n",
              "\n",
              "[1952 rows x 2 columns]"
            ]
          },
          "metadata": {
            "tags": []
          },
          "execution_count": 63
        }
      ]
    },
    {
      "cell_type": "code",
      "metadata": {
        "id": "A3hLysZ9qEKW"
      },
      "source": [
        "weather = pd.read_csv('/content/weather.csv')"
      ],
      "execution_count": 64,
      "outputs": []
    },
    {
      "cell_type": "code",
      "metadata": {
        "colab": {
          "base_uri": "https://localhost:8080/",
          "height": 224
        },
        "id": "orYBxi3tqObz",
        "outputId": "8c15ce4d-a6f7-4ac1-c122-e08f82aed627"
      },
      "source": [
        "weather.head()"
      ],
      "execution_count": 65,
      "outputs": [
        {
          "output_type": "execute_result",
          "data": {
            "text/html": [
              "<div>\n",
              "<style scoped>\n",
              "    .dataframe tbody tr th:only-of-type {\n",
              "        vertical-align: middle;\n",
              "    }\n",
              "\n",
              "    .dataframe tbody tr th {\n",
              "        vertical-align: top;\n",
              "    }\n",
              "\n",
              "    .dataframe thead th {\n",
              "        text-align: right;\n",
              "    }\n",
              "</style>\n",
              "<table border=\"1\" class=\"dataframe\">\n",
              "  <thead>\n",
              "    <tr style=\"text-align: right;\">\n",
              "      <th></th>\n",
              "      <th>id</th>\n",
              "      <th>year</th>\n",
              "      <th>month</th>\n",
              "      <th>element</th>\n",
              "      <th>d1</th>\n",
              "      <th>d2</th>\n",
              "      <th>d3</th>\n",
              "      <th>d4</th>\n",
              "      <th>d5</th>\n",
              "      <th>d6</th>\n",
              "      <th>d7</th>\n",
              "      <th>d8</th>\n",
              "      <th>d9</th>\n",
              "      <th>d10</th>\n",
              "      <th>d11</th>\n",
              "      <th>d12</th>\n",
              "      <th>d13</th>\n",
              "      <th>d14</th>\n",
              "      <th>d15</th>\n",
              "      <th>d16</th>\n",
              "      <th>d17</th>\n",
              "      <th>d18</th>\n",
              "      <th>d19</th>\n",
              "      <th>d20</th>\n",
              "      <th>d21</th>\n",
              "      <th>d22</th>\n",
              "      <th>d23</th>\n",
              "      <th>d24</th>\n",
              "      <th>d25</th>\n",
              "      <th>d26</th>\n",
              "      <th>d27</th>\n",
              "      <th>d28</th>\n",
              "      <th>d29</th>\n",
              "      <th>d30</th>\n",
              "      <th>d31</th>\n",
              "    </tr>\n",
              "  </thead>\n",
              "  <tbody>\n",
              "    <tr>\n",
              "      <th>0</th>\n",
              "      <td>MX17004</td>\n",
              "      <td>2010</td>\n",
              "      <td>1</td>\n",
              "      <td>tmax</td>\n",
              "      <td>NaN</td>\n",
              "      <td>NaN</td>\n",
              "      <td>NaN</td>\n",
              "      <td>NaN</td>\n",
              "      <td>NaN</td>\n",
              "      <td>NaN</td>\n",
              "      <td>NaN</td>\n",
              "      <td>NaN</td>\n",
              "      <td>NaN</td>\n",
              "      <td>NaN</td>\n",
              "      <td>NaN</td>\n",
              "      <td>NaN</td>\n",
              "      <td>NaN</td>\n",
              "      <td>NaN</td>\n",
              "      <td>NaN</td>\n",
              "      <td>NaN</td>\n",
              "      <td>NaN</td>\n",
              "      <td>NaN</td>\n",
              "      <td>NaN</td>\n",
              "      <td>NaN</td>\n",
              "      <td>NaN</td>\n",
              "      <td>NaN</td>\n",
              "      <td>NaN</td>\n",
              "      <td>NaN</td>\n",
              "      <td>NaN</td>\n",
              "      <td>NaN</td>\n",
              "      <td>NaN</td>\n",
              "      <td>NaN</td>\n",
              "      <td>NaN</td>\n",
              "      <td>27.8</td>\n",
              "      <td>NaN</td>\n",
              "    </tr>\n",
              "    <tr>\n",
              "      <th>1</th>\n",
              "      <td>MX17004</td>\n",
              "      <td>2010</td>\n",
              "      <td>1</td>\n",
              "      <td>tmin</td>\n",
              "      <td>NaN</td>\n",
              "      <td>NaN</td>\n",
              "      <td>NaN</td>\n",
              "      <td>NaN</td>\n",
              "      <td>NaN</td>\n",
              "      <td>NaN</td>\n",
              "      <td>NaN</td>\n",
              "      <td>NaN</td>\n",
              "      <td>NaN</td>\n",
              "      <td>NaN</td>\n",
              "      <td>NaN</td>\n",
              "      <td>NaN</td>\n",
              "      <td>NaN</td>\n",
              "      <td>NaN</td>\n",
              "      <td>NaN</td>\n",
              "      <td>NaN</td>\n",
              "      <td>NaN</td>\n",
              "      <td>NaN</td>\n",
              "      <td>NaN</td>\n",
              "      <td>NaN</td>\n",
              "      <td>NaN</td>\n",
              "      <td>NaN</td>\n",
              "      <td>NaN</td>\n",
              "      <td>NaN</td>\n",
              "      <td>NaN</td>\n",
              "      <td>NaN</td>\n",
              "      <td>NaN</td>\n",
              "      <td>NaN</td>\n",
              "      <td>NaN</td>\n",
              "      <td>14.5</td>\n",
              "      <td>NaN</td>\n",
              "    </tr>\n",
              "    <tr>\n",
              "      <th>2</th>\n",
              "      <td>MX17004</td>\n",
              "      <td>2010</td>\n",
              "      <td>2</td>\n",
              "      <td>tmax</td>\n",
              "      <td>NaN</td>\n",
              "      <td>27.3</td>\n",
              "      <td>24.1</td>\n",
              "      <td>NaN</td>\n",
              "      <td>NaN</td>\n",
              "      <td>NaN</td>\n",
              "      <td>NaN</td>\n",
              "      <td>NaN</td>\n",
              "      <td>NaN</td>\n",
              "      <td>NaN</td>\n",
              "      <td>29.7</td>\n",
              "      <td>NaN</td>\n",
              "      <td>NaN</td>\n",
              "      <td>NaN</td>\n",
              "      <td>NaN</td>\n",
              "      <td>NaN</td>\n",
              "      <td>NaN</td>\n",
              "      <td>NaN</td>\n",
              "      <td>NaN</td>\n",
              "      <td>NaN</td>\n",
              "      <td>NaN</td>\n",
              "      <td>NaN</td>\n",
              "      <td>29.9</td>\n",
              "      <td>NaN</td>\n",
              "      <td>NaN</td>\n",
              "      <td>NaN</td>\n",
              "      <td>NaN</td>\n",
              "      <td>NaN</td>\n",
              "      <td>NaN</td>\n",
              "      <td>NaN</td>\n",
              "      <td>NaN</td>\n",
              "    </tr>\n",
              "    <tr>\n",
              "      <th>3</th>\n",
              "      <td>MX17004</td>\n",
              "      <td>2010</td>\n",
              "      <td>2</td>\n",
              "      <td>tmin</td>\n",
              "      <td>NaN</td>\n",
              "      <td>14.4</td>\n",
              "      <td>14.4</td>\n",
              "      <td>NaN</td>\n",
              "      <td>NaN</td>\n",
              "      <td>NaN</td>\n",
              "      <td>NaN</td>\n",
              "      <td>NaN</td>\n",
              "      <td>NaN</td>\n",
              "      <td>NaN</td>\n",
              "      <td>13.4</td>\n",
              "      <td>NaN</td>\n",
              "      <td>NaN</td>\n",
              "      <td>NaN</td>\n",
              "      <td>NaN</td>\n",
              "      <td>NaN</td>\n",
              "      <td>NaN</td>\n",
              "      <td>NaN</td>\n",
              "      <td>NaN</td>\n",
              "      <td>NaN</td>\n",
              "      <td>NaN</td>\n",
              "      <td>NaN</td>\n",
              "      <td>10.7</td>\n",
              "      <td>NaN</td>\n",
              "      <td>NaN</td>\n",
              "      <td>NaN</td>\n",
              "      <td>NaN</td>\n",
              "      <td>NaN</td>\n",
              "      <td>NaN</td>\n",
              "      <td>NaN</td>\n",
              "      <td>NaN</td>\n",
              "    </tr>\n",
              "    <tr>\n",
              "      <th>4</th>\n",
              "      <td>MX17004</td>\n",
              "      <td>2010</td>\n",
              "      <td>3</td>\n",
              "      <td>tmax</td>\n",
              "      <td>NaN</td>\n",
              "      <td>NaN</td>\n",
              "      <td>NaN</td>\n",
              "      <td>NaN</td>\n",
              "      <td>32.1</td>\n",
              "      <td>NaN</td>\n",
              "      <td>NaN</td>\n",
              "      <td>NaN</td>\n",
              "      <td>NaN</td>\n",
              "      <td>34.5</td>\n",
              "      <td>NaN</td>\n",
              "      <td>NaN</td>\n",
              "      <td>NaN</td>\n",
              "      <td>NaN</td>\n",
              "      <td>NaN</td>\n",
              "      <td>31.1</td>\n",
              "      <td>NaN</td>\n",
              "      <td>NaN</td>\n",
              "      <td>NaN</td>\n",
              "      <td>NaN</td>\n",
              "      <td>NaN</td>\n",
              "      <td>NaN</td>\n",
              "      <td>NaN</td>\n",
              "      <td>NaN</td>\n",
              "      <td>NaN</td>\n",
              "      <td>NaN</td>\n",
              "      <td>NaN</td>\n",
              "      <td>NaN</td>\n",
              "      <td>NaN</td>\n",
              "      <td>NaN</td>\n",
              "      <td>NaN</td>\n",
              "    </tr>\n",
              "  </tbody>\n",
              "</table>\n",
              "</div>"
            ],
            "text/plain": [
              "        id  year  month element  d1    d2  ...  d26  d27  d28  d29   d30  d31\n",
              "0  MX17004  2010      1    tmax NaN   NaN  ...  NaN  NaN  NaN  NaN  27.8  NaN\n",
              "1  MX17004  2010      1    tmin NaN   NaN  ...  NaN  NaN  NaN  NaN  14.5  NaN\n",
              "2  MX17004  2010      2    tmax NaN  27.3  ...  NaN  NaN  NaN  NaN   NaN  NaN\n",
              "3  MX17004  2010      2    tmin NaN  14.4  ...  NaN  NaN  NaN  NaN   NaN  NaN\n",
              "4  MX17004  2010      3    tmax NaN   NaN  ...  NaN  NaN  NaN  NaN   NaN  NaN\n",
              "\n",
              "[5 rows x 35 columns]"
            ]
          },
          "metadata": {
            "tags": []
          },
          "execution_count": 65
        }
      ]
    },
    {
      "cell_type": "code",
      "metadata": {
        "id": "JkbvK7f5qpKy"
      },
      "source": [
        "weather_melt = pd.melt(\n",
        "    weather,\n",
        "    id_vars =['id','year','month','element'],\n",
        "    var_name ='day',\n",
        "    value_name='temp'\n",
        ")"
      ],
      "execution_count": 66,
      "outputs": []
    },
    {
      "cell_type": "code",
      "metadata": {
        "colab": {
          "base_uri": "https://localhost:8080/",
          "height": 204
        },
        "id": "BGFNDubxq6On",
        "outputId": "555eb487-2fa3-44e7-d26a-f2045252c718"
      },
      "source": [
        "weather_melt.head()"
      ],
      "execution_count": 67,
      "outputs": [
        {
          "output_type": "execute_result",
          "data": {
            "text/html": [
              "<div>\n",
              "<style scoped>\n",
              "    .dataframe tbody tr th:only-of-type {\n",
              "        vertical-align: middle;\n",
              "    }\n",
              "\n",
              "    .dataframe tbody tr th {\n",
              "        vertical-align: top;\n",
              "    }\n",
              "\n",
              "    .dataframe thead th {\n",
              "        text-align: right;\n",
              "    }\n",
              "</style>\n",
              "<table border=\"1\" class=\"dataframe\">\n",
              "  <thead>\n",
              "    <tr style=\"text-align: right;\">\n",
              "      <th></th>\n",
              "      <th>id</th>\n",
              "      <th>year</th>\n",
              "      <th>month</th>\n",
              "      <th>element</th>\n",
              "      <th>day</th>\n",
              "      <th>temp</th>\n",
              "    </tr>\n",
              "  </thead>\n",
              "  <tbody>\n",
              "    <tr>\n",
              "      <th>0</th>\n",
              "      <td>MX17004</td>\n",
              "      <td>2010</td>\n",
              "      <td>1</td>\n",
              "      <td>tmax</td>\n",
              "      <td>d1</td>\n",
              "      <td>NaN</td>\n",
              "    </tr>\n",
              "    <tr>\n",
              "      <th>1</th>\n",
              "      <td>MX17004</td>\n",
              "      <td>2010</td>\n",
              "      <td>1</td>\n",
              "      <td>tmin</td>\n",
              "      <td>d1</td>\n",
              "      <td>NaN</td>\n",
              "    </tr>\n",
              "    <tr>\n",
              "      <th>2</th>\n",
              "      <td>MX17004</td>\n",
              "      <td>2010</td>\n",
              "      <td>2</td>\n",
              "      <td>tmax</td>\n",
              "      <td>d1</td>\n",
              "      <td>NaN</td>\n",
              "    </tr>\n",
              "    <tr>\n",
              "      <th>3</th>\n",
              "      <td>MX17004</td>\n",
              "      <td>2010</td>\n",
              "      <td>2</td>\n",
              "      <td>tmin</td>\n",
              "      <td>d1</td>\n",
              "      <td>NaN</td>\n",
              "    </tr>\n",
              "    <tr>\n",
              "      <th>4</th>\n",
              "      <td>MX17004</td>\n",
              "      <td>2010</td>\n",
              "      <td>3</td>\n",
              "      <td>tmax</td>\n",
              "      <td>d1</td>\n",
              "      <td>NaN</td>\n",
              "    </tr>\n",
              "  </tbody>\n",
              "</table>\n",
              "</div>"
            ],
            "text/plain": [
              "        id  year  month element day  temp\n",
              "0  MX17004  2010      1    tmax  d1   NaN\n",
              "1  MX17004  2010      1    tmin  d1   NaN\n",
              "2  MX17004  2010      2    tmax  d1   NaN\n",
              "3  MX17004  2010      2    tmin  d1   NaN\n",
              "4  MX17004  2010      3    tmax  d1   NaN"
            ]
          },
          "metadata": {
            "tags": []
          },
          "execution_count": 67
        }
      ]
    },
    {
      "cell_type": "code",
      "metadata": {
        "id": "jorU_TI9rP9T"
      },
      "source": [
        "# Pivoting\n",
        "\n",
        "weather_tidy = weather_melt.pivot_table(\n",
        "    index=['id','year','month','day'] #columns we do not want to move\n",
        "    ,columns='element',\n",
        "    values='temp'\n",
        ")"
      ],
      "execution_count": 68,
      "outputs": []
    },
    {
      "cell_type": "code",
      "metadata": {
        "colab": {
          "base_uri": "https://localhost:8080/",
          "height": 235
        },
        "id": "uRncNN3MsQzv",
        "outputId": "fbe0a621-c0f2-41a8-b81a-f90de3858f76"
      },
      "source": [
        "weather_tidy.head()"
      ],
      "execution_count": 69,
      "outputs": [
        {
          "output_type": "execute_result",
          "data": {
            "text/html": [
              "<div>\n",
              "<style scoped>\n",
              "    .dataframe tbody tr th:only-of-type {\n",
              "        vertical-align: middle;\n",
              "    }\n",
              "\n",
              "    .dataframe tbody tr th {\n",
              "        vertical-align: top;\n",
              "    }\n",
              "\n",
              "    .dataframe thead th {\n",
              "        text-align: right;\n",
              "    }\n",
              "</style>\n",
              "<table border=\"1\" class=\"dataframe\">\n",
              "  <thead>\n",
              "    <tr style=\"text-align: right;\">\n",
              "      <th></th>\n",
              "      <th></th>\n",
              "      <th></th>\n",
              "      <th>element</th>\n",
              "      <th>tmax</th>\n",
              "      <th>tmin</th>\n",
              "    </tr>\n",
              "    <tr>\n",
              "      <th>id</th>\n",
              "      <th>year</th>\n",
              "      <th>month</th>\n",
              "      <th>day</th>\n",
              "      <th></th>\n",
              "      <th></th>\n",
              "    </tr>\n",
              "  </thead>\n",
              "  <tbody>\n",
              "    <tr>\n",
              "      <th rowspan=\"5\" valign=\"top\">MX17004</th>\n",
              "      <th rowspan=\"5\" valign=\"top\">2010</th>\n",
              "      <th>1</th>\n",
              "      <th>d30</th>\n",
              "      <td>27.8</td>\n",
              "      <td>14.5</td>\n",
              "    </tr>\n",
              "    <tr>\n",
              "      <th rowspan=\"4\" valign=\"top\">2</th>\n",
              "      <th>d11</th>\n",
              "      <td>29.7</td>\n",
              "      <td>13.4</td>\n",
              "    </tr>\n",
              "    <tr>\n",
              "      <th>d2</th>\n",
              "      <td>27.3</td>\n",
              "      <td>14.4</td>\n",
              "    </tr>\n",
              "    <tr>\n",
              "      <th>d23</th>\n",
              "      <td>29.9</td>\n",
              "      <td>10.7</td>\n",
              "    </tr>\n",
              "    <tr>\n",
              "      <th>d3</th>\n",
              "      <td>24.1</td>\n",
              "      <td>14.4</td>\n",
              "    </tr>\n",
              "  </tbody>\n",
              "</table>\n",
              "</div>"
            ],
            "text/plain": [
              "element                 tmax  tmin\n",
              "id      year month day            \n",
              "MX17004 2010 1     d30  27.8  14.5\n",
              "             2     d11  29.7  13.4\n",
              "                   d2   27.3  14.4\n",
              "                   d23  29.9  10.7\n",
              "                   d3   24.1  14.4"
            ]
          },
          "metadata": {
            "tags": []
          },
          "execution_count": 69
        }
      ]
    },
    {
      "cell_type": "code",
      "metadata": {
        "colab": {
          "base_uri": "https://localhost:8080/",
          "height": 1000
        },
        "id": "2NTopC3YsfuH",
        "outputId": "52c98398-c98d-4b0b-9886-60d6f1745b26"
      },
      "source": [
        "weather_tidy.reset_index()"
      ],
      "execution_count": 70,
      "outputs": [
        {
          "output_type": "execute_result",
          "data": {
            "text/html": [
              "<div>\n",
              "<style scoped>\n",
              "    .dataframe tbody tr th:only-of-type {\n",
              "        vertical-align: middle;\n",
              "    }\n",
              "\n",
              "    .dataframe tbody tr th {\n",
              "        vertical-align: top;\n",
              "    }\n",
              "\n",
              "    .dataframe thead th {\n",
              "        text-align: right;\n",
              "    }\n",
              "</style>\n",
              "<table border=\"1\" class=\"dataframe\">\n",
              "  <thead>\n",
              "    <tr style=\"text-align: right;\">\n",
              "      <th>element</th>\n",
              "      <th>id</th>\n",
              "      <th>year</th>\n",
              "      <th>month</th>\n",
              "      <th>day</th>\n",
              "      <th>tmax</th>\n",
              "      <th>tmin</th>\n",
              "    </tr>\n",
              "  </thead>\n",
              "  <tbody>\n",
              "    <tr>\n",
              "      <th>0</th>\n",
              "      <td>MX17004</td>\n",
              "      <td>2010</td>\n",
              "      <td>1</td>\n",
              "      <td>d30</td>\n",
              "      <td>27.8</td>\n",
              "      <td>14.5</td>\n",
              "    </tr>\n",
              "    <tr>\n",
              "      <th>1</th>\n",
              "      <td>MX17004</td>\n",
              "      <td>2010</td>\n",
              "      <td>2</td>\n",
              "      <td>d11</td>\n",
              "      <td>29.7</td>\n",
              "      <td>13.4</td>\n",
              "    </tr>\n",
              "    <tr>\n",
              "      <th>2</th>\n",
              "      <td>MX17004</td>\n",
              "      <td>2010</td>\n",
              "      <td>2</td>\n",
              "      <td>d2</td>\n",
              "      <td>27.3</td>\n",
              "      <td>14.4</td>\n",
              "    </tr>\n",
              "    <tr>\n",
              "      <th>3</th>\n",
              "      <td>MX17004</td>\n",
              "      <td>2010</td>\n",
              "      <td>2</td>\n",
              "      <td>d23</td>\n",
              "      <td>29.9</td>\n",
              "      <td>10.7</td>\n",
              "    </tr>\n",
              "    <tr>\n",
              "      <th>4</th>\n",
              "      <td>MX17004</td>\n",
              "      <td>2010</td>\n",
              "      <td>2</td>\n",
              "      <td>d3</td>\n",
              "      <td>24.1</td>\n",
              "      <td>14.4</td>\n",
              "    </tr>\n",
              "    <tr>\n",
              "      <th>5</th>\n",
              "      <td>MX17004</td>\n",
              "      <td>2010</td>\n",
              "      <td>3</td>\n",
              "      <td>d10</td>\n",
              "      <td>34.5</td>\n",
              "      <td>16.8</td>\n",
              "    </tr>\n",
              "    <tr>\n",
              "      <th>6</th>\n",
              "      <td>MX17004</td>\n",
              "      <td>2010</td>\n",
              "      <td>3</td>\n",
              "      <td>d16</td>\n",
              "      <td>31.1</td>\n",
              "      <td>17.6</td>\n",
              "    </tr>\n",
              "    <tr>\n",
              "      <th>7</th>\n",
              "      <td>MX17004</td>\n",
              "      <td>2010</td>\n",
              "      <td>3</td>\n",
              "      <td>d5</td>\n",
              "      <td>32.1</td>\n",
              "      <td>14.2</td>\n",
              "    </tr>\n",
              "    <tr>\n",
              "      <th>8</th>\n",
              "      <td>MX17004</td>\n",
              "      <td>2010</td>\n",
              "      <td>4</td>\n",
              "      <td>d27</td>\n",
              "      <td>36.3</td>\n",
              "      <td>16.7</td>\n",
              "    </tr>\n",
              "    <tr>\n",
              "      <th>9</th>\n",
              "      <td>MX17004</td>\n",
              "      <td>2010</td>\n",
              "      <td>5</td>\n",
              "      <td>d27</td>\n",
              "      <td>33.2</td>\n",
              "      <td>18.2</td>\n",
              "    </tr>\n",
              "    <tr>\n",
              "      <th>10</th>\n",
              "      <td>MX17004</td>\n",
              "      <td>2010</td>\n",
              "      <td>6</td>\n",
              "      <td>d17</td>\n",
              "      <td>28.0</td>\n",
              "      <td>17.5</td>\n",
              "    </tr>\n",
              "    <tr>\n",
              "      <th>11</th>\n",
              "      <td>MX17004</td>\n",
              "      <td>2010</td>\n",
              "      <td>6</td>\n",
              "      <td>d29</td>\n",
              "      <td>30.1</td>\n",
              "      <td>18.0</td>\n",
              "    </tr>\n",
              "    <tr>\n",
              "      <th>12</th>\n",
              "      <td>MX17004</td>\n",
              "      <td>2010</td>\n",
              "      <td>7</td>\n",
              "      <td>d3</td>\n",
              "      <td>28.6</td>\n",
              "      <td>17.5</td>\n",
              "    </tr>\n",
              "    <tr>\n",
              "      <th>13</th>\n",
              "      <td>MX17004</td>\n",
              "      <td>2010</td>\n",
              "      <td>7</td>\n",
              "      <td>d14</td>\n",
              "      <td>29.9</td>\n",
              "      <td>16.5</td>\n",
              "    </tr>\n",
              "    <tr>\n",
              "      <th>14</th>\n",
              "      <td>MX17004</td>\n",
              "      <td>2010</td>\n",
              "      <td>8</td>\n",
              "      <td>d23</td>\n",
              "      <td>26.4</td>\n",
              "      <td>15.0</td>\n",
              "    </tr>\n",
              "    <tr>\n",
              "      <th>15</th>\n",
              "      <td>MX17004</td>\n",
              "      <td>2010</td>\n",
              "      <td>8</td>\n",
              "      <td>d5</td>\n",
              "      <td>29.6</td>\n",
              "      <td>15.8</td>\n",
              "    </tr>\n",
              "    <tr>\n",
              "      <th>16</th>\n",
              "      <td>MX17004</td>\n",
              "      <td>2010</td>\n",
              "      <td>8</td>\n",
              "      <td>d29</td>\n",
              "      <td>28.0</td>\n",
              "      <td>15.3</td>\n",
              "    </tr>\n",
              "    <tr>\n",
              "      <th>17</th>\n",
              "      <td>MX17004</td>\n",
              "      <td>2010</td>\n",
              "      <td>8</td>\n",
              "      <td>d13</td>\n",
              "      <td>29.8</td>\n",
              "      <td>16.5</td>\n",
              "    </tr>\n",
              "    <tr>\n",
              "      <th>18</th>\n",
              "      <td>MX17004</td>\n",
              "      <td>2010</td>\n",
              "      <td>8</td>\n",
              "      <td>d25</td>\n",
              "      <td>29.7</td>\n",
              "      <td>15.6</td>\n",
              "    </tr>\n",
              "    <tr>\n",
              "      <th>19</th>\n",
              "      <td>MX17004</td>\n",
              "      <td>2010</td>\n",
              "      <td>8</td>\n",
              "      <td>d31</td>\n",
              "      <td>25.4</td>\n",
              "      <td>15.4</td>\n",
              "    </tr>\n",
              "    <tr>\n",
              "      <th>20</th>\n",
              "      <td>MX17004</td>\n",
              "      <td>2010</td>\n",
              "      <td>8</td>\n",
              "      <td>d8</td>\n",
              "      <td>29.0</td>\n",
              "      <td>17.3</td>\n",
              "    </tr>\n",
              "    <tr>\n",
              "      <th>21</th>\n",
              "      <td>MX17004</td>\n",
              "      <td>2010</td>\n",
              "      <td>10</td>\n",
              "      <td>d5</td>\n",
              "      <td>27.0</td>\n",
              "      <td>14.0</td>\n",
              "    </tr>\n",
              "    <tr>\n",
              "      <th>22</th>\n",
              "      <td>MX17004</td>\n",
              "      <td>2010</td>\n",
              "      <td>10</td>\n",
              "      <td>d14</td>\n",
              "      <td>29.5</td>\n",
              "      <td>13.0</td>\n",
              "    </tr>\n",
              "    <tr>\n",
              "      <th>23</th>\n",
              "      <td>MX17004</td>\n",
              "      <td>2010</td>\n",
              "      <td>10</td>\n",
              "      <td>d15</td>\n",
              "      <td>28.7</td>\n",
              "      <td>10.5</td>\n",
              "    </tr>\n",
              "    <tr>\n",
              "      <th>24</th>\n",
              "      <td>MX17004</td>\n",
              "      <td>2010</td>\n",
              "      <td>10</td>\n",
              "      <td>d28</td>\n",
              "      <td>31.2</td>\n",
              "      <td>15.0</td>\n",
              "    </tr>\n",
              "    <tr>\n",
              "      <th>25</th>\n",
              "      <td>MX17004</td>\n",
              "      <td>2010</td>\n",
              "      <td>10</td>\n",
              "      <td>d7</td>\n",
              "      <td>28.1</td>\n",
              "      <td>12.9</td>\n",
              "    </tr>\n",
              "    <tr>\n",
              "      <th>26</th>\n",
              "      <td>MX17004</td>\n",
              "      <td>2010</td>\n",
              "      <td>11</td>\n",
              "      <td>d2</td>\n",
              "      <td>31.3</td>\n",
              "      <td>16.3</td>\n",
              "    </tr>\n",
              "    <tr>\n",
              "      <th>27</th>\n",
              "      <td>MX17004</td>\n",
              "      <td>2010</td>\n",
              "      <td>11</td>\n",
              "      <td>d5</td>\n",
              "      <td>26.3</td>\n",
              "      <td>7.9</td>\n",
              "    </tr>\n",
              "    <tr>\n",
              "      <th>28</th>\n",
              "      <td>MX17004</td>\n",
              "      <td>2010</td>\n",
              "      <td>11</td>\n",
              "      <td>d27</td>\n",
              "      <td>27.7</td>\n",
              "      <td>14.2</td>\n",
              "    </tr>\n",
              "    <tr>\n",
              "      <th>29</th>\n",
              "      <td>MX17004</td>\n",
              "      <td>2010</td>\n",
              "      <td>11</td>\n",
              "      <td>d26</td>\n",
              "      <td>28.1</td>\n",
              "      <td>12.1</td>\n",
              "    </tr>\n",
              "    <tr>\n",
              "      <th>30</th>\n",
              "      <td>MX17004</td>\n",
              "      <td>2010</td>\n",
              "      <td>11</td>\n",
              "      <td>d4</td>\n",
              "      <td>27.2</td>\n",
              "      <td>12.0</td>\n",
              "    </tr>\n",
              "    <tr>\n",
              "      <th>31</th>\n",
              "      <td>MX17004</td>\n",
              "      <td>2010</td>\n",
              "      <td>12</td>\n",
              "      <td>d1</td>\n",
              "      <td>29.9</td>\n",
              "      <td>13.8</td>\n",
              "    </tr>\n",
              "    <tr>\n",
              "      <th>32</th>\n",
              "      <td>MX17004</td>\n",
              "      <td>2010</td>\n",
              "      <td>12</td>\n",
              "      <td>d6</td>\n",
              "      <td>27.8</td>\n",
              "      <td>10.5</td>\n",
              "    </tr>\n",
              "  </tbody>\n",
              "</table>\n",
              "</div>"
            ],
            "text/plain": [
              "element       id  year  month  day  tmax  tmin\n",
              "0        MX17004  2010      1  d30  27.8  14.5\n",
              "1        MX17004  2010      2  d11  29.7  13.4\n",
              "2        MX17004  2010      2   d2  27.3  14.4\n",
              "3        MX17004  2010      2  d23  29.9  10.7\n",
              "4        MX17004  2010      2   d3  24.1  14.4\n",
              "5        MX17004  2010      3  d10  34.5  16.8\n",
              "6        MX17004  2010      3  d16  31.1  17.6\n",
              "7        MX17004  2010      3   d5  32.1  14.2\n",
              "8        MX17004  2010      4  d27  36.3  16.7\n",
              "9        MX17004  2010      5  d27  33.2  18.2\n",
              "10       MX17004  2010      6  d17  28.0  17.5\n",
              "11       MX17004  2010      6  d29  30.1  18.0\n",
              "12       MX17004  2010      7   d3  28.6  17.5\n",
              "13       MX17004  2010      7  d14  29.9  16.5\n",
              "14       MX17004  2010      8  d23  26.4  15.0\n",
              "15       MX17004  2010      8   d5  29.6  15.8\n",
              "16       MX17004  2010      8  d29  28.0  15.3\n",
              "17       MX17004  2010      8  d13  29.8  16.5\n",
              "18       MX17004  2010      8  d25  29.7  15.6\n",
              "19       MX17004  2010      8  d31  25.4  15.4\n",
              "20       MX17004  2010      8   d8  29.0  17.3\n",
              "21       MX17004  2010     10   d5  27.0  14.0\n",
              "22       MX17004  2010     10  d14  29.5  13.0\n",
              "23       MX17004  2010     10  d15  28.7  10.5\n",
              "24       MX17004  2010     10  d28  31.2  15.0\n",
              "25       MX17004  2010     10   d7  28.1  12.9\n",
              "26       MX17004  2010     11   d2  31.3  16.3\n",
              "27       MX17004  2010     11   d5  26.3   7.9\n",
              "28       MX17004  2010     11  d27  27.7  14.2\n",
              "29       MX17004  2010     11  d26  28.1  12.1\n",
              "30       MX17004  2010     11   d4  27.2  12.0\n",
              "31       MX17004  2010     12   d1  29.9  13.8\n",
              "32       MX17004  2010     12   d6  27.8  10.5"
            ]
          },
          "metadata": {
            "tags": []
          },
          "execution_count": 70
        }
      ]
    },
    {
      "cell_type": "code",
      "metadata": {
        "colab": {
          "base_uri": "https://localhost:8080/",
          "height": 419
        },
        "id": "XIlfAx8psoGb",
        "outputId": "dcc33efb-cb81-4af8-b5df-e348c0091b3b"
      },
      "source": [
        "# Multiple tables or muptiple units stored \n",
        "\n",
        "billboard_melt.loc[billboard_melt['track']=='Loser']"
      ],
      "execution_count": 71,
      "outputs": [
        {
          "output_type": "execute_result",
          "data": {
            "text/html": [
              "<div>\n",
              "<style scoped>\n",
              "    .dataframe tbody tr th:only-of-type {\n",
              "        vertical-align: middle;\n",
              "    }\n",
              "\n",
              "    .dataframe tbody tr th {\n",
              "        vertical-align: top;\n",
              "    }\n",
              "\n",
              "    .dataframe thead th {\n",
              "        text-align: right;\n",
              "    }\n",
              "</style>\n",
              "<table border=\"1\" class=\"dataframe\">\n",
              "  <thead>\n",
              "    <tr style=\"text-align: right;\">\n",
              "      <th></th>\n",
              "      <th>year</th>\n",
              "      <th>artist</th>\n",
              "      <th>track</th>\n",
              "      <th>time</th>\n",
              "      <th>date.entered</th>\n",
              "      <th>week</th>\n",
              "      <th>rating</th>\n",
              "    </tr>\n",
              "  </thead>\n",
              "  <tbody>\n",
              "    <tr>\n",
              "      <th>3</th>\n",
              "      <td>2000</td>\n",
              "      <td>3 Doors Down</td>\n",
              "      <td>Loser</td>\n",
              "      <td>4:24</td>\n",
              "      <td>2000-10-21</td>\n",
              "      <td>wk1</td>\n",
              "      <td>76.0</td>\n",
              "    </tr>\n",
              "    <tr>\n",
              "      <th>320</th>\n",
              "      <td>2000</td>\n",
              "      <td>3 Doors Down</td>\n",
              "      <td>Loser</td>\n",
              "      <td>4:24</td>\n",
              "      <td>2000-10-21</td>\n",
              "      <td>wk2</td>\n",
              "      <td>76.0</td>\n",
              "    </tr>\n",
              "    <tr>\n",
              "      <th>637</th>\n",
              "      <td>2000</td>\n",
              "      <td>3 Doors Down</td>\n",
              "      <td>Loser</td>\n",
              "      <td>4:24</td>\n",
              "      <td>2000-10-21</td>\n",
              "      <td>wk3</td>\n",
              "      <td>72.0</td>\n",
              "    </tr>\n",
              "    <tr>\n",
              "      <th>954</th>\n",
              "      <td>2000</td>\n",
              "      <td>3 Doors Down</td>\n",
              "      <td>Loser</td>\n",
              "      <td>4:24</td>\n",
              "      <td>2000-10-21</td>\n",
              "      <td>wk4</td>\n",
              "      <td>69.0</td>\n",
              "    </tr>\n",
              "    <tr>\n",
              "      <th>1271</th>\n",
              "      <td>2000</td>\n",
              "      <td>3 Doors Down</td>\n",
              "      <td>Loser</td>\n",
              "      <td>4:24</td>\n",
              "      <td>2000-10-21</td>\n",
              "      <td>wk5</td>\n",
              "      <td>67.0</td>\n",
              "    </tr>\n",
              "    <tr>\n",
              "      <th>...</th>\n",
              "      <td>...</td>\n",
              "      <td>...</td>\n",
              "      <td>...</td>\n",
              "      <td>...</td>\n",
              "      <td>...</td>\n",
              "      <td>...</td>\n",
              "      <td>...</td>\n",
              "    </tr>\n",
              "    <tr>\n",
              "      <th>22510</th>\n",
              "      <td>2000</td>\n",
              "      <td>3 Doors Down</td>\n",
              "      <td>Loser</td>\n",
              "      <td>4:24</td>\n",
              "      <td>2000-10-21</td>\n",
              "      <td>wk72</td>\n",
              "      <td>NaN</td>\n",
              "    </tr>\n",
              "    <tr>\n",
              "      <th>22827</th>\n",
              "      <td>2000</td>\n",
              "      <td>3 Doors Down</td>\n",
              "      <td>Loser</td>\n",
              "      <td>4:24</td>\n",
              "      <td>2000-10-21</td>\n",
              "      <td>wk73</td>\n",
              "      <td>NaN</td>\n",
              "    </tr>\n",
              "    <tr>\n",
              "      <th>23144</th>\n",
              "      <td>2000</td>\n",
              "      <td>3 Doors Down</td>\n",
              "      <td>Loser</td>\n",
              "      <td>4:24</td>\n",
              "      <td>2000-10-21</td>\n",
              "      <td>wk74</td>\n",
              "      <td>NaN</td>\n",
              "    </tr>\n",
              "    <tr>\n",
              "      <th>23461</th>\n",
              "      <td>2000</td>\n",
              "      <td>3 Doors Down</td>\n",
              "      <td>Loser</td>\n",
              "      <td>4:24</td>\n",
              "      <td>2000-10-21</td>\n",
              "      <td>wk75</td>\n",
              "      <td>NaN</td>\n",
              "    </tr>\n",
              "    <tr>\n",
              "      <th>23778</th>\n",
              "      <td>2000</td>\n",
              "      <td>3 Doors Down</td>\n",
              "      <td>Loser</td>\n",
              "      <td>4:24</td>\n",
              "      <td>2000-10-21</td>\n",
              "      <td>wk76</td>\n",
              "      <td>NaN</td>\n",
              "    </tr>\n",
              "  </tbody>\n",
              "</table>\n",
              "<p>76 rows × 7 columns</p>\n",
              "</div>"
            ],
            "text/plain": [
              "       year        artist  track  time date.entered  week  rating\n",
              "3      2000  3 Doors Down  Loser  4:24   2000-10-21   wk1    76.0\n",
              "320    2000  3 Doors Down  Loser  4:24   2000-10-21   wk2    76.0\n",
              "637    2000  3 Doors Down  Loser  4:24   2000-10-21   wk3    72.0\n",
              "954    2000  3 Doors Down  Loser  4:24   2000-10-21   wk4    69.0\n",
              "1271   2000  3 Doors Down  Loser  4:24   2000-10-21   wk5    67.0\n",
              "...     ...           ...    ...   ...          ...   ...     ...\n",
              "22510  2000  3 Doors Down  Loser  4:24   2000-10-21  wk72     NaN\n",
              "22827  2000  3 Doors Down  Loser  4:24   2000-10-21  wk73     NaN\n",
              "23144  2000  3 Doors Down  Loser  4:24   2000-10-21  wk74     NaN\n",
              "23461  2000  3 Doors Down  Loser  4:24   2000-10-21  wk75     NaN\n",
              "23778  2000  3 Doors Down  Loser  4:24   2000-10-21  wk76     NaN\n",
              "\n",
              "[76 rows x 7 columns]"
            ]
          },
          "metadata": {
            "tags": []
          },
          "execution_count": 71
        }
      ]
    },
    {
      "cell_type": "code",
      "metadata": {
        "id": "_BJNK-QAtCmp"
      },
      "source": [
        "# repeated values to be dropped\n",
        "\n",
        "billboard_songs = billboard_melt[['year','artist','track','time']]"
      ],
      "execution_count": 72,
      "outputs": []
    },
    {
      "cell_type": "code",
      "metadata": {
        "colab": {
          "base_uri": "https://localhost:8080/",
          "height": 204
        },
        "id": "xJjw7WUPtPey",
        "outputId": "807e8160-6179-4cb7-d4a2-2c09652be05f"
      },
      "source": [
        "billboard_songs.head()"
      ],
      "execution_count": 73,
      "outputs": [
        {
          "output_type": "execute_result",
          "data": {
            "text/html": [
              "<div>\n",
              "<style scoped>\n",
              "    .dataframe tbody tr th:only-of-type {\n",
              "        vertical-align: middle;\n",
              "    }\n",
              "\n",
              "    .dataframe tbody tr th {\n",
              "        vertical-align: top;\n",
              "    }\n",
              "\n",
              "    .dataframe thead th {\n",
              "        text-align: right;\n",
              "    }\n",
              "</style>\n",
              "<table border=\"1\" class=\"dataframe\">\n",
              "  <thead>\n",
              "    <tr style=\"text-align: right;\">\n",
              "      <th></th>\n",
              "      <th>year</th>\n",
              "      <th>artist</th>\n",
              "      <th>track</th>\n",
              "      <th>time</th>\n",
              "    </tr>\n",
              "  </thead>\n",
              "  <tbody>\n",
              "    <tr>\n",
              "      <th>0</th>\n",
              "      <td>2000</td>\n",
              "      <td>2 Pac</td>\n",
              "      <td>Baby Don't Cry (Keep...</td>\n",
              "      <td>4:22</td>\n",
              "    </tr>\n",
              "    <tr>\n",
              "      <th>1</th>\n",
              "      <td>2000</td>\n",
              "      <td>2Ge+her</td>\n",
              "      <td>The Hardest Part Of ...</td>\n",
              "      <td>3:15</td>\n",
              "    </tr>\n",
              "    <tr>\n",
              "      <th>2</th>\n",
              "      <td>2000</td>\n",
              "      <td>3 Doors Down</td>\n",
              "      <td>Kryptonite</td>\n",
              "      <td>3:53</td>\n",
              "    </tr>\n",
              "    <tr>\n",
              "      <th>3</th>\n",
              "      <td>2000</td>\n",
              "      <td>3 Doors Down</td>\n",
              "      <td>Loser</td>\n",
              "      <td>4:24</td>\n",
              "    </tr>\n",
              "    <tr>\n",
              "      <th>4</th>\n",
              "      <td>2000</td>\n",
              "      <td>504 Boyz</td>\n",
              "      <td>Wobble Wobble</td>\n",
              "      <td>3:35</td>\n",
              "    </tr>\n",
              "  </tbody>\n",
              "</table>\n",
              "</div>"
            ],
            "text/plain": [
              "   year        artist                    track  time\n",
              "0  2000         2 Pac  Baby Don't Cry (Keep...  4:22\n",
              "1  2000       2Ge+her  The Hardest Part Of ...  3:15\n",
              "2  2000  3 Doors Down               Kryptonite  3:53\n",
              "3  2000  3 Doors Down                    Loser  4:24\n",
              "4  2000      504 Boyz            Wobble Wobble  3:35"
            ]
          },
          "metadata": {
            "tags": []
          },
          "execution_count": 73
        }
      ]
    },
    {
      "cell_type": "code",
      "metadata": {
        "colab": {
          "base_uri": "https://localhost:8080/"
        },
        "id": "I3se7ESGtTjR",
        "outputId": "c6971f05-ab73-4285-d99c-c95e232199e8"
      },
      "source": [
        "billboard_songs.shape"
      ],
      "execution_count": 74,
      "outputs": [
        {
          "output_type": "execute_result",
          "data": {
            "text/plain": [
              "(24092, 4)"
            ]
          },
          "metadata": {
            "tags": []
          },
          "execution_count": 74
        }
      ]
    },
    {
      "cell_type": "code",
      "metadata": {
        "colab": {
          "base_uri": "https://localhost:8080/"
        },
        "id": "2OpSZd7xtVfv",
        "outputId": "5479753a-a41b-4f6b-bc13-6f16ee0f598a"
      },
      "source": [
        "billboard_songs = billboard_songs.drop_duplicates() # for data storage\n",
        "\n",
        "billboard_songs.shape"
      ],
      "execution_count": 75,
      "outputs": [
        {
          "output_type": "execute_result",
          "data": {
            "text/plain": [
              "(317, 4)"
            ]
          },
          "metadata": {
            "tags": []
          },
          "execution_count": 75
        }
      ]
    },
    {
      "cell_type": "code",
      "metadata": {
        "colab": {
          "base_uri": "https://localhost:8080/",
          "height": 204
        },
        "id": "eDxTBDuQts2C",
        "outputId": "ca9df96b-97e9-4c28-e9ee-3a4df3eb3a6a"
      },
      "source": [
        "billboard_songs['id']= range(len(billboard_songs))\n",
        "\n",
        "billboard_songs.head()"
      ],
      "execution_count": 76,
      "outputs": [
        {
          "output_type": "execute_result",
          "data": {
            "text/html": [
              "<div>\n",
              "<style scoped>\n",
              "    .dataframe tbody tr th:only-of-type {\n",
              "        vertical-align: middle;\n",
              "    }\n",
              "\n",
              "    .dataframe tbody tr th {\n",
              "        vertical-align: top;\n",
              "    }\n",
              "\n",
              "    .dataframe thead th {\n",
              "        text-align: right;\n",
              "    }\n",
              "</style>\n",
              "<table border=\"1\" class=\"dataframe\">\n",
              "  <thead>\n",
              "    <tr style=\"text-align: right;\">\n",
              "      <th></th>\n",
              "      <th>year</th>\n",
              "      <th>artist</th>\n",
              "      <th>track</th>\n",
              "      <th>time</th>\n",
              "      <th>id</th>\n",
              "    </tr>\n",
              "  </thead>\n",
              "  <tbody>\n",
              "    <tr>\n",
              "      <th>0</th>\n",
              "      <td>2000</td>\n",
              "      <td>2 Pac</td>\n",
              "      <td>Baby Don't Cry (Keep...</td>\n",
              "      <td>4:22</td>\n",
              "      <td>0</td>\n",
              "    </tr>\n",
              "    <tr>\n",
              "      <th>1</th>\n",
              "      <td>2000</td>\n",
              "      <td>2Ge+her</td>\n",
              "      <td>The Hardest Part Of ...</td>\n",
              "      <td>3:15</td>\n",
              "      <td>1</td>\n",
              "    </tr>\n",
              "    <tr>\n",
              "      <th>2</th>\n",
              "      <td>2000</td>\n",
              "      <td>3 Doors Down</td>\n",
              "      <td>Kryptonite</td>\n",
              "      <td>3:53</td>\n",
              "      <td>2</td>\n",
              "    </tr>\n",
              "    <tr>\n",
              "      <th>3</th>\n",
              "      <td>2000</td>\n",
              "      <td>3 Doors Down</td>\n",
              "      <td>Loser</td>\n",
              "      <td>4:24</td>\n",
              "      <td>3</td>\n",
              "    </tr>\n",
              "    <tr>\n",
              "      <th>4</th>\n",
              "      <td>2000</td>\n",
              "      <td>504 Boyz</td>\n",
              "      <td>Wobble Wobble</td>\n",
              "      <td>3:35</td>\n",
              "      <td>4</td>\n",
              "    </tr>\n",
              "  </tbody>\n",
              "</table>\n",
              "</div>"
            ],
            "text/plain": [
              "   year        artist                    track  time  id\n",
              "0  2000         2 Pac  Baby Don't Cry (Keep...  4:22   0\n",
              "1  2000       2Ge+her  The Hardest Part Of ...  3:15   1\n",
              "2  2000  3 Doors Down               Kryptonite  3:53   2\n",
              "3  2000  3 Doors Down                    Loser  4:24   3\n",
              "4  2000      504 Boyz            Wobble Wobble  3:35   4"
            ]
          },
          "metadata": {
            "tags": []
          },
          "execution_count": 76
        }
      ]
    },
    {
      "cell_type": "code",
      "metadata": {
        "id": "FRQA1x6ht9I4"
      },
      "source": [
        "billboard_songs.to_csv('billboard_songs.csv', index=False)"
      ],
      "execution_count": 77,
      "outputs": []
    },
    {
      "cell_type": "code",
      "metadata": {
        "id": "3JQz7yGduJv1"
      },
      "source": [
        "# Joining tables together\n",
        "\n",
        "billboard_ratings = billboard_melt.merge(\n",
        "    billboard_songs, on=['year','artist','track','time']\n",
        ")"
      ],
      "execution_count": 78,
      "outputs": []
    },
    {
      "cell_type": "code",
      "metadata": {
        "colab": {
          "base_uri": "https://localhost:8080/",
          "height": 204
        },
        "id": "ODgLG_tjumqR",
        "outputId": "cb947269-c450-4b80-b272-e9b4956f082f"
      },
      "source": [
        "billboard_ratings.head()"
      ],
      "execution_count": 79,
      "outputs": [
        {
          "output_type": "execute_result",
          "data": {
            "text/html": [
              "<div>\n",
              "<style scoped>\n",
              "    .dataframe tbody tr th:only-of-type {\n",
              "        vertical-align: middle;\n",
              "    }\n",
              "\n",
              "    .dataframe tbody tr th {\n",
              "        vertical-align: top;\n",
              "    }\n",
              "\n",
              "    .dataframe thead th {\n",
              "        text-align: right;\n",
              "    }\n",
              "</style>\n",
              "<table border=\"1\" class=\"dataframe\">\n",
              "  <thead>\n",
              "    <tr style=\"text-align: right;\">\n",
              "      <th></th>\n",
              "      <th>year</th>\n",
              "      <th>artist</th>\n",
              "      <th>track</th>\n",
              "      <th>time</th>\n",
              "      <th>date.entered</th>\n",
              "      <th>week</th>\n",
              "      <th>rating</th>\n",
              "      <th>id</th>\n",
              "    </tr>\n",
              "  </thead>\n",
              "  <tbody>\n",
              "    <tr>\n",
              "      <th>0</th>\n",
              "      <td>2000</td>\n",
              "      <td>2 Pac</td>\n",
              "      <td>Baby Don't Cry (Keep...</td>\n",
              "      <td>4:22</td>\n",
              "      <td>2000-02-26</td>\n",
              "      <td>wk1</td>\n",
              "      <td>87.0</td>\n",
              "      <td>0</td>\n",
              "    </tr>\n",
              "    <tr>\n",
              "      <th>1</th>\n",
              "      <td>2000</td>\n",
              "      <td>2 Pac</td>\n",
              "      <td>Baby Don't Cry (Keep...</td>\n",
              "      <td>4:22</td>\n",
              "      <td>2000-02-26</td>\n",
              "      <td>wk2</td>\n",
              "      <td>82.0</td>\n",
              "      <td>0</td>\n",
              "    </tr>\n",
              "    <tr>\n",
              "      <th>2</th>\n",
              "      <td>2000</td>\n",
              "      <td>2 Pac</td>\n",
              "      <td>Baby Don't Cry (Keep...</td>\n",
              "      <td>4:22</td>\n",
              "      <td>2000-02-26</td>\n",
              "      <td>wk3</td>\n",
              "      <td>72.0</td>\n",
              "      <td>0</td>\n",
              "    </tr>\n",
              "    <tr>\n",
              "      <th>3</th>\n",
              "      <td>2000</td>\n",
              "      <td>2 Pac</td>\n",
              "      <td>Baby Don't Cry (Keep...</td>\n",
              "      <td>4:22</td>\n",
              "      <td>2000-02-26</td>\n",
              "      <td>wk4</td>\n",
              "      <td>77.0</td>\n",
              "      <td>0</td>\n",
              "    </tr>\n",
              "    <tr>\n",
              "      <th>4</th>\n",
              "      <td>2000</td>\n",
              "      <td>2 Pac</td>\n",
              "      <td>Baby Don't Cry (Keep...</td>\n",
              "      <td>4:22</td>\n",
              "      <td>2000-02-26</td>\n",
              "      <td>wk5</td>\n",
              "      <td>87.0</td>\n",
              "      <td>0</td>\n",
              "    </tr>\n",
              "  </tbody>\n",
              "</table>\n",
              "</div>"
            ],
            "text/plain": [
              "   year artist                    track  time date.entered week  rating  id\n",
              "0  2000  2 Pac  Baby Don't Cry (Keep...  4:22   2000-02-26  wk1    87.0   0\n",
              "1  2000  2 Pac  Baby Don't Cry (Keep...  4:22   2000-02-26  wk2    82.0   0\n",
              "2  2000  2 Pac  Baby Don't Cry (Keep...  4:22   2000-02-26  wk3    72.0   0\n",
              "3  2000  2 Pac  Baby Don't Cry (Keep...  4:22   2000-02-26  wk4    77.0   0\n",
              "4  2000  2 Pac  Baby Don't Cry (Keep...  4:22   2000-02-26  wk5    87.0   0"
            ]
          },
          "metadata": {
            "tags": []
          },
          "execution_count": 79
        }
      ]
    },
    {
      "cell_type": "code",
      "metadata": {
        "id": "YQ16oCNxuqpz"
      },
      "source": [
        "billboard_ratings = billboard_ratings[['id','date.entered','week','rating']]"
      ],
      "execution_count": 80,
      "outputs": []
    },
    {
      "cell_type": "code",
      "metadata": {
        "colab": {
          "base_uri": "https://localhost:8080/",
          "height": 204
        },
        "id": "0q9YS2bzu0MM",
        "outputId": "d9c35fae-91bf-45ff-b7f4-20c9c655e456"
      },
      "source": [
        "billboard_ratings.head()"
      ],
      "execution_count": 81,
      "outputs": [
        {
          "output_type": "execute_result",
          "data": {
            "text/html": [
              "<div>\n",
              "<style scoped>\n",
              "    .dataframe tbody tr th:only-of-type {\n",
              "        vertical-align: middle;\n",
              "    }\n",
              "\n",
              "    .dataframe tbody tr th {\n",
              "        vertical-align: top;\n",
              "    }\n",
              "\n",
              "    .dataframe thead th {\n",
              "        text-align: right;\n",
              "    }\n",
              "</style>\n",
              "<table border=\"1\" class=\"dataframe\">\n",
              "  <thead>\n",
              "    <tr style=\"text-align: right;\">\n",
              "      <th></th>\n",
              "      <th>id</th>\n",
              "      <th>date.entered</th>\n",
              "      <th>week</th>\n",
              "      <th>rating</th>\n",
              "    </tr>\n",
              "  </thead>\n",
              "  <tbody>\n",
              "    <tr>\n",
              "      <th>0</th>\n",
              "      <td>0</td>\n",
              "      <td>2000-02-26</td>\n",
              "      <td>wk1</td>\n",
              "      <td>87.0</td>\n",
              "    </tr>\n",
              "    <tr>\n",
              "      <th>1</th>\n",
              "      <td>0</td>\n",
              "      <td>2000-02-26</td>\n",
              "      <td>wk2</td>\n",
              "      <td>82.0</td>\n",
              "    </tr>\n",
              "    <tr>\n",
              "      <th>2</th>\n",
              "      <td>0</td>\n",
              "      <td>2000-02-26</td>\n",
              "      <td>wk3</td>\n",
              "      <td>72.0</td>\n",
              "    </tr>\n",
              "    <tr>\n",
              "      <th>3</th>\n",
              "      <td>0</td>\n",
              "      <td>2000-02-26</td>\n",
              "      <td>wk4</td>\n",
              "      <td>77.0</td>\n",
              "    </tr>\n",
              "    <tr>\n",
              "      <th>4</th>\n",
              "      <td>0</td>\n",
              "      <td>2000-02-26</td>\n",
              "      <td>wk5</td>\n",
              "      <td>87.0</td>\n",
              "    </tr>\n",
              "  </tbody>\n",
              "</table>\n",
              "</div>"
            ],
            "text/plain": [
              "   id date.entered week  rating\n",
              "0   0   2000-02-26  wk1    87.0\n",
              "1   0   2000-02-26  wk2    82.0\n",
              "2   0   2000-02-26  wk3    72.0\n",
              "3   0   2000-02-26  wk4    77.0\n",
              "4   0   2000-02-26  wk5    87.0"
            ]
          },
          "metadata": {
            "tags": []
          },
          "execution_count": 81
        }
      ]
    },
    {
      "cell_type": "code",
      "metadata": {
        "colab": {
          "base_uri": "https://localhost:8080/",
          "height": 979
        },
        "id": "msOFe_w3u3z8",
        "outputId": "cdba8694-ecb3-45e7-ffdc-06eb6a4fe5fd"
      },
      "source": [
        "billboard_ratings.sample(30)"
      ],
      "execution_count": 82,
      "outputs": [
        {
          "output_type": "execute_result",
          "data": {
            "text/html": [
              "<div>\n",
              "<style scoped>\n",
              "    .dataframe tbody tr th:only-of-type {\n",
              "        vertical-align: middle;\n",
              "    }\n",
              "\n",
              "    .dataframe tbody tr th {\n",
              "        vertical-align: top;\n",
              "    }\n",
              "\n",
              "    .dataframe thead th {\n",
              "        text-align: right;\n",
              "    }\n",
              "</style>\n",
              "<table border=\"1\" class=\"dataframe\">\n",
              "  <thead>\n",
              "    <tr style=\"text-align: right;\">\n",
              "      <th></th>\n",
              "      <th>id</th>\n",
              "      <th>date.entered</th>\n",
              "      <th>week</th>\n",
              "      <th>rating</th>\n",
              "    </tr>\n",
              "  </thead>\n",
              "  <tbody>\n",
              "    <tr>\n",
              "      <th>10746</th>\n",
              "      <td>141</td>\n",
              "      <td>2000-05-06</td>\n",
              "      <td>wk31</td>\n",
              "      <td>NaN</td>\n",
              "    </tr>\n",
              "    <tr>\n",
              "      <th>7956</th>\n",
              "      <td>104</td>\n",
              "      <td>1999-10-16</td>\n",
              "      <td>wk53</td>\n",
              "      <td>NaN</td>\n",
              "    </tr>\n",
              "    <tr>\n",
              "      <th>6308</th>\n",
              "      <td>83</td>\n",
              "      <td>2000-10-07</td>\n",
              "      <td>wk1</td>\n",
              "      <td>80.0</td>\n",
              "    </tr>\n",
              "    <tr>\n",
              "      <th>17539</th>\n",
              "      <td>230</td>\n",
              "      <td>2000-10-14</td>\n",
              "      <td>wk60</td>\n",
              "      <td>NaN</td>\n",
              "    </tr>\n",
              "    <tr>\n",
              "      <th>4102</th>\n",
              "      <td>53</td>\n",
              "      <td>2000-08-26</td>\n",
              "      <td>wk75</td>\n",
              "      <td>NaN</td>\n",
              "    </tr>\n",
              "    <tr>\n",
              "      <th>4299</th>\n",
              "      <td>56</td>\n",
              "      <td>2000-10-21</td>\n",
              "      <td>wk44</td>\n",
              "      <td>NaN</td>\n",
              "    </tr>\n",
              "    <tr>\n",
              "      <th>10226</th>\n",
              "      <td>134</td>\n",
              "      <td>1999-12-04</td>\n",
              "      <td>wk43</td>\n",
              "      <td>NaN</td>\n",
              "    </tr>\n",
              "    <tr>\n",
              "      <th>13501</th>\n",
              "      <td>177</td>\n",
              "      <td>1999-12-04</td>\n",
              "      <td>wk50</td>\n",
              "      <td>NaN</td>\n",
              "    </tr>\n",
              "    <tr>\n",
              "      <th>15577</th>\n",
              "      <td>204</td>\n",
              "      <td>2000-02-26</td>\n",
              "      <td>wk74</td>\n",
              "      <td>NaN</td>\n",
              "    </tr>\n",
              "    <tr>\n",
              "      <th>5110</th>\n",
              "      <td>67</td>\n",
              "      <td>2000-02-26</td>\n",
              "      <td>wk19</td>\n",
              "      <td>44.0</td>\n",
              "    </tr>\n",
              "    <tr>\n",
              "      <th>22026</th>\n",
              "      <td>289</td>\n",
              "      <td>2000-09-23</td>\n",
              "      <td>wk63</td>\n",
              "      <td>NaN</td>\n",
              "    </tr>\n",
              "    <tr>\n",
              "      <th>22747</th>\n",
              "      <td>299</td>\n",
              "      <td>2000-09-30</td>\n",
              "      <td>wk24</td>\n",
              "      <td>NaN</td>\n",
              "    </tr>\n",
              "    <tr>\n",
              "      <th>4136</th>\n",
              "      <td>54</td>\n",
              "      <td>2000-06-24</td>\n",
              "      <td>wk33</td>\n",
              "      <td>NaN</td>\n",
              "    </tr>\n",
              "    <tr>\n",
              "      <th>4653</th>\n",
              "      <td>61</td>\n",
              "      <td>1999-11-06</td>\n",
              "      <td>wk18</td>\n",
              "      <td>59.0</td>\n",
              "    </tr>\n",
              "    <tr>\n",
              "      <th>21039</th>\n",
              "      <td>276</td>\n",
              "      <td>2000-05-13</td>\n",
              "      <td>wk64</td>\n",
              "      <td>NaN</td>\n",
              "    </tr>\n",
              "    <tr>\n",
              "      <th>731</th>\n",
              "      <td>9</td>\n",
              "      <td>2000-08-26</td>\n",
              "      <td>wk48</td>\n",
              "      <td>NaN</td>\n",
              "    </tr>\n",
              "    <tr>\n",
              "      <th>10907</th>\n",
              "      <td>143</td>\n",
              "      <td>2000-02-26</td>\n",
              "      <td>wk40</td>\n",
              "      <td>NaN</td>\n",
              "    </tr>\n",
              "    <tr>\n",
              "      <th>9939</th>\n",
              "      <td>130</td>\n",
              "      <td>1999-10-09</td>\n",
              "      <td>wk60</td>\n",
              "      <td>NaN</td>\n",
              "    </tr>\n",
              "    <tr>\n",
              "      <th>2485</th>\n",
              "      <td>32</td>\n",
              "      <td>2000-04-22</td>\n",
              "      <td>wk54</td>\n",
              "      <td>NaN</td>\n",
              "    </tr>\n",
              "    <tr>\n",
              "      <th>2108</th>\n",
              "      <td>27</td>\n",
              "      <td>2000-07-22</td>\n",
              "      <td>wk57</td>\n",
              "      <td>NaN</td>\n",
              "    </tr>\n",
              "    <tr>\n",
              "      <th>20700</th>\n",
              "      <td>272</td>\n",
              "      <td>2000-08-12</td>\n",
              "      <td>wk29</td>\n",
              "      <td>NaN</td>\n",
              "    </tr>\n",
              "    <tr>\n",
              "      <th>15852</th>\n",
              "      <td>208</td>\n",
              "      <td>2000-02-12</td>\n",
              "      <td>wk45</td>\n",
              "      <td>NaN</td>\n",
              "    </tr>\n",
              "    <tr>\n",
              "      <th>23804</th>\n",
              "      <td>313</td>\n",
              "      <td>2000-04-01</td>\n",
              "      <td>wk17</td>\n",
              "      <td>NaN</td>\n",
              "    </tr>\n",
              "    <tr>\n",
              "      <th>16489</th>\n",
              "      <td>216</td>\n",
              "      <td>2000-04-15</td>\n",
              "      <td>wk74</td>\n",
              "      <td>NaN</td>\n",
              "    </tr>\n",
              "    <tr>\n",
              "      <th>23700</th>\n",
              "      <td>311</td>\n",
              "      <td>2000-03-04</td>\n",
              "      <td>wk65</td>\n",
              "      <td>NaN</td>\n",
              "    </tr>\n",
              "    <tr>\n",
              "      <th>6524</th>\n",
              "      <td>85</td>\n",
              "      <td>2000-05-27</td>\n",
              "      <td>wk65</td>\n",
              "      <td>NaN</td>\n",
              "    </tr>\n",
              "    <tr>\n",
              "      <th>23663</th>\n",
              "      <td>311</td>\n",
              "      <td>2000-03-04</td>\n",
              "      <td>wk28</td>\n",
              "      <td>NaN</td>\n",
              "    </tr>\n",
              "    <tr>\n",
              "      <th>8411</th>\n",
              "      <td>110</td>\n",
              "      <td>1999-12-11</td>\n",
              "      <td>wk52</td>\n",
              "      <td>NaN</td>\n",
              "    </tr>\n",
              "    <tr>\n",
              "      <th>18611</th>\n",
              "      <td>244</td>\n",
              "      <td>2000-07-29</td>\n",
              "      <td>wk68</td>\n",
              "      <td>NaN</td>\n",
              "    </tr>\n",
              "    <tr>\n",
              "      <th>6160</th>\n",
              "      <td>81</td>\n",
              "      <td>1999-11-27</td>\n",
              "      <td>wk5</td>\n",
              "      <td>52.0</td>\n",
              "    </tr>\n",
              "  </tbody>\n",
              "</table>\n",
              "</div>"
            ],
            "text/plain": [
              "        id date.entered  week  rating\n",
              "10746  141   2000-05-06  wk31     NaN\n",
              "7956   104   1999-10-16  wk53     NaN\n",
              "6308    83   2000-10-07   wk1    80.0\n",
              "17539  230   2000-10-14  wk60     NaN\n",
              "4102    53   2000-08-26  wk75     NaN\n",
              "4299    56   2000-10-21  wk44     NaN\n",
              "10226  134   1999-12-04  wk43     NaN\n",
              "13501  177   1999-12-04  wk50     NaN\n",
              "15577  204   2000-02-26  wk74     NaN\n",
              "5110    67   2000-02-26  wk19    44.0\n",
              "22026  289   2000-09-23  wk63     NaN\n",
              "22747  299   2000-09-30  wk24     NaN\n",
              "4136    54   2000-06-24  wk33     NaN\n",
              "4653    61   1999-11-06  wk18    59.0\n",
              "21039  276   2000-05-13  wk64     NaN\n",
              "731      9   2000-08-26  wk48     NaN\n",
              "10907  143   2000-02-26  wk40     NaN\n",
              "9939   130   1999-10-09  wk60     NaN\n",
              "2485    32   2000-04-22  wk54     NaN\n",
              "2108    27   2000-07-22  wk57     NaN\n",
              "20700  272   2000-08-12  wk29     NaN\n",
              "15852  208   2000-02-12  wk45     NaN\n",
              "23804  313   2000-04-01  wk17     NaN\n",
              "16489  216   2000-04-15  wk74     NaN\n",
              "23700  311   2000-03-04  wk65     NaN\n",
              "6524    85   2000-05-27  wk65     NaN\n",
              "23663  311   2000-03-04  wk28     NaN\n",
              "8411   110   1999-12-11  wk52     NaN\n",
              "18611  244   2000-07-29  wk68     NaN\n",
              "6160    81   1999-11-27   wk5    52.0"
            ]
          },
          "metadata": {
            "tags": []
          },
          "execution_count": 82
        }
      ]
    },
    {
      "cell_type": "code",
      "metadata": {
        "id": "KRZyPPkVu8Ku"
      },
      "source": [
        "billboard_ratings.to_csv('billboard_ratings.csv', index = False) "
      ],
      "execution_count": 83,
      "outputs": []
    },
    {
      "cell_type": "code",
      "metadata": {
        "colab": {
          "base_uri": "https://localhost:8080/"
        },
        "id": "lkIyQ4_rvIuB",
        "outputId": "973eb013-64e3-4836-f0aa-b7bf99c04af3"
      },
      "source": [
        "billboard_ratings.info()"
      ],
      "execution_count": 84,
      "outputs": [
        {
          "output_type": "stream",
          "text": [
            "<class 'pandas.core.frame.DataFrame'>\n",
            "Int64Index: 24092 entries, 0 to 24091\n",
            "Data columns (total 4 columns):\n",
            " #   Column        Non-Null Count  Dtype  \n",
            "---  ------        --------------  -----  \n",
            " 0   id            24092 non-null  int64  \n",
            " 1   date.entered  24092 non-null  object \n",
            " 2   week          24092 non-null  object \n",
            " 3   rating        5307 non-null   float64\n",
            "dtypes: float64(1), int64(1), object(2)\n",
            "memory usage: 941.1+ KB\n"
          ],
          "name": "stdout"
        }
      ]
    },
    {
      "cell_type": "code",
      "metadata": {
        "colab": {
          "base_uri": "https://localhost:8080/"
        },
        "id": "IltUPLxKvL4J",
        "outputId": "c9120208-ca03-432e-91b8-9d57780ec282"
      },
      "source": [
        "billboard_songs.info()"
      ],
      "execution_count": 85,
      "outputs": [
        {
          "output_type": "stream",
          "text": [
            "<class 'pandas.core.frame.DataFrame'>\n",
            "Int64Index: 317 entries, 0 to 316\n",
            "Data columns (total 5 columns):\n",
            " #   Column  Non-Null Count  Dtype \n",
            "---  ------  --------------  ----- \n",
            " 0   year    317 non-null    int64 \n",
            " 1   artist  317 non-null    object\n",
            " 2   track   317 non-null    object\n",
            " 3   time    317 non-null    object\n",
            " 4   id      317 non-null    int64 \n",
            "dtypes: int64(2), object(3)\n",
            "memory usage: 14.9+ KB\n"
          ],
          "name": "stdout"
        }
      ]
    },
    {
      "cell_type": "markdown",
      "metadata": {
        "id": "1OBeWaWDTIPa"
      },
      "source": [
        "**New Concepts Learned:**\n",
        "- Shift tab can be used to obtain the path of the csv file\n",
        "- Type function can be especially useful when there is an error to be solved easily\n",
        "- Differentiating loc vs iloc as iloc obtains rows at particular positions\n",
        "- When subsetting with multiple conditions, each condition should be surrounded with round brackets individually\n",
        "- Differentiating between Long data vs. Wide data using the melt function that can transform certain columns into one for tidy dataset\n",
        "- Difference between pivot and pivot table because pivot function does not know how to handle duplicate values and you have to specify an aggregate function\n",
        "- Dropping duplicate values for storage purposes\n",
        "- Reset_index() resets the index of the new dataframe stored"
      ]
    }
  ]
}