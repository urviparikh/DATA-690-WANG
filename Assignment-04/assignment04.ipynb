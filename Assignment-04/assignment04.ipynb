{
  "nbformat": 4,
  "nbformat_minor": 0,
  "metadata": {
    "colab": {
      "name": "assign4.ipynb",
      "provenance": []
    },
    "kernelspec": {
      "name": "python3",
      "display_name": "Python 3"
    }
  },
  "cells": [
    {
      "cell_type": "markdown",
      "metadata": {
        "id": "__JtR-U9N2PM"
      },
      "source": [
        "#Assignment 04\n",
        "\n",
        "### Urvi Parikh\n"
      ]
    },
    {
      "cell_type": "markdown",
      "metadata": {
        "id": "PGHNq2T2NBi3"
      },
      "source": [
        "###1. Write code to open the text file census_cost.txt and read all lines into a list named \"line_list\". Print line_list.\n"
      ]
    },
    {
      "cell_type": "code",
      "metadata": {
        "colab": {
          "base_uri": "https://localhost:8080/"
        },
        "id": "WaW5p1fk9Jqz",
        "outputId": "e7eb3e2e-fc35-4fc7-c6f4-dc1faffbf86d"
      },
      "source": [
        "line_list= []\n",
        "\n",
        "with open(\"census_cost.txt\", \"rt\") as my_data:\n",
        "    census_data = my_data.readlines()\n",
        "for line in census_data:\n",
        "    line_list.append(line)\n",
        "print(line_list)"
      ],
      "execution_count": 1,
      "outputs": [
        {
          "output_type": "stream",
          "text": [
            "['Source: https://www.genealogybranches.com/censuscosts.html\\n', 'Census Year\\tTotal Population\\tCensus Cost\\tAverage Cost Per Person\\n', '1790\\t3,929,214\\t$44,377\\t1.13 cents\\n', '1800\\t5,308,483\\t$66,109\\t1.24 cents\\n', '1810\\t7,239,881\\t$178,445\\t2.46 cents\\n', '1820\\t9,633,822\\t$208,526\\t2.16 cents\\n', '1830\\t12,866,020\\t$378,545\\t2.94 cents\\n', '1840\\t17,069,458\\t$833,371\\t4.88 cents\\n', '1850\\t23,191,876\\t$1,423,351\\t6.14 cents\\n', '1860\\t31,443,321\\t$1,969,377\\t6.26 cents\\n', '1870\\t38,558,371\\t$3,421,198\\t8.87 cents\\n', '1880\\t50,155,783\\t$5,790,678\\t11.54 cents\\n', '1890\\t62,979,766\\t$11,547,127\\t18.33 cents\\n', '1900\\t76,303,387\\t$11,854,000\\t15.54 cents\\n', '1910\\t91,972,266\\t$15,968,000\\t17.07 cents\\n', '1920\\t105,710,620\\t$25,117,000\\t23.76 cents\\n', '1930\\t122,775,046\\t$40,156,000\\t32.71 cents\\n', '1940\\t131,669,275\\t$67,527,000\\t51.29 cents\\n', '1950\\t151,325,798\\t$91,462,000\\t60.44 cents\\n', '1960\\t179,323,175\\t$127,934,000\\t71.34 cents\\n', '1970\\t203,302,031\\t$247,653,000\\t$1.22\\n', '1980\\t226,542,199\\t$1,078,488,000\\t$4.76\\n', '1990\\t248,718,301\\t$2,492,830,000\\t$10.02\\n', '2000\\t281,421,906\\t$4.5 Billion\\t$15.99\\n', '2010*\\t308,745,538\\t$13 Billion\\t$42.11\\n']\n"
          ],
          "name": "stdout"
        }
      ]
    },
    {
      "cell_type": "code",
      "metadata": {
        "colab": {
          "base_uri": "https://localhost:8080/"
        },
        "id": "EE9N0LsVGPFF",
        "outputId": "d493f879-b79e-4da2-b684-9c94b89d8a5d"
      },
      "source": [
        "type(line_list)"
      ],
      "execution_count": 60,
      "outputs": [
        {
          "output_type": "execute_result",
          "data": {
            "text/plain": [
              "list"
            ]
          },
          "metadata": {
            "tags": []
          },
          "execution_count": 60
        }
      ]
    },
    {
      "cell_type": "markdown",
      "metadata": {
        "id": "8XJuH8Z5NKAa"
      },
      "source": [
        "###2. Extract the first two lines and put them in a different list named \"top2_list\". You will need to use them later. Print the top2_list.\n"
      ]
    },
    {
      "cell_type": "code",
      "metadata": {
        "colab": {
          "base_uri": "https://localhost:8080/"
        },
        "id": "d7yUGbUm-gVb",
        "outputId": "7363d20a-d7f3-4ed9-9358-c6f473bbec30"
      },
      "source": [
        "top2_list = line_list[:2]\n",
        "top2_list"
      ],
      "execution_count": 2,
      "outputs": [
        {
          "output_type": "execute_result",
          "data": {
            "text/plain": [
              "['Source: https://www.genealogybranches.com/censuscosts.html\\n',\n",
              " 'Census Year\\tTotal Population\\tCensus Cost\\tAverage Cost Per Person\\n']"
            ]
          },
          "metadata": {
            "tags": []
          },
          "execution_count": 2
        }
      ]
    },
    {
      "cell_type": "markdown",
      "metadata": {
        "id": "Xx0m1ThDNgG7"
      },
      "source": [
        "###3. Put the rest of the lines (containing useful data elements) in a new list named \"data_list\". Print data_list.\n"
      ]
    },
    {
      "cell_type": "code",
      "metadata": {
        "colab": {
          "base_uri": "https://localhost:8080/"
        },
        "id": "ae8ynu9j-qBv",
        "outputId": "907c14be-02b0-4372-fa08-cc4468105069"
      },
      "source": [
        "data_list = line_list[2:]\n",
        "data_list"
      ],
      "execution_count": 3,
      "outputs": [
        {
          "output_type": "execute_result",
          "data": {
            "text/plain": [
              "['1790\\t3,929,214\\t$44,377\\t1.13 cents\\n',\n",
              " '1800\\t5,308,483\\t$66,109\\t1.24 cents\\n',\n",
              " '1810\\t7,239,881\\t$178,445\\t2.46 cents\\n',\n",
              " '1820\\t9,633,822\\t$208,526\\t2.16 cents\\n',\n",
              " '1830\\t12,866,020\\t$378,545\\t2.94 cents\\n',\n",
              " '1840\\t17,069,458\\t$833,371\\t4.88 cents\\n',\n",
              " '1850\\t23,191,876\\t$1,423,351\\t6.14 cents\\n',\n",
              " '1860\\t31,443,321\\t$1,969,377\\t6.26 cents\\n',\n",
              " '1870\\t38,558,371\\t$3,421,198\\t8.87 cents\\n',\n",
              " '1880\\t50,155,783\\t$5,790,678\\t11.54 cents\\n',\n",
              " '1890\\t62,979,766\\t$11,547,127\\t18.33 cents\\n',\n",
              " '1900\\t76,303,387\\t$11,854,000\\t15.54 cents\\n',\n",
              " '1910\\t91,972,266\\t$15,968,000\\t17.07 cents\\n',\n",
              " '1920\\t105,710,620\\t$25,117,000\\t23.76 cents\\n',\n",
              " '1930\\t122,775,046\\t$40,156,000\\t32.71 cents\\n',\n",
              " '1940\\t131,669,275\\t$67,527,000\\t51.29 cents\\n',\n",
              " '1950\\t151,325,798\\t$91,462,000\\t60.44 cents\\n',\n",
              " '1960\\t179,323,175\\t$127,934,000\\t71.34 cents\\n',\n",
              " '1970\\t203,302,031\\t$247,653,000\\t$1.22\\n',\n",
              " '1980\\t226,542,199\\t$1,078,488,000\\t$4.76\\n',\n",
              " '1990\\t248,718,301\\t$2,492,830,000\\t$10.02\\n',\n",
              " '2000\\t281,421,906\\t$4.5 Billion\\t$15.99\\n',\n",
              " '2010*\\t308,745,538\\t$13 Billion\\t$42.11\\n']"
            ]
          },
          "metadata": {
            "tags": []
          },
          "execution_count": 3
        }
      ]
    },
    {
      "cell_type": "markdown",
      "metadata": {
        "id": "AQjavNI9Nurd"
      },
      "source": [
        "###4. Extract the column \"Census Year\" from data_list and assign them to a list named year_list. Remove the \"\" from the last element \"2010\". Print the cleansed year_list.\n"
      ]
    },
    {
      "cell_type": "code",
      "metadata": {
        "colab": {
          "base_uri": "https://localhost:8080/"
        },
        "id": "WYKrBCcA-2Pl",
        "outputId": "2a600cb3-9020-4dcb-a8e0-e6fe2b693962"
      },
      "source": [
        "my_year_list = []\n",
        "\n",
        "for i in data_list:\n",
        "    my_year_list.append(i.split(\"\\t\")[0].strip(\"*\"))\n",
        "\n",
        "year_list = [int(i) for i in my_year_list]\n",
        "\n",
        "year_list\n"
      ],
      "execution_count": 13,
      "outputs": [
        {
          "output_type": "execute_result",
          "data": {
            "text/plain": [
              "[1790,\n",
              " 1800,\n",
              " 1810,\n",
              " 1820,\n",
              " 1830,\n",
              " 1840,\n",
              " 1850,\n",
              " 1860,\n",
              " 1870,\n",
              " 1880,\n",
              " 1890,\n",
              " 1900,\n",
              " 1910,\n",
              " 1920,\n",
              " 1930,\n",
              " 1940,\n",
              " 1950,\n",
              " 1960,\n",
              " 1970,\n",
              " 1980,\n",
              " 1990,\n",
              " 2000,\n",
              " 2010]"
            ]
          },
          "metadata": {
            "tags": []
          },
          "execution_count": 13
        }
      ]
    },
    {
      "cell_type": "markdown",
      "metadata": {
        "id": "eA286zsEOjXi"
      },
      "source": [
        "###5. Extract the \"Total Population\" column from the data_list and assign them to a list named \"pop_list\". Remove the \",\" from the numbers since Python doesn't recognize them. Print the cleansed \"pop_list\"."
      ]
    },
    {
      "cell_type": "code",
      "metadata": {
        "colab": {
          "base_uri": "https://localhost:8080/"
        },
        "id": "R1I-Ouyj_hud",
        "outputId": "536840c0-ab89-4a36-bea6-85cac4d94ef6"
      },
      "source": [
        "my_pop_list = []\n",
        "\n",
        "for i in data_list:\n",
        "    my_pop_list.append(i.split(\"\\t\")[1].replace(\",\",\"\"))\n",
        "\n",
        "pop_list = [int(i) for i in my_pop_list]\n",
        "\n",
        "pop_list"
      ],
      "execution_count": 14,
      "outputs": [
        {
          "output_type": "execute_result",
          "data": {
            "text/plain": [
              "[3929214,\n",
              " 5308483,\n",
              " 7239881,\n",
              " 9633822,\n",
              " 12866020,\n",
              " 17069458,\n",
              " 23191876,\n",
              " 31443321,\n",
              " 38558371,\n",
              " 50155783,\n",
              " 62979766,\n",
              " 76303387,\n",
              " 91972266,\n",
              " 105710620,\n",
              " 122775046,\n",
              " 131669275,\n",
              " 151325798,\n",
              " 179323175,\n",
              " 203302031,\n",
              " 226542199,\n",
              " 248718301,\n",
              " 281421906,\n",
              " 308745538]"
            ]
          },
          "metadata": {
            "tags": []
          },
          "execution_count": 14
        }
      ]
    },
    {
      "cell_type": "markdown",
      "metadata": {
        "id": "IsD5aheYOzME"
      },
      "source": [
        "###6. Extract the \"Census Cost\" column from the data_list and assign them to a list named \"cost_list\". Remove the \",\", and \"$\", and \"Billion\". Make sure to add the \"0\"s to the numbers from which you removed \"Billion\". Print the cleansed cost_list."
      ]
    },
    {
      "cell_type": "code",
      "metadata": {
        "colab": {
          "base_uri": "https://localhost:8080/"
        },
        "id": "J0Cg6JBHA3cB",
        "outputId": "8847ec22-b94f-4289-e17b-4c5dbb3de563"
      },
      "source": [
        "my_cost_list = []\n",
        "\n",
        "for i in data_list:\n",
        "    \n",
        "    my_cost_list.append(i.split(\"\\t\")[2].replace(\",\",\"\").replace(\".\",\"\").strip(\"$\").replace(\" Billion\",\"000000000\"))\n",
        "\n",
        "cost_list = [int(i) for i in my_cost_list]\n",
        "\n",
        "cost_list"
      ],
      "execution_count": 15,
      "outputs": [
        {
          "output_type": "execute_result",
          "data": {
            "text/plain": [
              "[44377,\n",
              " 66109,\n",
              " 178445,\n",
              " 208526,\n",
              " 378545,\n",
              " 833371,\n",
              " 1423351,\n",
              " 1969377,\n",
              " 3421198,\n",
              " 5790678,\n",
              " 11547127,\n",
              " 11854000,\n",
              " 15968000,\n",
              " 25117000,\n",
              " 40156000,\n",
              " 67527000,\n",
              " 91462000,\n",
              " 127934000,\n",
              " 247653000,\n",
              " 1078488000,\n",
              " 2492830000,\n",
              " 45000000000,\n",
              " 13000000000]"
            ]
          },
          "metadata": {
            "tags": []
          },
          "execution_count": 15
        }
      ]
    },
    {
      "cell_type": "markdown",
      "metadata": {
        "id": "HTXqoGfcO8CO"
      },
      "source": [
        "###7. Extract the \"Average Cost per Person\" column from the data_list and assign them to a list named \"avg_list\". Remove the \"cents\", and \"$\". Make sure to divide the numbers in cents by 100 so that all numbers are measured in dollar. Print the cleansed avg_list."
      ]
    },
    {
      "cell_type": "code",
      "metadata": {
        "colab": {
          "base_uri": "https://localhost:8080/"
        },
        "id": "4ksgSwjNCg1k",
        "outputId": "ebd9899f-6b52-49d7-e83f-435677051d54"
      },
      "source": [
        "my_avg_list = []\n",
        "\n",
        "for i in data_list:\n",
        "\n",
        "    x = i.split(\"\\t\")[3].replace(\",\",\"\").replace(\" cents\",\"\").strip(\"\\n\")\n",
        "    if (x.find('$') == -1):\n",
        "        avg = str(float(x)/100)\n",
        "        \n",
        "    else:\n",
        "        avg = x.strip(\"$\")\n",
        "\n",
        "    my_avg_list.append(avg)\n",
        "\n",
        "unclean_avg_list = my_avg_list\n",
        "unclean_avg_list\n"
      ],
      "execution_count": 66,
      "outputs": [
        {
          "output_type": "execute_result",
          "data": {
            "text/plain": [
              "['0.0113',\n",
              " '0.0124',\n",
              " '0.0246',\n",
              " '0.0216',\n",
              " '0.0294',\n",
              " '0.048799999999999996',\n",
              " '0.061399999999999996',\n",
              " '0.0626',\n",
              " '0.08869999999999999',\n",
              " '0.11539999999999999',\n",
              " '0.1833',\n",
              " '0.15539999999999998',\n",
              " '0.1707',\n",
              " '0.2376',\n",
              " '0.3271',\n",
              " '0.5129',\n",
              " '0.6043999999999999',\n",
              " '0.7134',\n",
              " '1.22',\n",
              " '4.76',\n",
              " '10.02',\n",
              " '15.99',\n",
              " '42.11']"
            ]
          },
          "metadata": {
            "tags": []
          },
          "execution_count": 66
        }
      ]
    },
    {
      "cell_type": "code",
      "metadata": {
        "colab": {
          "base_uri": "https://localhost:8080/"
        },
        "id": "RJAzSf9lIp-z",
        "outputId": "c0541f64-3fe9-482e-c9f5-1b4459a09360"
      },
      "source": [
        "avg_list = []\n",
        "\n",
        "for i in unclean_avg_list:\n",
        "    avg_list.append(float(i))\n",
        "\n",
        "avg_list"
      ],
      "execution_count": 67,
      "outputs": [
        {
          "output_type": "execute_result",
          "data": {
            "text/plain": [
              "[0.0113,\n",
              " 0.0124,\n",
              " 0.0246,\n",
              " 0.0216,\n",
              " 0.0294,\n",
              " 0.048799999999999996,\n",
              " 0.061399999999999996,\n",
              " 0.0626,\n",
              " 0.08869999999999999,\n",
              " 0.11539999999999999,\n",
              " 0.1833,\n",
              " 0.15539999999999998,\n",
              " 0.1707,\n",
              " 0.2376,\n",
              " 0.3271,\n",
              " 0.5129,\n",
              " 0.6043999999999999,\n",
              " 0.7134,\n",
              " 1.22,\n",
              " 4.76,\n",
              " 10.02,\n",
              " 15.99,\n",
              " 42.11]"
            ]
          },
          "metadata": {
            "tags": []
          },
          "execution_count": 67
        }
      ]
    },
    {
      "cell_type": "markdown",
      "metadata": {
        "id": "0d_vga8OPFUK"
      },
      "source": [
        "###8. Coalesce the cleansed data and save them to a text file named \"census_cost.csv\". The new file should look similar to the original source file except that it is in comma-delimited format and the numbers have been cleansed. The top two lines from the original file should be retained in the new file."
      ]
    },
    {
      "cell_type": "code",
      "metadata": {
        "id": "ekwVTFG3Hht6"
      },
      "source": [
        "import csv\n",
        "\n",
        "\n",
        "rows = zip(year_list, pop_list, cost_list, avg_list)\n",
        "\n",
        "with open('census_cost.csv','w') as newfile:\n",
        "    writer = csv.writer(newfile)\n",
        "    #x= top2_list[1].split(\"\\t\")\n",
        "    writer.writerow(top2_list)\n",
        "    for row in rows:\n",
        "        writer.writerow(row)\n",
        "\n",
        "\n",
        "    \n"
      ],
      "execution_count": 80,
      "outputs": []
    },
    {
      "cell_type": "markdown",
      "metadata": {
        "id": "M9186KiTPQj5"
      },
      "source": [
        "###9. Open the newly-created file \"census_cost.csv\", read all lines and display them."
      ]
    },
    {
      "cell_type": "code",
      "metadata": {
        "colab": {
          "base_uri": "https://localhost:8080/"
        },
        "id": "zPNjH_HcKa_F",
        "outputId": "8298de91-5cb9-48ce-fe27-3950dd28a23d"
      },
      "source": [
        "with open('census_cost.csv','rt') as my_file:\n",
        "    my_csv_file = my_file.readlines()\n",
        "\n",
        "print(my_csv_file)"
      ],
      "execution_count": 81,
      "outputs": [
        {
          "output_type": "stream",
          "text": [
            "['\"Source: https://www.genealogybranches.com/censuscosts.html\\n', '\",\"Census Year\\tTotal Population\\tCensus Cost\\tAverage Cost Per Person\\n', '\"\\n', '1790,3929214,44377,0.0113\\n', '1800,5308483,66109,0.0124\\n', '1810,7239881,178445,0.0246\\n', '1820,9633822,208526,0.0216\\n', '1830,12866020,378545,0.0294\\n', '1840,17069458,833371,0.048799999999999996\\n', '1850,23191876,1423351,0.061399999999999996\\n', '1860,31443321,1969377,0.0626\\n', '1870,38558371,3421198,0.08869999999999999\\n', '1880,50155783,5790678,0.11539999999999999\\n', '1890,62979766,11547127,0.1833\\n', '1900,76303387,11854000,0.15539999999999998\\n', '1910,91972266,15968000,0.1707\\n', '1920,105710620,25117000,0.2376\\n', '1930,122775046,40156000,0.3271\\n', '1940,131669275,67527000,0.5129\\n', '1950,151325798,91462000,0.6043999999999999\\n', '1960,179323175,127934000,0.7134\\n', '1970,203302031,247653000,1.22\\n', '1980,226542199,1078488000,4.76\\n', '1990,248718301,2492830000,10.02\\n', '2000,281421906,45000000000,15.99\\n', '2010,308745538,13000000000,42.11\\n']\n"
          ],
          "name": "stdout"
        }
      ]
    },
    {
      "cell_type": "code",
      "metadata": {
        "colab": {
          "base_uri": "https://localhost:8080/"
        },
        "id": "mE5waNCpK3MF",
        "outputId": "774909ba-0a62-461e-d3f7-276a319568f6"
      },
      "source": [
        "for row in my_csv_file:\n",
        "    print(row)"
      ],
      "execution_count": 82,
      "outputs": [
        {
          "output_type": "stream",
          "text": [
            "\"Source: https://www.genealogybranches.com/censuscosts.html\n",
            "\n",
            "\",\"Census Year\tTotal Population\tCensus Cost\tAverage Cost Per Person\n",
            "\n",
            "\"\n",
            "\n",
            "1790,3929214,44377,0.0113\n",
            "\n",
            "1800,5308483,66109,0.0124\n",
            "\n",
            "1810,7239881,178445,0.0246\n",
            "\n",
            "1820,9633822,208526,0.0216\n",
            "\n",
            "1830,12866020,378545,0.0294\n",
            "\n",
            "1840,17069458,833371,0.048799999999999996\n",
            "\n",
            "1850,23191876,1423351,0.061399999999999996\n",
            "\n",
            "1860,31443321,1969377,0.0626\n",
            "\n",
            "1870,38558371,3421198,0.08869999999999999\n",
            "\n",
            "1880,50155783,5790678,0.11539999999999999\n",
            "\n",
            "1890,62979766,11547127,0.1833\n",
            "\n",
            "1900,76303387,11854000,0.15539999999999998\n",
            "\n",
            "1910,91972266,15968000,0.1707\n",
            "\n",
            "1920,105710620,25117000,0.2376\n",
            "\n",
            "1930,122775046,40156000,0.3271\n",
            "\n",
            "1940,131669275,67527000,0.5129\n",
            "\n",
            "1950,151325798,91462000,0.6043999999999999\n",
            "\n",
            "1960,179323175,127934000,0.7134\n",
            "\n",
            "1970,203302031,247653000,1.22\n",
            "\n",
            "1980,226542199,1078488000,4.76\n",
            "\n",
            "1990,248718301,2492830000,10.02\n",
            "\n",
            "2000,281421906,45000000000,15.99\n",
            "\n",
            "2010,308745538,13000000000,42.11\n",
            "\n"
          ],
          "name": "stdout"
        }
      ]
    }
  ]
}